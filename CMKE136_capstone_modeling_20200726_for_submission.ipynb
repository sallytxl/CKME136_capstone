{
 "cells": [
  {
   "cell_type": "markdown",
   "metadata": {},
   "source": [
    "# Capstone Project: Create a user authentification model for phone sensors\n",
    "\n",
    "In this project, I will analyze phone sensor data from build-in accelerator and gyroscopy and use supervised learning techniques to perform user authentification to discriminate user and imposter. The data were generated in the lab by Gary M. Weiss from \n",
    "Department of Computer and Information Science of Fordham University. Although it is not represent a real-life data, it will help us to establish the methods to analyze such dataset and project future use for larger dataset. "
   ]
  },
  {
   "cell_type": "code",
   "execution_count": 181,
   "metadata": {},
   "outputs": [],
   "source": [
    "# import libraries here\n",
    "import os\n",
    "import glob\n",
    "import pandas as pd\n",
    "import matplotlib.pyplot as plt\n",
    "import numpy as np\n",
    "import glob2\n",
    "import tsfel\n",
    "import random\n",
    "from time import gmtime, strftime\n",
    "from sklearn.model_selection import train_test_split\n",
    "from sklearn.naive_bayes import GaussianNB\n",
    "from sklearn.metrics import accuracy_score\n",
    "from sklearn.ensemble import RandomForestClassifier\n",
    "from sklearn.tree import DecisionTreeClassifier\n",
    "from sklearn.linear_model import LogisticRegression\n",
    "from sklearn.discriminant_analysis import LinearDiscriminantAnalysis\n",
    "from sklearn.neighbors import KNeighborsClassifier\n",
    "from sklearn.svm import SVC\n",
    "from sklearn.metrics import f1_score\n",
    "from sklearn import preprocessing\n",
    "from sklearn.preprocessing import StandardScaler\n",
    "from sklearn.decomposition import PCA\n",
    "from sklearn.svm import OneClassSVM"
   ]
  },
  {
   "cell_type": "markdown",
   "metadata": {},
   "source": [
    "### Step 1: Data organization\n",
    "Because raw data for each subject were saved as an individual file, here I combine raw data for each sensor for analysis"
   ]
  },
  {
   "cell_type": "code",
   "execution_count": 2,
   "metadata": {},
   "outputs": [],
   "source": [
    "# A function to combine all txt files in the folder\n",
    "def combine_txt(in_path, outfile_name, out_path):\n",
    "    os.chdir(in_path)\n",
    "    filenames = glob2.glob('*.txt') \n",
    "    with open(out_path + '/'+ outfile_name+'.txt', 'w') as f:\n",
    "        for file in filenames:\n",
    "            with open(file) as infile:\n",
    "                f.write(infile.read()+'\\n')     "
   ]
  },
  {
   "cell_type": "code",
   "execution_count": null,
   "metadata": {},
   "outputs": [],
   "source": [
    "#combine txt for phone accelorator data\n",
    "os.chdir('C:\\\\Users\\\\tongx\\\\Desktop\\\\sally_data_courses\\\\CKME136\\\\wisdm-dataset\\\\raw')\n",
    "in_path = ('./phone/accel')\n",
    "outfile_name = ('phone_accel')\n",
    "out_path = ('C:\\\\Users\\\\tongx\\\\Desktop\\\\sally_data_courses\\\\CKME136\\\\wisdm-dataset\\\\raw\\\\combined')\n",
    "combine_txt(in_path, outfile_name, out_path)"
   ]
  },
  {
   "cell_type": "code",
   "execution_count": null,
   "metadata": {},
   "outputs": [],
   "source": [
    "#combine txt for phone gyroscope data \n",
    "os.chdir('C:\\\\Users\\\\tongx\\\\Desktop\\\\sally_data_courses\\\\CKME136\\\\wisdm-dataset\\\\raw')\n",
    "in_path = ('./phone/gyro')\n",
    "outfile_name = ('phone_gyro')\n",
    "combine_txt(in_path, outfile_name, out_path)"
   ]
  },
  {
   "cell_type": "markdown",
   "metadata": {},
   "source": [
    "### Step 2: investigate data quanlity for each sensor"
   ]
  },
  {
   "cell_type": "code",
   "execution_count": 5,
   "metadata": {},
   "outputs": [],
   "source": [
    "# Define a function to summarize the balance of activity data in an output variable column\n",
    "def class_breakdown(data):\n",
    "    # convert the numpy array into a dataframe\n",
    "    df = pd.DataFrame(data)\n",
    "    # group data by the class value and calculate the number of rows\n",
    "    counts = df.groupby(['activity']).size()\n",
    "    # retrieve raw rows\n",
    "    counts = counts.values\n",
    "    # summarize\n",
    "    for i in range(len(counts)):\n",
    "        percent = counts[i] / len(df) * 100\n",
    "        print('Activity=%d, total=%d, percentage=%.3f' % (i+1, counts[i], percent))\n",
    " "
   ]
  },
  {
   "cell_type": "code",
   "execution_count": 47,
   "metadata": {},
   "outputs": [],
   "source": [
    "# define a function to subsest data for a specific activity\n",
    "def subset_data_for_activity(sub_dt, activity, axis):\n",
    "    # get row indexes for the subject id\n",
    "    ix = [i for i in range(len(sub_dt)) if sub_dt.iloc[i, 1]==activity]\n",
    "    # return the selected samples\n",
    "    return sub_dt[axis].iloc[ix]\n",
    "\n",
    "# plot histograms for multiple activities for one subject\n",
    "def plot_activity_histograms(sub_dt, n, axis):\n",
    "    plt.figure(figsize = (18.5, 20.5))\n",
    "    # get unique subjects\n",
    "    activities = sub_dt.activity.unique()\n",
    "    xaxis = None\n",
    "    for k in range(n):\n",
    "        activity_id = activities[k]\n",
    "        # get data for one subject\n",
    "        subX = subset_data_for_activity(sub_dt, activity_id, axis)\n",
    "        ax = plt.subplot(n, 1, k+1, sharex=xaxis)\n",
    "        #ax.set_xlim(-1,1)\n",
    "        plt.hist(subX, bins=100)\n",
    "    plt.show()"
   ]
  },
  {
   "cell_type": "code",
   "execution_count": 48,
   "metadata": {},
   "outputs": [],
   "source": [
    "#define a function to subset data for a specific subject\n",
    "def subset_data_for_subject(sub_dt, subjectID, axis):\n",
    "    # get row indexes for the subject id\n",
    "    ix = [i for i in range(len(sub_dt)) if sub_dt.iloc[i, 0]==subjectID]\n",
    "    # return the selected samples\n",
    "    return sub_dt[axis].iloc[ix]\n",
    "\n",
    "# plot histograms for a single activity for different subjects\n",
    "def plot_subject_histograms(sub_dt, n, axis):\n",
    "    plt.figure(figsize = (18.5, 20.5))\n",
    "    # get unique subjects\n",
    "    subjectIDs = sub_dt.subjectID.unique()\n",
    "    xaxis = None\n",
    "    for k in range(n):\n",
    "        subjectID = subjectIDs[k]\n",
    "        # get data for one subject\n",
    "        subX = subset_data_for_subject(sub_dt, subjectID, axis)\n",
    "        ax = plt.subplot(n, 1, k+1, sharex=xaxis)\n",
    "        #ax.set_xlim(-1,1)\n",
    "        plt.hist(subX, bins=100)\n",
    "    plt.show()"
   ]
  },
  {
   "cell_type": "code",
   "execution_count": 7,
   "metadata": {},
   "outputs": [],
   "source": [
    "# define a function to plot a histogram to see the districution each axis data\n",
    "def plot_axis_data(sub_dt, axis):\n",
    "    plt.figure(figsize=[6,4])\n",
    "    n, bins, patches = plt.hist(x=pl_dt[axis], bins=100, color='#0504aa',alpha=0.7, rwidth=0.85)\n",
    "    plt.grid(axis='y', alpha=0.75)\n",
    "    plt.xlabel('Value',fontsize=15)\n",
    "    plt.ylabel('Frequency',fontsize=15)\n",
    "    plt.xticks(fontsize=15)\n",
    "    plt.yticks(fontsize=15)\n",
    "    plt.ylabel('Frequency',fontsize=15)\n",
    "    plt.show()"
   ]
  },
  {
   "cell_type": "markdown",
   "metadata": {},
   "source": [
    "### 2.1 inspect phone accelerator data"
   ]
  },
  {
   "cell_type": "code",
   "execution_count": 25,
   "metadata": {},
   "outputs": [],
   "source": [
    "os.chdir('C:\\\\Users\\\\tongx\\\\Desktop\\\\sally_data_courses\\\\CKME136\\\\wisdm-dataset\\\\raw\\\\combined')\n",
    "phone_accel = pd.read_csv('phone_accel.txt', sep = ',', header = None)\n",
    "phone_accel.columns = ['subjectID', 'activity', 'timeStamp', 'x_axis', 'y_axis', 'z_axis']\n",
    "phone_accel.iloc[:,np.r_[5]] = phone_accel.iloc[:,np.r_[5]].replace(';',\"\", regex=True).astype(float)"
   ]
  },
  {
   "cell_type": "code",
   "execution_count": 26,
   "metadata": {
    "scrolled": true
   },
   "outputs": [
    {
     "name": "stdout",
     "output_type": "stream",
     "text": [
      "   subjectID activity        timeStamp    x_axis     y_axis    z_axis\n",
      "0       1600        A  252207666810782 -0.364761   8.793503  1.055084\n",
      "1       1600        A  252207717164786 -0.879730   9.768784  1.016998\n",
      "2       1600        A  252207767518790  2.001495  11.109070  2.619156\n",
      "3       1600        A  252207817872794  0.450623  12.651642  0.184555\n",
      "4       1600        A  252207868226798 -2.164352  13.928436 -4.422485\n"
     ]
    },
    {
     "data": {
      "text/plain": [
       "(2182596, 6)"
      ]
     },
     "execution_count": 26,
     "metadata": {},
     "output_type": "execute_result"
    }
   ],
   "source": [
    "print(phone_accel.head())\n",
    "phone_accel.shape"
   ]
  },
  {
   "cell_type": "code",
   "execution_count": 93,
   "metadata": {},
   "outputs": [
    {
     "data": {
      "text/html": [
       "<div>\n",
       "<style scoped>\n",
       "    .dataframe tbody tr th:only-of-type {\n",
       "        vertical-align: middle;\n",
       "    }\n",
       "\n",
       "    .dataframe tbody tr th {\n",
       "        vertical-align: top;\n",
       "    }\n",
       "\n",
       "    .dataframe thead th {\n",
       "        text-align: right;\n",
       "    }\n",
       "</style>\n",
       "<table border=\"1\" class=\"dataframe\">\n",
       "  <thead>\n",
       "    <tr style=\"text-align: right;\">\n",
       "      <th></th>\n",
       "      <th>subjectID</th>\n",
       "      <th>activity</th>\n",
       "      <th>timeStamp</th>\n",
       "      <th>x_axis</th>\n",
       "      <th>y_axis</th>\n",
       "      <th>z_axis</th>\n",
       "      <th>time_ms</th>\n",
       "    </tr>\n",
       "  </thead>\n",
       "  <tbody>\n",
       "    <tr>\n",
       "      <th>0</th>\n",
       "      <td>1600</td>\n",
       "      <td>A</td>\n",
       "      <td>252207666810782</td>\n",
       "      <td>-0.364761</td>\n",
       "      <td>8.793503</td>\n",
       "      <td>1.055084</td>\n",
       "      <td>1</td>\n",
       "    </tr>\n",
       "    <tr>\n",
       "      <th>1</th>\n",
       "      <td>1600</td>\n",
       "      <td>A</td>\n",
       "      <td>252207717164786</td>\n",
       "      <td>-0.879730</td>\n",
       "      <td>9.768784</td>\n",
       "      <td>1.016998</td>\n",
       "      <td>51</td>\n",
       "    </tr>\n",
       "    <tr>\n",
       "      <th>2</th>\n",
       "      <td>1600</td>\n",
       "      <td>A</td>\n",
       "      <td>252207767518790</td>\n",
       "      <td>2.001495</td>\n",
       "      <td>11.109070</td>\n",
       "      <td>2.619156</td>\n",
       "      <td>101</td>\n",
       "    </tr>\n",
       "    <tr>\n",
       "      <th>3</th>\n",
       "      <td>1600</td>\n",
       "      <td>A</td>\n",
       "      <td>252207817872794</td>\n",
       "      <td>0.450623</td>\n",
       "      <td>12.651642</td>\n",
       "      <td>0.184555</td>\n",
       "      <td>151</td>\n",
       "    </tr>\n",
       "    <tr>\n",
       "      <th>4</th>\n",
       "      <td>1600</td>\n",
       "      <td>A</td>\n",
       "      <td>252207868226798</td>\n",
       "      <td>-2.164352</td>\n",
       "      <td>13.928436</td>\n",
       "      <td>-4.422485</td>\n",
       "      <td>201</td>\n",
       "    </tr>\n",
       "  </tbody>\n",
       "</table>\n",
       "</div>"
      ],
      "text/plain": [
       "   subjectID activity        timeStamp    x_axis     y_axis    z_axis  time_ms\n",
       "0       1600        A  252207666810782 -0.364761   8.793503  1.055084        1\n",
       "1       1600        A  252207717164786 -0.879730   9.768784  1.016998       51\n",
       "2       1600        A  252207767518790  2.001495  11.109070  2.619156      101\n",
       "3       1600        A  252207817872794  0.450623  12.651642  0.184555      151\n",
       "4       1600        A  252207868226798 -2.164352  13.928436 -4.422485      201"
      ]
     },
     "execution_count": 93,
     "metadata": {},
     "output_type": "execute_result"
    }
   ],
   "source": [
    "phone_accel.head()"
   ]
  },
  {
   "cell_type": "code",
   "execution_count": 27,
   "metadata": {},
   "outputs": [
    {
     "data": {
      "text/plain": [
       "subjectID    0\n",
       "activity     0\n",
       "timeStamp    0\n",
       "x_axis       0\n",
       "y_axis       0\n",
       "z_axis       0\n",
       "dtype: int64"
      ]
     },
     "execution_count": 27,
     "metadata": {},
     "output_type": "execute_result"
    }
   ],
   "source": [
    "phone_accel.isnull().sum(axis = 0)"
   ]
  },
  {
   "cell_type": "markdown",
   "metadata": {},
   "source": [
    " #### Conclusion: The dataset is pretty clean as there is no NAN in each column; otherwise we may need to fill these missing values before move to the next step"
   ]
  },
  {
   "cell_type": "code",
   "execution_count": 28,
   "metadata": {
    "scrolled": true
   },
   "outputs": [
    {
     "name": "stdout",
     "output_type": "stream",
     "text": [
      "Activity=1, total=124037, percentage=5.683\n",
      "Activity=2, total=112608, percentage=5.159\n",
      "Activity=3, total=119601, percentage=5.480\n",
      "Activity=4, total=119639, percentage=5.482\n",
      "Activity=5, total=124735, percentage=5.715\n",
      "Activity=6, total=115811, percentage=5.306\n",
      "Activity=7, total=124669, percentage=5.712\n",
      "Activity=8, total=125557, percentage=5.753\n",
      "Activity=9, total=123999, percentage=5.681\n",
      "Activity=10, total=109444, percentage=5.014\n",
      "Activity=11, total=124111, percentage=5.686\n",
      "Activity=12, total=117353, percentage=5.377\n",
      "Activity=13, total=128373, percentage=5.882\n",
      "Activity=14, total=121324, percentage=5.559\n",
      "Activity=15, total=127470, percentage=5.840\n",
      "Activity=16, total=120700, percentage=5.530\n",
      "Activity=17, total=122866, percentage=5.629\n",
      "Activity=18, total=120299, percentage=5.512\n"
     ]
    }
   ],
   "source": [
    "# summarize the total records for each activity to see whether it is balanced.From the results below,\n",
    "# the percentage of data record for each activity is very close\n",
    "class_breakdown(phone_accel) "
   ]
  },
  {
   "cell_type": "markdown",
   "metadata": {},
   "source": [
    "### I tried to convert timestamp to readable time format, however, there seems something wrong with the timestamp. All data were converted to sometime in 1970, so I add another colun 'time_ms' to count the time (the data is collected every 50 ms, and ms is for milliseconds) ."
   ]
  },
  {
   "cell_type": "code",
   "execution_count": 29,
   "metadata": {},
   "outputs": [],
   "source": [
    "# something wrong with timeStamp, convert to milliseconds (ms)\n",
    "phone_accel['time_ms'] = range(1, 1 + len(phone_accel) * 50, 50)"
   ]
  },
  {
   "cell_type": "code",
   "execution_count": 30,
   "metadata": {},
   "outputs": [
    {
     "data": {
      "text/html": [
       "<div>\n",
       "<style scoped>\n",
       "    .dataframe tbody tr th:only-of-type {\n",
       "        vertical-align: middle;\n",
       "    }\n",
       "\n",
       "    .dataframe tbody tr th {\n",
       "        vertical-align: top;\n",
       "    }\n",
       "\n",
       "    .dataframe thead th {\n",
       "        text-align: right;\n",
       "    }\n",
       "</style>\n",
       "<table border=\"1\" class=\"dataframe\">\n",
       "  <thead>\n",
       "    <tr style=\"text-align: right;\">\n",
       "      <th></th>\n",
       "      <th>subjectID</th>\n",
       "      <th>activity</th>\n",
       "      <th>timeStamp</th>\n",
       "      <th>x_axis</th>\n",
       "      <th>y_axis</th>\n",
       "      <th>z_axis</th>\n",
       "      <th>time_ms</th>\n",
       "    </tr>\n",
       "  </thead>\n",
       "  <tbody>\n",
       "    <tr>\n",
       "      <th>0</th>\n",
       "      <td>1600</td>\n",
       "      <td>A</td>\n",
       "      <td>252207666810782</td>\n",
       "      <td>-0.364761</td>\n",
       "      <td>8.793503</td>\n",
       "      <td>1.055084</td>\n",
       "      <td>1</td>\n",
       "    </tr>\n",
       "    <tr>\n",
       "      <th>1</th>\n",
       "      <td>1600</td>\n",
       "      <td>A</td>\n",
       "      <td>252207717164786</td>\n",
       "      <td>-0.879730</td>\n",
       "      <td>9.768784</td>\n",
       "      <td>1.016998</td>\n",
       "      <td>51</td>\n",
       "    </tr>\n",
       "    <tr>\n",
       "      <th>2</th>\n",
       "      <td>1600</td>\n",
       "      <td>A</td>\n",
       "      <td>252207767518790</td>\n",
       "      <td>2.001495</td>\n",
       "      <td>11.109070</td>\n",
       "      <td>2.619156</td>\n",
       "      <td>101</td>\n",
       "    </tr>\n",
       "    <tr>\n",
       "      <th>3</th>\n",
       "      <td>1600</td>\n",
       "      <td>A</td>\n",
       "      <td>252207817872794</td>\n",
       "      <td>0.450623</td>\n",
       "      <td>12.651642</td>\n",
       "      <td>0.184555</td>\n",
       "      <td>151</td>\n",
       "    </tr>\n",
       "    <tr>\n",
       "      <th>4</th>\n",
       "      <td>1600</td>\n",
       "      <td>A</td>\n",
       "      <td>252207868226798</td>\n",
       "      <td>-2.164352</td>\n",
       "      <td>13.928436</td>\n",
       "      <td>-4.422485</td>\n",
       "      <td>201</td>\n",
       "    </tr>\n",
       "  </tbody>\n",
       "</table>\n",
       "</div>"
      ],
      "text/plain": [
       "   subjectID activity        timeStamp    x_axis     y_axis    z_axis  time_ms\n",
       "0       1600        A  252207666810782 -0.364761   8.793503  1.055084        1\n",
       "1       1600        A  252207717164786 -0.879730   9.768784  1.016998       51\n",
       "2       1600        A  252207767518790  2.001495  11.109070  2.619156      101\n",
       "3       1600        A  252207817872794  0.450623  12.651642  0.184555      151\n",
       "4       1600        A  252207868226798 -2.164352  13.928436 -4.422485      201"
      ]
     },
     "execution_count": 30,
     "metadata": {},
     "output_type": "execute_result"
    }
   ],
   "source": [
    "phone_accel.head()"
   ]
  },
  {
   "cell_type": "code",
   "execution_count": 31,
   "metadata": {
    "scrolled": false
   },
   "outputs": [
    {
     "data": {
      "text/plain": [
       "Text(0, 0.5, '')"
      ]
     },
     "execution_count": 31,
     "metadata": {},
     "output_type": "execute_result"
    },
    {
     "data": {
      "image/png": "[encoded data removed]",
      "text/plain": [
       "<Figure size 432x288 with 1 Axes>"
      ]
     },
     "metadata": {
      "needs_background": "light"
     },
     "output_type": "display_data"
    }
   ],
   "source": [
    "# choose phone accelerator data for subject 1600 to see the data distribution\n",
    "pl_dt = phone_accel[phone_accel['subjectID'] == 1600]\n",
    "plt.plot('time_ms', 'x_axis', data=pl_dt[1:1000])\n",
    "plt.xlabel('time (ms)')\n",
    "plt.ylabel('')"
   ]
  },
  {
   "cell_type": "code",
   "execution_count": 32,
   "metadata": {
    "scrolled": true
   },
   "outputs": [
    {
     "data": {
      "image/png": "[encoded data removed]",
      "text/plain": [
       "<Figure size 432x288 with 1 Axes>"
      ]
     },
     "metadata": {
      "needs_background": "light"
     },
     "output_type": "display_data"
    }
   ],
   "source": [
    "plot_axis_data(pl_dt, 'x_axis')"
   ]
  },
  {
   "cell_type": "code",
   "execution_count": 33,
   "metadata": {
    "scrolled": true
   },
   "outputs": [
    {
     "data": {
      "image/png": "[encoded data removed]",
      "text/plain": [
       "<Figure size 432x288 with 1 Axes>"
      ]
     },
     "metadata": {
      "needs_background": "light"
     },
     "output_type": "display_data"
    }
   ],
   "source": [
    "plot_axis_data(pl_dt, 'y_axis')"
   ]
  },
  {
   "cell_type": "code",
   "execution_count": 34,
   "metadata": {
    "scrolled": true
   },
   "outputs": [
    {
     "data": {
      "image/png": "[encoded data removed]",
      "text/plain": [
       "<Figure size 432x288 with 1 Axes>"
      ]
     },
     "metadata": {
      "needs_background": "light"
     },
     "output_type": "display_data"
    }
   ],
   "source": [
    "plot_axis_data(pl_dt, 'z_axis')"
   ]
  },
  {
   "cell_type": "markdown",
   "metadata": {},
   "source": [
    "### From the histograms above for x, y, z axis, we found that the data distribution is different; Most data of y axis is between 0-15, while data of x and y axises are between -5 and 5. "
   ]
  },
  {
   "cell_type": "markdown",
   "metadata": {},
   "source": [
    "### 2.2 inspect data for phone gyroscope"
   ]
  },
  {
   "cell_type": "code",
   "execution_count": 35,
   "metadata": {},
   "outputs": [],
   "source": [
    "phone_gyro = pd.read_csv('phone_gyro.txt', sep = ',', header = None)\n",
    "phone_gyro.columns = ['subjectID', 'activity', 'timeStamp', 'x_axis', 'y_axis', 'z_axis']\n",
    "phone_gyro.iloc[:,np.r_[5]] = phone_gyro.iloc[:,np.r_[5]].replace(';',\"\", regex=True).astype(float)"
   ]
  },
  {
   "cell_type": "code",
   "execution_count": 36,
   "metadata": {
    "scrolled": true
   },
   "outputs": [
    {
     "name": "stdout",
     "output_type": "stream",
     "text": [
      "   subjectID activity        timeStamp    x_axis    y_axis    z_axis\n",
      "0       1600        A  252207918580802 -0.853210  0.297226  0.890182\n",
      "1       1600        A  252207968934806 -0.875137  0.015472  0.162231\n",
      "2       1600        A  252208019288809 -0.720169  0.388489 -0.284012\n",
      "3       1600        A  252208069642813 -0.571640  1.227402 -0.241669\n",
      "4       1600        A  252208119996817 -0.380493  1.202835 -0.213135\n"
     ]
    },
    {
     "data": {
      "text/plain": [
       "(3608635, 6)"
      ]
     },
     "execution_count": 36,
     "metadata": {},
     "output_type": "execute_result"
    }
   ],
   "source": [
    "print(phone_gyro.head())\n",
    "phone_gyro.shape"
   ]
  },
  {
   "cell_type": "code",
   "execution_count": 37,
   "metadata": {},
   "outputs": [
    {
     "data": {
      "text/plain": [
       "subjectID    0\n",
       "activity     0\n",
       "timeStamp    0\n",
       "x_axis       0\n",
       "y_axis       0\n",
       "z_axis       0\n",
       "dtype: int64"
      ]
     },
     "execution_count": 37,
     "metadata": {},
     "output_type": "execute_result"
    }
   ],
   "source": [
    "phone_gyro.isnull().sum(axis = 0)"
   ]
  },
  {
   "cell_type": "code",
   "execution_count": 38,
   "metadata": {
    "scrolled": false
   },
   "outputs": [
    {
     "name": "stdout",
     "output_type": "stream",
     "text": [
      "Activity=1, total=203919, percentage=5.651\n",
      "Activity=2, total=200252, percentage=5.549\n",
      "Activity=3, total=197857, percentage=5.483\n",
      "Activity=4, total=202370, percentage=5.608\n",
      "Activity=5, total=202351, percentage=5.607\n",
      "Activity=6, total=194540, percentage=5.391\n",
      "Activity=7, total=202622, percentage=5.615\n",
      "Activity=8, total=202408, percentage=5.609\n",
      "Activity=9, total=197905, percentage=5.484\n",
      "Activity=10, total=197844, percentage=5.483\n",
      "Activity=11, total=202395, percentage=5.609\n",
      "Activity=12, total=197915, percentage=5.484\n",
      "Activity=13, total=202625, percentage=5.615\n",
      "Activity=14, total=198756, percentage=5.508\n",
      "Activity=15, total=202331, percentage=5.607\n",
      "Activity=16, total=197894, percentage=5.484\n",
      "Activity=17, total=202330, percentage=5.607\n",
      "Activity=18, total=202321, percentage=5.607\n"
     ]
    }
   ],
   "source": [
    "# summarize the total records for each activity to see whether it is balanced.From the results below,\n",
    "# the percentage of data record for each activity is very close\n",
    "class_breakdown(phone_gyro) "
   ]
  },
  {
   "cell_type": "code",
   "execution_count": 40,
   "metadata": {},
   "outputs": [],
   "source": [
    "# something wrong with timeStamp, convert to milliseconds (ms)\n",
    "phone_gyro['time_ms'] = range(1, 1 + len(phone_gyro) * 50, 50)"
   ]
  },
  {
   "cell_type": "code",
   "execution_count": 41,
   "metadata": {},
   "outputs": [
    {
     "data": {
      "text/plain": [
       "Text(0, 0.5, '')"
      ]
     },
     "execution_count": 41,
     "metadata": {},
     "output_type": "execute_result"
    },
    {
     "data": {
      "image/png": "[encoded data removed]",
      "text/plain": [
       "<Figure size 432x288 with 1 Axes>"
      ]
     },
     "metadata": {
      "needs_background": "light"
     },
     "output_type": "display_data"
    }
   ],
   "source": [
    "# choose phone accelerator data for subject 1600 to see the data distribution\n",
    "pl_dt = phone_gyro[phone_gyro['subjectID'] == 1600]\n",
    "plt.plot('time_ms', 'x_axis', data=pl_dt[1:1000])\n",
    "plt.xlabel('time (ms)')\n",
    "plt.ylabel('')"
   ]
  },
  {
   "cell_type": "code",
   "execution_count": 42,
   "metadata": {},
   "outputs": [
    {
     "data": {
      "image/png": "[encoded data removed]",
      "text/plain": [
       "<Figure size 432x288 with 1 Axes>"
      ]
     },
     "metadata": {
      "needs_background": "light"
     },
     "output_type": "display_data"
    }
   ],
   "source": [
    "plot_axis_data(pl_dt, 'x_axis')"
   ]
  },
  {
   "cell_type": "code",
   "execution_count": 43,
   "metadata": {
    "scrolled": true
   },
   "outputs": [
    {
     "data": {
      "image/png": "[encoded data removed]",
      "text/plain": [
       "<Figure size 432x288 with 1 Axes>"
      ]
     },
     "metadata": {
      "needs_background": "light"
     },
     "output_type": "display_data"
    }
   ],
   "source": [
    "plot_axis_data(pl_dt, 'y_axis')"
   ]
  },
  {
   "cell_type": "code",
   "execution_count": 45,
   "metadata": {},
   "outputs": [
    {
     "data": {
      "image/png": "[encoded data removed]",
      "text/plain": [
       "<Figure size 432x288 with 1 Axes>"
      ]
     },
     "metadata": {
      "needs_background": "light"
     },
     "output_type": "display_data"
    }
   ],
   "source": [
    "plot_axis_data(pl_dt, 'z_axis')"
   ]
  },
  {
   "cell_type": "markdown",
   "metadata": {},
   "source": [
    "#### From the histograms above for x, y, z axis, we found that the phone gyroscope data are squeezed to a range around 0. "
   ]
  },
  {
   "cell_type": "markdown",
   "metadata": {},
   "source": [
    "### 2.3 To show x axis data for 18 activities for subject 1600"
   ]
  },
  {
   "cell_type": "code",
   "execution_count": 49,
   "metadata": {},
   "outputs": [
    {
     "data": {
      "image/png": "[encoded data removed]",
      "text/plain": [
       "<Figure size 1332x1476 with 18 Axes>"
      ]
     },
     "metadata": {
      "needs_background": "light"
     },
     "output_type": "display_data"
    }
   ],
   "source": [
    "plot_activity_histograms(pl_dt, 18, 'x_axis')"
   ]
  },
  {
   "cell_type": "markdown",
   "metadata": {},
   "source": [
    "### 2.4 To show the data distribution for each activity for subject 1600"
   ]
  },
  {
   "cell_type": "code",
   "execution_count": 50,
   "metadata": {},
   "outputs": [],
   "source": [
    "pl_dt = phone_accel[phone_accel['activity'] == \"A\"]"
   ]
  },
  {
   "cell_type": "code",
   "execution_count": 51,
   "metadata": {},
   "outputs": [
    {
     "data": {
      "image/png": "[encoded data removed]",
      "text/plain": [
       "<Figure size 1332x1476 with 10 Axes>"
      ]
     },
     "metadata": {
      "needs_background": "light"
     },
     "output_type": "display_data"
    }
   ],
   "source": [
    "plot_subject_histograms(pl_dt, 10, 'x_axis')"
   ]
  },
  {
   "cell_type": "markdown",
   "metadata": {},
   "source": [
    "### 3. Reduce the noise of the data using moving average filter, and the signal in the first and the last 5 seconds were removed"
   ]
  },
  {
   "cell_type": "code",
   "execution_count": 2,
   "metadata": {},
   "outputs": [
    {
     "data": {
      "text/plain": [
       "(4804403, 6)"
      ]
     },
     "execution_count": 2,
     "metadata": {},
     "output_type": "execute_result"
    }
   ],
   "source": [
    "#os.chdir('C:\\\\Users\\\\tongx\\\\Desktop\\\\sally_data_courses\\\\CKME136\\\\wisdm-dataset\\\\raw\\\\combined')\n",
    "os.chdir('C:\\\\Users\\\\ZZJ\\\\Desktop\\\\CMKE136')\n",
    "\n",
    "#read in phone accelerator data and rename the columns\n",
    "phone_accel = pd.read_csv('phone_accel.txt', sep = ',', header = None)\n",
    "phone_accel.columns = ['subjectID', 'activity', 'timeStamp', 'phone_accel_x', 'phone_accel_y', 'phone_accel_z']\n",
    "#phone_accel['source'] = 'phone_accel'\n",
    "phone_accel.shape"
   ]
  },
  {
   "cell_type": "code",
   "execution_count": 3,
   "metadata": {},
   "outputs": [
    {
     "data": {
      "text/plain": [
       "(3608635, 6)"
      ]
     },
     "execution_count": 3,
     "metadata": {},
     "output_type": "execute_result"
    }
   ],
   "source": [
    "#read in phone gyroscope data and rename the columns\n",
    "phone_gyro = pd.read_csv('phone_gyro.txt', sep = ',', header = None)\n",
    "phone_gyro.columns = ['subjectID', 'activity', 'timeStamp', 'phone_gyro_x', 'phone_gyro_y', 'phone_gyro_z']\n",
    "#phone_gyro['source'] = 'phone_gyro'\n",
    "phone_gyro.shape"
   ]
  },
  {
   "cell_type": "code",
   "execution_count": 4,
   "metadata": {},
   "outputs": [],
   "source": [
    "#Because the phone accelerator and gyroscope data are acquired at the same time, so merge these two dataframes need to match the subjectID, activity and timestamp\n",
    "phone_data = pd.merge(phone_accel, phone_gyro, on = ['subjectID', 'activity', 'timeStamp']) #merge two dataframes\n",
    "phone_data.iloc[:,np.r_[5,8]] = phone_data.iloc[:,np.r_[5,8]].replace(';',\"\", regex=True).astype(float) #remove \";\" at the end of each row\n"
   ]
  },
  {
   "cell_type": "code",
   "execution_count": 36,
   "metadata": {},
   "outputs": [
    {
     "data": {
      "text/plain": [
       "(3569, 9)"
      ]
     },
     "execution_count": 36,
     "metadata": {},
     "output_type": "execute_result"
    }
   ],
   "source": [
    "#inspect the data quantity for a specific subject and activity\n",
    "phone_data[(phone_data['activity'] == 'B') & (phone_data['subjectID'] == 1600)].shape"
   ]
  },
  {
   "cell_type": "code",
   "execution_count": 49,
   "metadata": {},
   "outputs": [],
   "source": [
    "# Define a function to apply moving average filter to reduce the noise \n",
    "def denoise_filter(data, activities):\n",
    "    start_time = time.time()\n",
    "    data_denoised = pd.DataFrame([])\n",
    "    \n",
    "    #get unique subject ID\n",
    "    subjects = data.iloc[:, 0].unique()\n",
    "    print(subjects.shape)\n",
    "    \n",
    "    #Step 1: apply denoosing step to each activity in each subject\n",
    "    for subject in subjects:\n",
    "        for activity in activities:\n",
    "            data_sub = data[(data['activity'] == activity) & (data['subjectID'] == subject)]\n",
    "            nrow = data_sub.shape[0]\n",
    "\n",
    "            for i in range(1, nrow-2):\n",
    "                data_sub['phone_accel_x_denoise'] = data_sub.iloc[:,3].rolling(window=3).mean().round(5)\n",
    "                data_sub['phone_accel_y_denoise'] = data_sub.iloc[:,4].rolling(window=3).mean().round(5)\n",
    "                data_sub['phone_accel_z_denoise'] = data_sub.iloc[:,5].rolling(window=3).mean().round(5)\n",
    "                data_sub['phone_gyro_x_denoise'] = data_sub.iloc[:,6].rolling(window=3).mean().round(5)\n",
    "                data_sub['phone_gyro_y_denoise'] = data_sub.iloc[:,7].rolling(window=3).mean().round(5)\n",
    "                data_sub['phone_gyro_z_denoise'] = data_sub.iloc[:,8].rolling(window=3).mean().round(5)\n",
    "\n",
    "\n",
    "            #step 2: remove the records of the first and the last 5 seconds from the data\n",
    "            data_sub = data_sub.iloc[100:(data_sub.shape[0]-100),:]\n",
    "\n",
    "            #step 3: append the filtered data to new dataframe\n",
    "            data_denoised = data_denoised.append(data_sub)\n",
    "            #print(data_denoised.shape)\n",
    "    print(time.time() - start_time)  #calculate processing time   \n",
    "    return data_denoised\n"
   ]
  },
  {
   "cell_type": "code",
   "execution_count": 45,
   "metadata": {},
   "outputs": [
    {
     "data": {
      "text/plain": [
       "(763572, 9)"
      ]
     },
     "execution_count": 45,
     "metadata": {},
     "output_type": "execute_result"
    }
   ],
   "source": [
    "# I found that some activities, such sitting and writing have very flat signals recorded by cell phone, also because it takes really\n",
    "# long time to process all activities, to simplify the process, I choose 5 activities that might have stronger signal flunctuation.\n",
    "activities = ['A', 'B', 'C', 'O', 'P']\n",
    "phone_data_sub = phone_data[phone_data['activity'].isin(activities)]\n",
    "phone_data_sub.shape"
   ]
  },
  {
   "cell_type": "code",
   "execution_count": 47,
   "metadata": {},
   "outputs": [
    {
     "data": {
      "text/plain": [
       "(2909149, 9)"
      ]
     },
     "execution_count": 47,
     "metadata": {},
     "output_type": "execute_result"
    }
   ],
   "source": [
    "phone_data.shape"
   ]
  },
  {
   "cell_type": "code",
   "execution_count": 50,
   "metadata": {
    "scrolled": false
   },
   "outputs": [
    {
     "name": "stdout",
     "output_type": "stream",
     "text": [
      "(50,)\n"
     ]
    },
    {
     "name": "stderr",
     "output_type": "stream",
     "text": [
      "E:\\anaconda\\lib\\site-packages\\ipykernel_launcher.py:37: SettingWithCopyWarning: \n",
      "A value is trying to be set on a copy of a slice from a DataFrame.\n",
      "Try using .loc[row_indexer,col_indexer] = value instead\n",
      "\n",
      "See the caveats in the documentation: https://pandas.pydata.org/pandas-docs/stable/user_guide/indexing.html#returning-a-view-versus-a-copy\n",
      "E:\\anaconda\\lib\\site-packages\\ipykernel_launcher.py:38: SettingWithCopyWarning: \n",
      "A value is trying to be set on a copy of a slice from a DataFrame.\n",
      "Try using .loc[row_indexer,col_indexer] = value instead\n",
      "\n",
      "See the caveats in the documentation: https://pandas.pydata.org/pandas-docs/stable/user_guide/indexing.html#returning-a-view-versus-a-copy\n",
      "E:\\anaconda\\lib\\site-packages\\ipykernel_launcher.py:39: SettingWithCopyWarning: \n",
      "A value is trying to be set on a copy of a slice from a DataFrame.\n",
      "Try using .loc[row_indexer,col_indexer] = value instead\n",
      "\n",
      "See the caveats in the documentation: https://pandas.pydata.org/pandas-docs/stable/user_guide/indexing.html#returning-a-view-versus-a-copy\n",
      "E:\\anaconda\\lib\\site-packages\\ipykernel_launcher.py:40: SettingWithCopyWarning: \n",
      "A value is trying to be set on a copy of a slice from a DataFrame.\n",
      "Try using .loc[row_indexer,col_indexer] = value instead\n",
      "\n",
      "See the caveats in the documentation: https://pandas.pydata.org/pandas-docs/stable/user_guide/indexing.html#returning-a-view-versus-a-copy\n",
      "E:\\anaconda\\lib\\site-packages\\ipykernel_launcher.py:41: SettingWithCopyWarning: \n",
      "A value is trying to be set on a copy of a slice from a DataFrame.\n",
      "Try using .loc[row_indexer,col_indexer] = value instead\n",
      "\n",
      "See the caveats in the documentation: https://pandas.pydata.org/pandas-docs/stable/user_guide/indexing.html#returning-a-view-versus-a-copy\n",
      "E:\\anaconda\\lib\\site-packages\\ipykernel_launcher.py:42: SettingWithCopyWarning: \n",
      "A value is trying to be set on a copy of a slice from a DataFrame.\n",
      "Try using .loc[row_indexer,col_indexer] = value instead\n",
      "\n",
      "See the caveats in the documentation: https://pandas.pydata.org/pandas-docs/stable/user_guide/indexing.html#returning-a-view-versus-a-copy\n"
     ]
    },
    {
     "name": "stdout",
     "output_type": "stream",
     "text": [
      "5045.123564481735\n"
     ]
    }
   ],
   "source": [
    "#apply denoise step to the data\n",
    "phone_data_denoised = denoise_filter(phone_data_sub, activities)"
   ]
  },
  {
   "cell_type": "code",
   "execution_count": 51,
   "metadata": {},
   "outputs": [
    {
     "data": {
      "text/plain": [
       "(722405, 15)"
      ]
     },
     "execution_count": 51,
     "metadata": {},
     "output_type": "execute_result"
    }
   ],
   "source": [
    "phone_data_denoised.shape"
   ]
  },
  {
   "cell_type": "code",
   "execution_count": 53,
   "metadata": {},
   "outputs": [],
   "source": [
    "#write the data into a csv file\n",
    "phone_data_denoised.to_csv('phone_data_denoised.csv', sep = ',')"
   ]
  },
  {
   "cell_type": "markdown",
   "metadata": {},
   "source": [
    "### Step 4: Feature extraction"
   ]
  },
  {
   "cell_type": "code",
   "execution_count": 83,
   "metadata": {},
   "outputs": [],
   "source": [
    "# Define a function to do feature extraction for each activity in each individual\n",
    "def feature_extraction(data):\n",
    "    data_feature_extracted = pd.DataFrame([])\n",
    "    activities = data.iloc[:, 1].unique()\n",
    "    print(activities)\n",
    "    #activities = ['A', 'B', 'C', 'O', 'P']\n",
    "    subjects = data.iloc[:, 0].unique()\n",
    "    print(subjects.shape)\n",
    "    i = 0\n",
    "    for subject in subjects:\n",
    "        #data_sub = data[data.iloc[:, 0] == subject]\n",
    "    # loop over each activity\n",
    "        for activity in activities:\n",
    "            data_sub = data[(data['activity'] == activity) & (data['subjectID'] == subject)].iloc[:, 9:15]\n",
    "            print(data_sub.head(1))\n",
    "            data_sub[data_sub == 0] = 0.001\n",
    "            print(data_sub.eq(0).any().any())\n",
    "\n",
    "            # feature extraction by functions in tsfel package\n",
    "            features = tsfel.get_features_by_domain()                                                                               \n",
    "            try:\n",
    "                data_sub_features = tsfel.time_series_features_extractor(features, data_sub, window_size=200, window_spliter=True, overlap=0.5, fs = 20)\n",
    "            except:\n",
    "                print(\"Unexpected error, ignore it...\")\n",
    "                i = i+1\n",
    "\n",
    "            data_sub_features['activity'] = activity\n",
    "            data_sub_features['subjectID'] = subject\n",
    "            \n",
    "            data_feature_extracted = data_feature_extracted.append(data_sub_features)\n",
    "        print(i) #calculate how many error messages\n",
    "\n",
    "    return data_feature_extracted"
   ]
  },
  {
   "cell_type": "code",
   "execution_count": 86,
   "metadata": {
    "scrolled": true
   },
   "outputs": [
    {
     "name": "stdout",
     "output_type": "stream",
     "text": [
      "['A' 'B' 'C' 'O' 'P']\n",
      "(50,)\n",
      "     phone_accel_x_denoise  phone_accel_y_denoise  phone_accel_z_denoise  \\\n",
      "100               -3.62201               14.18464               -3.23027   \n",
      "\n",
      "     phone_gyro_x_denoise  phone_gyro_y_denoise  phone_gyro_z_denoise  \n",
      "100              -0.07976              -0.12068               0.67332  \n",
      "False\n",
      "*** Feature extraction started ***\n"
     ]
    },
    {
     "data": {
      "text/html": [
       "\n",
       "              <p>\n",
       "                  Progress: 100% Complete\n",
       "              <p/>            \n",
       "              <progress\n",
       "                  value='32'\n",
       "                  max='32',\n",
       "                  style='width: 25%',\n",
       "              >\n",
       "                  32\n",
       "              </progress>\n",
       "\n",
       "    "
      ],
      "text/plain": [
       "<IPython.core.display.HTML object>"
      ]
     },
     "metadata": {},
     "output_type": "display_data"
    },
    {
     "name": "stdout",
     "output_type": "stream",
     "text": [
      "\n",
      "*** Feature extraction finished ***\n",
      "      phone_accel_x_denoise  phone_accel_y_denoise  phone_accel_z_denoise  \\\n",
      "3669               -0.36569                4.65731               -0.42146   \n",
      "\n",
      "      phone_gyro_x_denoise  phone_gyro_y_denoise  phone_gyro_z_denoise  \n",
      "3669               0.24834               0.04584                0.1021  \n",
      "False\n",
      "*** Feature extraction started ***\n"
     ]
    },
    {
     "data": {
      "text/html": [
       "\n",
       "              <p>\n",
       "                  Progress: 100% Complete\n",
       "              <p/>            \n",
       "              <progress\n",
       "                  value='32'\n",
       "                  max='32',\n",
       "                  style='width: 25%',\n",
       "              >\n",
       "                  32\n",
       "              </progress>\n",
       "\n",
       "    "
      ],
      "text/plain": [
       "<IPython.core.display.HTML object>"
      ]
     },
     "metadata": {},
     "output_type": "display_data"
    },
    {
     "name": "stdout",
     "output_type": "stream",
     "text": [
      "\n",
      "*** Feature extraction finished ***\n",
      "      phone_accel_x_denoise  phone_accel_y_denoise  phone_accel_z_denoise  \\\n",
      "7238               -1.37274                7.25575                0.10026   \n",
      "\n",
      "      phone_gyro_x_denoise  phone_gyro_y_denoise  phone_gyro_z_denoise  \n",
      "7238              -0.06782               0.47606              -0.25333  \n",
      "False\n",
      "*** Feature extraction started ***\n"
     ]
    },
    {
     "data": {
      "text/html": [
       "\n",
       "              <p>\n",
       "                  Progress: 100% Complete\n",
       "              <p/>            \n",
       "              <progress\n",
       "                  value='32'\n",
       "                  max='32',\n",
       "                  style='width: 25%',\n",
       "              >\n",
       "                  32\n",
       "              </progress>\n",
       "\n",
       "    "
      ],
      "text/plain": [
       "<IPython.core.display.HTML object>"
      ]
     },
     "metadata": {},
     "output_type": "display_data"
    },
    {
     "name": "stdout",
     "output_type": "stream",
     "text": [
      "\n",
      "*** Feature extraction finished ***\n",
      "       phone_accel_x_denoise  phone_accel_y_denoise  phone_accel_z_denoise  \\\n",
      "46492               -1.57431               11.32278               -1.46742   \n",
      "\n",
      "       phone_gyro_x_denoise  phone_gyro_y_denoise  phone_gyro_z_denoise  \n",
      "46492              -0.38852                1.3368              -0.20365  \n",
      "False\n",
      "*** Feature extraction started ***\n"
     ]
    },
    {
     "data": {
      "text/html": [
       "\n",
       "              <p>\n",
       "                  Progress: 100% Complete\n",
       "              <p/>            \n",
       "              <progress\n",
       "                  value='32'\n",
       "                  max='32',\n",
       "                  style='width: 25%',\n",
       "              >\n",
       "                  32\n",
       "              </progress>\n",
       "\n",
       "    "
      ],
      "text/plain": [
       "<IPython.core.display.HTML object>"
      ]
     },
     "metadata": {},
     "output_type": "display_data"
    },
    {
     "name": "stdout",
     "output_type": "stream",
     "text": [
      "\n",
      "*** Feature extraction finished ***\n",
      "       phone_accel_x_denoise  phone_accel_y_denoise  phone_accel_z_denoise  \\\n",
      "50061               -0.50576                9.87118                0.78517   \n",
      "\n",
      "       phone_gyro_x_denoise  phone_gyro_y_denoise  phone_gyro_z_denoise  \n",
      "50061              -0.12104               0.13813              -0.01396  \n",
      "False\n",
      "*** Feature extraction started ***\n"
     ]
    },
    {
     "data": {
      "text/html": [
       "\n",
       "              <p>\n",
       "                  Progress: 100% Complete\n",
       "              <p/>            \n",
       "              <progress\n",
       "                  value='32'\n",
       "                  max='32',\n",
       "                  style='width: 25%',\n",
       "              >\n",
       "                  32\n",
       "              </progress>\n",
       "\n",
       "    "
      ],
      "text/plain": [
       "<IPython.core.display.HTML object>"
      ]
     },
     "metadata": {},
     "output_type": "display_data"
    },
    {
     "name": "stdout",
     "output_type": "stream",
     "text": [
      "\n",
      "*** Feature extraction finished ***\n",
      "0\n",
      "       phone_accel_x_denoise  phone_accel_y_denoise  phone_accel_z_denoise  \\\n",
      "64338                2.90896               12.39458                8.84358   \n",
      "\n",
      "       phone_gyro_x_denoise  phone_gyro_y_denoise  phone_gyro_z_denoise  \n",
      "64338              -0.14017              -1.11329              -0.02432  \n",
      "False\n",
      "*** Feature extraction started ***\n"
     ]
    },
    {
     "data": {
      "text/html": [
       "\n",
       "              <p>\n",
       "                  Progress: 100% Complete\n",
       "              <p/>            \n",
       "              <progress\n",
       "                  value='42'\n",
       "                  max='42',\n",
       "                  style='width: 25%',\n",
       "              >\n",
       "                  42\n",
       "              </progress>\n",
       "\n",
       "    "
      ],
      "text/plain": [
       "<IPython.core.display.HTML object>"
      ]
     },
     "metadata": {},
     "output_type": "display_data"
    },
    {
     "name": "stdout",
     "output_type": "stream",
     "text": [
      "\n",
      "*** Feature extraction finished ***\n",
      "       phone_accel_x_denoise  phone_accel_y_denoise  phone_accel_z_denoise  \\\n",
      "68850                 2.3543                -6.4827                -4.0466   \n",
      "\n",
      "       phone_gyro_x_denoise  phone_gyro_y_denoise  phone_gyro_z_denoise  \n",
      "68850               0.19681              -1.99986               0.73858  \n",
      "False\n",
      "*** Feature extraction started ***\n"
     ]
    },
    {
     "data": {
      "text/html": [
       "\n",
       "              <p>\n",
       "                  Progress: 100% Complete\n",
       "              <p/>            \n",
       "              <progress\n",
       "                  value='42'\n",
       "                  max='42',\n",
       "                  style='width: 25%',\n",
       "              >\n",
       "                  42\n",
       "              </progress>\n",
       "\n",
       "    "
      ],
      "text/plain": [
       "<IPython.core.display.HTML object>"
      ]
     },
     "metadata": {},
     "output_type": "display_data"
    },
    {
     "name": "stdout",
     "output_type": "stream",
     "text": [
      "\n",
      "*** Feature extraction finished ***\n",
      "       phone_accel_x_denoise  phone_accel_y_denoise  phone_accel_z_denoise  \\\n",
      "73360                1.84473               -9.89863               -0.44233   \n",
      "\n",
      "       phone_gyro_x_denoise  phone_gyro_y_denoise  phone_gyro_z_denoise  \n",
      "73360              -1.23855               -2.2928                0.7867  \n",
      "False\n",
      "*** Feature extraction started ***\n"
     ]
    },
    {
     "data": {
      "text/html": [
       "\n",
       "              <p>\n",
       "                  Progress: 100% Complete\n",
       "              <p/>            \n",
       "              <progress\n",
       "                  value='42'\n",
       "                  max='42',\n",
       "                  style='width: 25%',\n",
       "              >\n",
       "                  42\n",
       "              </progress>\n",
       "\n",
       "    "
      ],
      "text/plain": [
       "<IPython.core.display.HTML object>"
      ]
     },
     "metadata": {},
     "output_type": "display_data"
    },
    {
     "name": "stdout",
     "output_type": "stream",
     "text": [
      "\n",
      "*** Feature extraction finished ***\n",
      "        phone_accel_x_denoise  phone_accel_y_denoise  phone_accel_z_denoise  \\\n",
      "122975                3.48157                9.60454                3.16015   \n",
      "\n",
      "        phone_gyro_x_denoise  phone_gyro_y_denoise  phone_gyro_z_denoise  \n",
      "122975              -0.07839               0.51887              -0.37373  \n",
      "False\n",
      "*** Feature extraction started ***\n"
     ]
    },
    {
     "data": {
      "text/html": [
       "\n",
       "              <p>\n",
       "                  Progress: 100% Complete\n",
       "              <p/>            \n",
       "              <progress\n",
       "                  value='42'\n",
       "                  max='42',\n",
       "                  style='width: 25%',\n",
       "              >\n",
       "                  42\n",
       "              </progress>\n",
       "\n",
       "    "
      ],
      "text/plain": [
       "<IPython.core.display.HTML object>"
      ]
     },
     "metadata": {},
     "output_type": "display_data"
    },
    {
     "name": "stdout",
     "output_type": "stream",
     "text": [
      "\n",
      "*** Feature extraction finished ***\n",
      "        phone_accel_x_denoise  phone_accel_y_denoise  phone_accel_z_denoise  \\\n",
      "127485                5.30196                8.52196                0.84056   \n",
      "\n",
      "        phone_gyro_x_denoise  phone_gyro_y_denoise  phone_gyro_z_denoise  \n",
      "127485               0.62282               0.10093              -0.38678  \n",
      "False\n",
      "*** Feature extraction started ***\n"
     ]
    },
    {
     "data": {
      "text/html": [
       "\n",
       "              <p>\n",
       "                  Progress: 100% Complete\n",
       "              <p/>            \n",
       "              <progress\n",
       "                  value='42'\n",
       "                  max='42',\n",
       "                  style='width: 25%',\n",
       "              >\n",
       "                  42\n",
       "              </progress>\n",
       "\n",
       "    "
      ],
      "text/plain": [
       "<IPython.core.display.HTML object>"
      ]
     },
     "metadata": {},
     "output_type": "display_data"
    },
    {
     "name": "stdout",
     "output_type": "stream",
     "text": [
      "\n",
      "*** Feature extraction finished ***\n",
      "0\n",
      "        phone_accel_x_denoise  phone_accel_y_denoise  phone_accel_z_denoise  \\\n",
      "145528               -0.38566               -8.61067                 -0.341   \n",
      "\n",
      "        phone_gyro_x_denoise  phone_gyro_y_denoise  phone_gyro_z_denoise  \n",
      "145528              -1.92448               1.20303               0.31348  \n",
      "False\n",
      "*** Feature extraction started ***\n"
     ]
    },
    {
     "data": {
      "text/html": [
       "\n",
       "              <p>\n",
       "                  Progress: 100% Complete\n",
       "              <p/>            \n",
       "              <progress\n",
       "                  value='32'\n",
       "                  max='32',\n",
       "                  style='width: 25%',\n",
       "              >\n",
       "                  32\n",
       "              </progress>\n",
       "\n",
       "    "
      ],
      "text/plain": [
       "<IPython.core.display.HTML object>"
      ]
     },
     "metadata": {},
     "output_type": "display_data"
    },
    {
     "name": "stdout",
     "output_type": "stream",
     "text": [
      "\n",
      "*** Feature extraction finished ***\n",
      "        phone_accel_x_denoise  phone_accel_y_denoise  phone_accel_z_denoise  \\\n",
      "149097                2.95469              -11.52228                0.71143   \n",
      "\n",
      "        phone_gyro_x_denoise  phone_gyro_y_denoise  phone_gyro_z_denoise  \n",
      "149097              -0.69843                0.2339              -0.10756  \n",
      "False\n",
      "*** Feature extraction started ***\n"
     ]
    },
    {
     "data": {
      "text/html": [
       "\n",
       "              <p>\n",
       "                  Progress: 100% Complete\n",
       "              <p/>            \n",
       "              <progress\n",
       "                  value='32'\n",
       "                  max='32',\n",
       "                  style='width: 25%',\n",
       "              >\n",
       "                  32\n",
       "              </progress>\n",
       "\n",
       "    "
      ],
      "text/plain": [
       "<IPython.core.display.HTML object>"
      ]
     },
     "metadata": {},
     "output_type": "display_data"
    },
    {
     "name": "stdout",
     "output_type": "stream",
     "text": [
      "\n",
      "*** Feature extraction finished ***\n",
      "        phone_accel_x_denoise  phone_accel_y_denoise  phone_accel_z_denoise  \\\n",
      "152666                1.14149              -12.35975               -0.69874   \n",
      "\n",
      "        phone_gyro_x_denoise  phone_gyro_y_denoise  phone_gyro_z_denoise  \n",
      "152666               1.89375               0.49025               2.67925  \n",
      "False\n",
      "*** Feature extraction started ***\n"
     ]
    },
    {
     "data": {
      "text/html": [
       "\n",
       "              <p>\n",
       "                  Progress: 100% Complete\n",
       "              <p/>            \n",
       "              <progress\n",
       "                  value='32'\n",
       "                  max='32',\n",
       "                  style='width: 25%',\n",
       "              >\n",
       "                  32\n",
       "              </progress>\n",
       "\n",
       "    "
      ],
      "text/plain": [
       "<IPython.core.display.HTML object>"
      ]
     },
     "metadata": {},
     "output_type": "display_data"
    },
    {
     "name": "stdout",
     "output_type": "stream",
     "text": [
      "\n",
      "*** Feature extraction finished ***\n",
      "        phone_accel_x_denoise  phone_accel_y_denoise  phone_accel_z_denoise  \\\n",
      "178358                2.67679               -9.01662               -1.46057   \n",
      "\n",
      "        phone_gyro_x_denoise  phone_gyro_y_denoise  phone_gyro_z_denoise  \n",
      "178358              -0.95217               1.37512              -0.02265  \n",
      "False\n",
      "*** Feature extraction started ***\n"
     ]
    },
    {
     "data": {
      "text/html": [
       "\n",
       "              <p>\n",
       "                  Progress: 100% Complete\n",
       "              <p/>            \n",
       "              <progress\n",
       "                  value='32'\n",
       "                  max='32',\n",
       "                  style='width: 25%',\n",
       "              >\n",
       "                  32\n",
       "              </progress>\n",
       "\n",
       "    "
      ],
      "text/plain": [
       "<IPython.core.display.HTML object>"
      ]
     },
     "metadata": {},
     "output_type": "display_data"
    },
    {
     "name": "stdout",
     "output_type": "stream",
     "text": [
      "\n",
      "*** Feature extraction finished ***\n",
      "        phone_accel_x_denoise  phone_accel_y_denoise  phone_accel_z_denoise  \\\n",
      "181927               -2.01163               -9.19942                 2.3518   \n",
      "\n",
      "        phone_gyro_x_denoise  phone_gyro_y_denoise  phone_gyro_z_denoise  \n",
      "181927               -0.3447               0.24648              -0.26113  \n",
      "False\n",
      "*** Feature extraction started ***\n"
     ]
    },
    {
     "data": {
      "text/html": [
       "\n",
       "              <p>\n",
       "                  Progress: 100% Complete\n",
       "              <p/>            \n",
       "              <progress\n",
       "                  value='32'\n",
       "                  max='32',\n",
       "                  style='width: 25%',\n",
       "              >\n",
       "                  32\n",
       "              </progress>\n",
       "\n",
       "    "
      ],
      "text/plain": [
       "<IPython.core.display.HTML object>"
      ]
     },
     "metadata": {},
     "output_type": "display_data"
    },
    {
     "name": "stdout",
     "output_type": "stream",
     "text": [
      "\n",
      "*** Feature extraction finished ***\n",
      "0\n",
      "        phone_accel_x_denoise  phone_accel_y_denoise  phone_accel_z_denoise  \\\n",
      "192627                0.99639               13.86103                 5.9474   \n",
      "\n",
      "        phone_gyro_x_denoise  phone_gyro_y_denoise  phone_gyro_z_denoise  \n",
      "192627               0.80277              -0.01012               0.24874  \n",
      "False\n",
      "*** Feature extraction started ***\n"
     ]
    },
    {
     "data": {
      "text/html": [
       "\n",
       "              <p>\n",
       "                  Progress: 100% Complete\n",
       "              <p/>            \n",
       "              <progress\n",
       "                  value='42'\n",
       "                  max='42',\n",
       "                  style='width: 25%',\n",
       "              >\n",
       "                  42\n",
       "              </progress>\n",
       "\n",
       "    "
      ],
      "text/plain": [
       "<IPython.core.display.HTML object>"
      ]
     },
     "metadata": {},
     "output_type": "display_data"
    },
    {
     "name": "stdout",
     "output_type": "stream",
     "text": [
      "\n",
      "*** Feature extraction finished ***\n",
      "        phone_accel_x_denoise  phone_accel_y_denoise  phone_accel_z_denoise  \\\n",
      "197137                0.55146               16.83423               -4.18846   \n",
      "\n",
      "        phone_gyro_x_denoise  phone_gyro_y_denoise  phone_gyro_z_denoise  \n",
      "197137               1.18999               1.75511              -1.33176  \n",
      "False\n",
      "*** Feature extraction started ***\n"
     ]
    },
    {
     "data": {
      "text/html": [
       "\n",
       "              <p>\n",
       "                  Progress: 100% Complete\n",
       "              <p/>            \n",
       "              <progress\n",
       "                  value='42'\n",
       "                  max='42',\n",
       "                  style='width: 25%',\n",
       "              >\n",
       "                  42\n",
       "              </progress>\n",
       "\n",
       "    "
      ],
      "text/plain": [
       "<IPython.core.display.HTML object>"
      ]
     },
     "metadata": {},
     "output_type": "display_data"
    },
    {
     "name": "stdout",
     "output_type": "stream",
     "text": [
      "\n",
      "*** Feature extraction finished ***\n",
      "        phone_accel_x_denoise  phone_accel_y_denoise  phone_accel_z_denoise  \\\n",
      "201648               -3.43488                 6.8119                1.80802   \n",
      "\n",
      "        phone_gyro_x_denoise  phone_gyro_y_denoise  phone_gyro_z_denoise  \n",
      "201648               2.68021              -3.39251              -1.06065  \n",
      "False\n",
      "*** Feature extraction started ***\n"
     ]
    },
    {
     "data": {
      "text/html": [
       "\n",
       "              <p>\n",
       "                  Progress: 100% Complete\n",
       "              <p/>            \n",
       "              <progress\n",
       "                  value='42'\n",
       "                  max='42',\n",
       "                  style='width: 25%',\n",
       "              >\n",
       "                  42\n",
       "              </progress>\n",
       "\n",
       "    "
      ],
      "text/plain": [
       "<IPython.core.display.HTML object>"
      ]
     },
     "metadata": {},
     "output_type": "display_data"
    },
    {
     "name": "stdout",
     "output_type": "stream",
     "text": [
      "\n",
      "*** Feature extraction finished ***\n",
      "        phone_accel_x_denoise  phone_accel_y_denoise  phone_accel_z_denoise  \\\n",
      "251260               -0.79069                9.48762               -0.17358   \n",
      "\n",
      "        phone_gyro_x_denoise  phone_gyro_y_denoise  phone_gyro_z_denoise  \n",
      "251260               0.02823              -0.11105               0.19459  \n",
      "False\n",
      "*** Feature extraction started ***\n"
     ]
    },
    {
     "data": {
      "text/html": [
       "\n",
       "              <p>\n",
       "                  Progress: 100% Complete\n",
       "              <p/>            \n",
       "              <progress\n",
       "                  value='42'\n",
       "                  max='42',\n",
       "                  style='width: 25%',\n",
       "              >\n",
       "                  42\n",
       "              </progress>\n",
       "\n",
       "    "
      ],
      "text/plain": [
       "<IPython.core.display.HTML object>"
      ]
     },
     "metadata": {},
     "output_type": "display_data"
    },
    {
     "name": "stdout",
     "output_type": "stream",
     "text": [
      "\n",
      "*** Feature extraction finished ***\n",
      "        phone_accel_x_denoise  phone_accel_y_denoise  phone_accel_z_denoise  \\\n",
      "255770                0.68015               11.23519                2.00215   \n",
      "\n",
      "        phone_gyro_x_denoise  phone_gyro_y_denoise  phone_gyro_z_denoise  \n",
      "255770              -0.36796               0.83375               0.01465  \n",
      "False\n",
      "*** Feature extraction started ***\n"
     ]
    },
    {
     "data": {
      "text/html": [
       "\n",
       "              <p>\n",
       "                  Progress: 100% Complete\n",
       "              <p/>            \n",
       "              <progress\n",
       "                  value='42'\n",
       "                  max='42',\n",
       "                  style='width: 25%',\n",
       "              >\n",
       "                  42\n",
       "              </progress>\n",
       "\n",
       "    "
      ],
      "text/plain": [
       "<IPython.core.display.HTML object>"
      ]
     },
     "metadata": {},
     "output_type": "display_data"
    },
    {
     "name": "stdout",
     "output_type": "stream",
     "text": [
      "\n",
      "*** Feature extraction finished ***\n",
      "0\n",
      "        phone_accel_x_denoise  phone_accel_y_denoise  phone_accel_z_denoise  \\\n",
      "273813                3.16452                 11.509                 3.5199   \n",
      "\n",
      "        phone_gyro_x_denoise  phone_gyro_y_denoise  phone_gyro_z_denoise  \n",
      "273813               0.41487                 0.315              -0.30267  \n",
      "False\n",
      "*** Feature extraction started ***\n"
     ]
    },
    {
     "data": {
      "text/html": [
       "\n",
       "              <p>\n",
       "                  Progress: 100% Complete\n",
       "              <p/>            \n",
       "              <progress\n",
       "                  value='32'\n",
       "                  max='32',\n",
       "                  style='width: 25%',\n",
       "              >\n",
       "                  32\n",
       "              </progress>\n",
       "\n",
       "    "
      ],
      "text/plain": [
       "<IPython.core.display.HTML object>"
      ]
     },
     "metadata": {},
     "output_type": "display_data"
    },
    {
     "name": "stdout",
     "output_type": "stream",
     "text": [
      "\n",
      "*** Feature extraction finished ***\n",
      "        phone_accel_x_denoise  phone_accel_y_denoise  phone_accel_z_denoise  \\\n",
      "277382               -0.74017                3.54274               -0.70479   \n",
      "\n",
      "        phone_gyro_x_denoise  phone_gyro_y_denoise  phone_gyro_z_denoise  \n",
      "277382               -1.4623               0.38541                0.3891  \n",
      "False\n",
      "*** Feature extraction started ***\n"
     ]
    },
    {
     "data": {
      "text/html": [
       "\n",
       "              <p>\n",
       "                  Progress: 100% Complete\n",
       "              <p/>            \n",
       "              <progress\n",
       "                  value='32'\n",
       "                  max='32',\n",
       "                  style='width: 25%',\n",
       "              >\n",
       "                  32\n",
       "              </progress>\n",
       "\n",
       "    "
      ],
      "text/plain": [
       "<IPython.core.display.HTML object>"
      ]
     },
     "metadata": {},
     "output_type": "display_data"
    },
    {
     "name": "stdout",
     "output_type": "stream",
     "text": [
      "\n",
      "*** Feature extraction finished ***\n",
      "        phone_accel_x_denoise  phone_accel_y_denoise  phone_accel_z_denoise  \\\n",
      "280951               -0.17761               12.43728                0.38483   \n",
      "\n",
      "        phone_gyro_x_denoise  phone_gyro_y_denoise  phone_gyro_z_denoise  \n",
      "280951              -2.64879               0.56346               0.28493  \n",
      "False\n",
      "*** Feature extraction started ***\n"
     ]
    },
    {
     "data": {
      "text/html": [
       "\n",
       "              <p>\n",
       "                  Progress: 100% Complete\n",
       "              <p/>            \n",
       "              <progress\n",
       "                  value='32'\n",
       "                  max='32',\n",
       "                  style='width: 25%',\n",
       "              >\n",
       "                  32\n",
       "              </progress>\n",
       "\n",
       "    "
      ],
      "text/plain": [
       "<IPython.core.display.HTML object>"
      ]
     },
     "metadata": {},
     "output_type": "display_data"
    },
    {
     "name": "stdout",
     "output_type": "stream",
     "text": [
      "\n",
      "*** Feature extraction finished ***\n",
      "        phone_accel_x_denoise  phone_accel_y_denoise  phone_accel_z_denoise  \\\n",
      "320211                 1.2973                9.10226                2.31809   \n",
      "\n",
      "        phone_gyro_x_denoise  phone_gyro_y_denoise  phone_gyro_z_denoise  \n",
      "320211              -0.00647               0.28393              -0.05157  \n",
      "False\n",
      "*** Feature extraction started ***\n"
     ]
    },
    {
     "data": {
      "text/html": [
       "\n",
       "              <p>\n",
       "                  Progress: 100% Complete\n",
       "              <p/>            \n",
       "              <progress\n",
       "                  value='32'\n",
       "                  max='32',\n",
       "                  style='width: 25%',\n",
       "              >\n",
       "                  32\n",
       "              </progress>\n",
       "\n",
       "    "
      ],
      "text/plain": [
       "<IPython.core.display.HTML object>"
      ]
     },
     "metadata": {},
     "output_type": "display_data"
    },
    {
     "name": "stdout",
     "output_type": "stream",
     "text": [
      "\n",
      "*** Feature extraction finished ***\n",
      "        phone_accel_x_denoise  phone_accel_y_denoise  phone_accel_z_denoise  \\\n",
      "323780               -1.26706                9.16566                1.38984   \n",
      "\n",
      "        phone_gyro_x_denoise  phone_gyro_y_denoise  phone_gyro_z_denoise  \n",
      "323780               0.32279               -0.0813               0.08618  \n",
      "False\n",
      "*** Feature extraction started ***\n"
     ]
    },
    {
     "data": {
      "text/html": [
       "\n",
       "              <p>\n",
       "                  Progress: 100% Complete\n",
       "              <p/>            \n",
       "              <progress\n",
       "                  value='32'\n",
       "                  max='32',\n",
       "                  style='width: 25%',\n",
       "              >\n",
       "                  32\n",
       "              </progress>\n",
       "\n",
       "    "
      ],
      "text/plain": [
       "<IPython.core.display.HTML object>"
      ]
     },
     "metadata": {},
     "output_type": "display_data"
    },
    {
     "name": "stdout",
     "output_type": "stream",
     "text": [
      "\n",
      "*** Feature extraction finished ***\n",
      "0\n",
      "        phone_accel_x_denoise  phone_accel_y_denoise  phone_accel_z_denoise  \\\n",
      "338055               -2.07238               12.69067               -1.20568   \n",
      "\n",
      "        phone_gyro_x_denoise  phone_gyro_y_denoise  phone_gyro_z_denoise  \n",
      "338055               0.22308              -0.46064              -0.36521  \n",
      "False\n",
      "*** Feature extraction started ***\n"
     ]
    },
    {
     "data": {
      "text/html": [
       "\n",
       "              <p>\n",
       "                  Progress: 100% Complete\n",
       "              <p/>            \n",
       "              <progress\n",
       "                  value='42'\n",
       "                  max='42',\n",
       "                  style='width: 25%',\n",
       "              >\n",
       "                  42\n",
       "              </progress>\n",
       "\n",
       "    "
      ],
      "text/plain": [
       "<IPython.core.display.HTML object>"
      ]
     },
     "metadata": {},
     "output_type": "display_data"
    },
    {
     "name": "stdout",
     "output_type": "stream",
     "text": [
      "\n",
      "*** Feature extraction finished ***\n",
      "        phone_accel_x_denoise  phone_accel_y_denoise  phone_accel_z_denoise  \\\n",
      "342566               -0.65741               -0.94431               -0.16779   \n",
      "\n",
      "        phone_gyro_x_denoise  phone_gyro_y_denoise  phone_gyro_z_denoise  \n",
      "342566                0.3597              -0.70547               0.51328  \n",
      "False\n",
      "*** Feature extraction started ***\n"
     ]
    },
    {
     "data": {
      "text/html": [
       "\n",
       "              <p>\n",
       "                  Progress: 100% Complete\n",
       "              <p/>            \n",
       "              <progress\n",
       "                  value='42'\n",
       "                  max='42',\n",
       "                  style='width: 25%',\n",
       "              >\n",
       "                  42\n",
       "              </progress>\n",
       "\n",
       "    "
      ],
      "text/plain": [
       "<IPython.core.display.HTML object>"
      ]
     },
     "metadata": {},
     "output_type": "display_data"
    },
    {
     "name": "stdout",
     "output_type": "stream",
     "text": [
      "\n",
      "*** Feature extraction finished ***\n",
      "        phone_accel_x_denoise  phone_accel_y_denoise  phone_accel_z_denoise  \\\n",
      "347076                3.11585                5.22894                3.99133   \n",
      "\n",
      "        phone_gyro_x_denoise  phone_gyro_y_denoise  phone_gyro_z_denoise  \n",
      "347076               0.91124              -0.20577              -0.75181  \n",
      "False\n",
      "*** Feature extraction started ***\n"
     ]
    },
    {
     "data": {
      "text/html": [
       "\n",
       "              <p>\n",
       "                  Progress: 100% Complete\n",
       "              <p/>            \n",
       "              <progress\n",
       "                  value='42'\n",
       "                  max='42',\n",
       "                  style='width: 25%',\n",
       "              >\n",
       "                  42\n",
       "              </progress>\n",
       "\n",
       "    "
      ],
      "text/plain": [
       "<IPython.core.display.HTML object>"
      ]
     },
     "metadata": {},
     "output_type": "display_data"
    },
    {
     "name": "stdout",
     "output_type": "stream",
     "text": [
      "\n",
      "*** Feature extraction finished ***\n",
      "        phone_accel_x_denoise  phone_accel_y_denoise  phone_accel_z_denoise  \\\n",
      "396681               -1.55184                9.31285                0.81842   \n",
      "\n",
      "        phone_gyro_x_denoise  phone_gyro_y_denoise  phone_gyro_z_denoise  \n",
      "396681               1.14844              -0.61812               0.59912  \n",
      "False\n",
      "*** Feature extraction started ***\n"
     ]
    },
    {
     "data": {
      "text/html": [
       "\n",
       "              <p>\n",
       "                  Progress: 100% Complete\n",
       "              <p/>            \n",
       "              <progress\n",
       "                  value='42'\n",
       "                  max='42',\n",
       "                  style='width: 25%',\n",
       "              >\n",
       "                  42\n",
       "              </progress>\n",
       "\n",
       "    "
      ],
      "text/plain": [
       "<IPython.core.display.HTML object>"
      ]
     },
     "metadata": {},
     "output_type": "display_data"
    },
    {
     "name": "stdout",
     "output_type": "stream",
     "text": [
      "\n",
      "*** Feature extraction finished ***\n",
      "        phone_accel_x_denoise  phone_accel_y_denoise  phone_accel_z_denoise  \\\n",
      "401191                 0.7428                9.86551               -0.33519   \n",
      "\n",
      "        phone_gyro_x_denoise  phone_gyro_y_denoise  phone_gyro_z_denoise  \n",
      "401191              -0.18651              -0.21137               0.11203  \n",
      "False\n",
      "*** Feature extraction started ***\n"
     ]
    },
    {
     "data": {
      "text/html": [
       "\n",
       "              <p>\n",
       "                  Progress: 100% Complete\n",
       "              <p/>            \n",
       "              <progress\n",
       "                  value='42'\n",
       "                  max='42',\n",
       "                  style='width: 25%',\n",
       "              >\n",
       "                  42\n",
       "              </progress>\n",
       "\n",
       "    "
      ],
      "text/plain": [
       "<IPython.core.display.HTML object>"
      ]
     },
     "metadata": {},
     "output_type": "display_data"
    },
    {
     "name": "stdout",
     "output_type": "stream",
     "text": [
      "\n",
      "*** Feature extraction finished ***\n",
      "0\n",
      "        phone_accel_x_denoise  phone_accel_y_denoise  phone_accel_z_denoise  \\\n",
      "419231               -6.94256               -2.70329               -1.23899   \n",
      "\n",
      "        phone_gyro_x_denoise  phone_gyro_y_denoise  phone_gyro_z_denoise  \n",
      "419231               0.67994               0.10601               0.06819  \n",
      "False\n",
      "*** Feature extraction started ***\n"
     ]
    },
    {
     "data": {
      "text/html": [
       "\n",
       "              <p>\n",
       "                  Progress: 100% Complete\n",
       "              <p/>            \n",
       "              <progress\n",
       "                  value='32'\n",
       "                  max='32',\n",
       "                  style='width: 25%',\n",
       "              >\n",
       "                  32\n",
       "              </progress>\n",
       "\n",
       "    "
      ],
      "text/plain": [
       "<IPython.core.display.HTML object>"
      ]
     },
     "metadata": {},
     "output_type": "display_data"
    },
    {
     "name": "stdout",
     "output_type": "stream",
     "text": [
      "\n",
      "*** Feature extraction finished ***\n",
      "        phone_accel_x_denoise  phone_accel_y_denoise  phone_accel_z_denoise  \\\n",
      "422799                -9.3677               -4.14956               -1.64153   \n",
      "\n",
      "        phone_gyro_x_denoise  phone_gyro_y_denoise  phone_gyro_z_denoise  \n",
      "422799              -0.73233              -0.17442              -0.32968  \n",
      "False\n",
      "*** Feature extraction started ***\n"
     ]
    },
    {
     "data": {
      "text/html": [
       "\n",
       "              <p>\n",
       "                  Progress: 100% Complete\n",
       "              <p/>            \n",
       "              <progress\n",
       "                  value='32'\n",
       "                  max='32',\n",
       "                  style='width: 25%',\n",
       "              >\n",
       "                  32\n",
       "              </progress>\n",
       "\n",
       "    "
      ],
      "text/plain": [
       "<IPython.core.display.HTML object>"
      ]
     },
     "metadata": {},
     "output_type": "display_data"
    },
    {
     "name": "stdout",
     "output_type": "stream",
     "text": [
      "\n",
      "*** Feature extraction finished ***\n",
      "        phone_accel_x_denoise  phone_accel_y_denoise  phone_accel_z_denoise  \\\n",
      "426368               -8.04456               -1.72741                0.24661   \n",
      "\n",
      "        phone_gyro_x_denoise  phone_gyro_y_denoise  phone_gyro_z_denoise  \n",
      "426368               0.05356               0.40116              -0.76203  \n",
      "False\n",
      "*** Feature extraction started ***\n"
     ]
    },
    {
     "data": {
      "text/html": [
       "\n",
       "              <p>\n",
       "                  Progress: 100% Complete\n",
       "              <p/>            \n",
       "              <progress\n",
       "                  value='32'\n",
       "                  max='32',\n",
       "                  style='width: 25%',\n",
       "              >\n",
       "                  32\n",
       "              </progress>\n",
       "\n",
       "    "
      ],
      "text/plain": [
       "<IPython.core.display.HTML object>"
      ]
     },
     "metadata": {},
     "output_type": "display_data"
    },
    {
     "name": "stdout",
     "output_type": "stream",
     "text": [
      "\n",
      "*** Feature extraction finished ***\n",
      "        phone_accel_x_denoise  phone_accel_y_denoise  phone_accel_z_denoise  \\\n",
      "465623               -8.43812                0.22023                0.42321   \n",
      "\n",
      "        phone_gyro_x_denoise  phone_gyro_y_denoise  phone_gyro_z_denoise  \n",
      "465623               0.50632              -1.93802               0.35201  \n",
      "False\n",
      "*** Feature extraction started ***\n"
     ]
    },
    {
     "data": {
      "text/html": [
       "\n",
       "              <p>\n",
       "                  Progress: 100% Complete\n",
       "              <p/>            \n",
       "              <progress\n",
       "                  value='32'\n",
       "                  max='32',\n",
       "                  style='width: 25%',\n",
       "              >\n",
       "                  32\n",
       "              </progress>\n",
       "\n",
       "    "
      ],
      "text/plain": [
       "<IPython.core.display.HTML object>"
      ]
     },
     "metadata": {},
     "output_type": "display_data"
    },
    {
     "name": "stdout",
     "output_type": "stream",
     "text": [
      "\n",
      "*** Feature extraction finished ***\n",
      "        phone_accel_x_denoise  phone_accel_y_denoise  phone_accel_z_denoise  \\\n",
      "469193               -8.93805               -0.98759                 1.7126   \n",
      "\n",
      "        phone_gyro_x_denoise  phone_gyro_y_denoise  phone_gyro_z_denoise  \n",
      "469193                 0.039              -0.00604               0.00532  \n",
      "False\n",
      "*** Feature extraction started ***\n"
     ]
    },
    {
     "data": {
      "text/html": [
       "\n",
       "              <p>\n",
       "                  Progress: 100% Complete\n",
       "              <p/>            \n",
       "              <progress\n",
       "                  value='32'\n",
       "                  max='32',\n",
       "                  style='width: 25%',\n",
       "              >\n",
       "                  32\n",
       "              </progress>\n",
       "\n",
       "    "
      ],
      "text/plain": [
       "<IPython.core.display.HTML object>"
      ]
     },
     "metadata": {},
     "output_type": "display_data"
    },
    {
     "name": "stdout",
     "output_type": "stream",
     "text": [
      "\n",
      "*** Feature extraction finished ***\n",
      "0\n",
      "        phone_accel_x_denoise  phone_accel_y_denoise  phone_accel_z_denoise  \\\n",
      "483465                2.43231               10.00996               -1.24259   \n",
      "\n",
      "        phone_gyro_x_denoise  phone_gyro_y_denoise  phone_gyro_z_denoise  \n",
      "483465              -1.41822              -0.46472              -0.08939  \n",
      "False\n",
      "*** Feature extraction started ***\n"
     ]
    },
    {
     "data": {
      "text/html": [
       "\n",
       "              <p>\n",
       "                  Progress: 100% Complete\n",
       "              <p/>            \n",
       "              <progress\n",
       "                  value='42'\n",
       "                  max='42',\n",
       "                  style='width: 25%',\n",
       "              >\n",
       "                  42\n",
       "              </progress>\n",
       "\n",
       "    "
      ],
      "text/plain": [
       "<IPython.core.display.HTML object>"
      ]
     },
     "metadata": {},
     "output_type": "display_data"
    },
    {
     "name": "stdout",
     "output_type": "stream",
     "text": [
      "\n",
      "*** Feature extraction finished ***\n",
      "        phone_accel_x_denoise  phone_accel_y_denoise  phone_accel_z_denoise  \\\n",
      "487976               -3.88679                 6.1112                2.69946   \n",
      "\n",
      "        phone_gyro_x_denoise  phone_gyro_y_denoise  phone_gyro_z_denoise  \n",
      "487976              -2.31731              -0.29543              -0.02583  \n",
      "False\n",
      "*** Feature extraction started ***\n"
     ]
    },
    {
     "data": {
      "text/html": [
       "\n",
       "              <p>\n",
       "                  Progress: 100% Complete\n",
       "              <p/>            \n",
       "              <progress\n",
       "                  value='42'\n",
       "                  max='42',\n",
       "                  style='width: 25%',\n",
       "              >\n",
       "                  42\n",
       "              </progress>\n",
       "\n",
       "    "
      ],
      "text/plain": [
       "<IPython.core.display.HTML object>"
      ]
     },
     "metadata": {},
     "output_type": "display_data"
    },
    {
     "name": "stdout",
     "output_type": "stream",
     "text": [
      "\n",
      "*** Feature extraction finished ***\n",
      "        phone_accel_x_denoise  phone_accel_y_denoise  phone_accel_z_denoise  \\\n",
      "492486               -5.50407                  7.184                1.84334   \n",
      "\n",
      "        phone_gyro_x_denoise  phone_gyro_y_denoise  phone_gyro_z_denoise  \n",
      "492486                -0.778              -1.47113               0.73876  \n",
      "False\n",
      "*** Feature extraction started ***\n"
     ]
    },
    {
     "data": {
      "text/html": [
       "\n",
       "              <p>\n",
       "                  Progress: 100% Complete\n",
       "              <p/>            \n",
       "              <progress\n",
       "                  value='42'\n",
       "                  max='42',\n",
       "                  style='width: 25%',\n",
       "              >\n",
       "                  42\n",
       "              </progress>\n",
       "\n",
       "    "
      ],
      "text/plain": [
       "<IPython.core.display.HTML object>"
      ]
     },
     "metadata": {},
     "output_type": "display_data"
    },
    {
     "name": "stdout",
     "output_type": "stream",
     "text": [
      "\n",
      "*** Feature extraction finished ***\n",
      "        phone_accel_x_denoise  phone_accel_y_denoise  phone_accel_z_denoise  \\\n",
      "537595                0.67616               -9.69013                2.13164   \n",
      "\n",
      "        phone_gyro_x_denoise  phone_gyro_y_denoise  phone_gyro_z_denoise  \n",
      "537595              -0.09516               0.07688               0.10164  \n",
      "False\n",
      "*** Feature extraction started ***\n"
     ]
    },
    {
     "data": {
      "text/html": [
       "\n",
       "              <p>\n",
       "                  Progress: 100% Complete\n",
       "              <p/>            \n",
       "              <progress\n",
       "                  value='42'\n",
       "                  max='42',\n",
       "                  style='width: 25%',\n",
       "              >\n",
       "                  42\n",
       "              </progress>\n",
       "\n",
       "    "
      ],
      "text/plain": [
       "<IPython.core.display.HTML object>"
      ]
     },
     "metadata": {},
     "output_type": "display_data"
    },
    {
     "name": "stdout",
     "output_type": "stream",
     "text": [
      "\n",
      "*** Feature extraction finished ***\n",
      "        phone_accel_x_denoise  phone_accel_y_denoise  phone_accel_z_denoise  \\\n",
      "542105                4.52085                -8.7961                1.28269   \n",
      "\n",
      "        phone_gyro_x_denoise  phone_gyro_y_denoise  phone_gyro_z_denoise  \n",
      "542105               0.17577                0.1368              -0.04607  \n",
      "False\n",
      "*** Feature extraction started ***\n"
     ]
    },
    {
     "data": {
      "text/html": [
       "\n",
       "              <p>\n",
       "                  Progress: 100% Complete\n",
       "              <p/>            \n",
       "              <progress\n",
       "                  value='42'\n",
       "                  max='42',\n",
       "                  style='width: 25%',\n",
       "              >\n",
       "                  42\n",
       "              </progress>\n",
       "\n",
       "    "
      ],
      "text/plain": [
       "<IPython.core.display.HTML object>"
      ]
     },
     "metadata": {},
     "output_type": "display_data"
    },
    {
     "name": "stdout",
     "output_type": "stream",
     "text": [
      "\n",
      "*** Feature extraction finished ***\n",
      "0\n",
      "Empty DataFrame\n",
      "Columns: [phone_accel_x_denoise, phone_accel_y_denoise, phone_accel_z_denoise, phone_gyro_x_denoise, phone_gyro_y_denoise, phone_gyro_z_denoise]\n",
      "Index: []\n",
      "False\n",
      "*** Feature extraction started ***\n",
      "Unexpected error, ignore it...\n",
      "Empty DataFrame\n",
      "Columns: [phone_accel_x_denoise, phone_accel_y_denoise, phone_accel_z_denoise, phone_gyro_x_denoise, phone_gyro_y_denoise, phone_gyro_z_denoise]\n",
      "Index: []\n",
      "False\n",
      "*** Feature extraction started ***\n",
      "Unexpected error, ignore it...\n",
      "        phone_accel_x_denoise  phone_accel_y_denoise  phone_accel_z_denoise  \\\n",
      "560148               -2.50722               -9.54696               -1.93323   \n",
      "\n",
      "        phone_gyro_x_denoise  phone_gyro_y_denoise  phone_gyro_z_denoise  \n",
      "560148               0.29651              -0.01083                -0.869  \n",
      "False\n",
      "*** Feature extraction started ***\n"
     ]
    },
    {
     "data": {
      "text/html": [
       "\n",
       "              <p>\n",
       "                  Progress: 100% Complete\n",
       "              <p/>            \n",
       "              <progress\n",
       "                  value='32'\n",
       "                  max='32',\n",
       "                  style='width: 25%',\n",
       "              >\n",
       "                  32\n",
       "              </progress>\n",
       "\n",
       "    "
      ],
      "text/plain": [
       "<IPython.core.display.HTML object>"
      ]
     },
     "metadata": {},
     "output_type": "display_data"
    },
    {
     "name": "stdout",
     "output_type": "stream",
     "text": [
      "\n",
      "*** Feature extraction finished ***\n",
      "Empty DataFrame\n",
      "Columns: [phone_accel_x_denoise, phone_accel_y_denoise, phone_accel_z_denoise, phone_gyro_x_denoise, phone_gyro_y_denoise, phone_gyro_z_denoise]\n",
      "Index: []\n",
      "False\n",
      "*** Feature extraction started ***\n",
      "Unexpected error, ignore it...\n",
      "Empty DataFrame\n",
      "Columns: [phone_accel_x_denoise, phone_accel_y_denoise, phone_accel_z_denoise, phone_gyro_x_denoise, phone_gyro_y_denoise, phone_gyro_z_denoise]\n",
      "Index: []\n",
      "False\n",
      "*** Feature extraction started ***\n",
      "Unexpected error, ignore it...\n",
      "4\n",
      "        phone_accel_x_denoise  phone_accel_y_denoise  phone_accel_z_denoise  \\\n",
      "602972               -1.95994               -4.49126                1.68642   \n",
      "\n",
      "        phone_gyro_x_denoise  phone_gyro_y_denoise  phone_gyro_z_denoise  \n",
      "602972               0.75222              -0.87343               0.07257  \n",
      "False\n",
      "*** Feature extraction started ***\n"
     ]
    },
    {
     "data": {
      "text/html": [
       "\n",
       "              <p>\n",
       "                  Progress: 100% Complete\n",
       "              <p/>            \n",
       "              <progress\n",
       "                  value='32'\n",
       "                  max='32',\n",
       "                  style='width: 25%',\n",
       "              >\n",
       "                  32\n",
       "              </progress>\n",
       "\n",
       "    "
      ],
      "text/plain": [
       "<IPython.core.display.HTML object>"
      ]
     },
     "metadata": {},
     "output_type": "display_data"
    },
    {
     "name": "stdout",
     "output_type": "stream",
     "text": [
      "\n",
      "*** Feature extraction finished ***\n",
      "Empty DataFrame\n",
      "Columns: [phone_accel_x_denoise, phone_accel_y_denoise, phone_accel_z_denoise, phone_gyro_x_denoise, phone_gyro_y_denoise, phone_gyro_z_denoise]\n",
      "Index: []\n",
      "False\n",
      "*** Feature extraction started ***\n",
      "Unexpected error, ignore it...\n",
      "        phone_accel_x_denoise  phone_accel_y_denoise  phone_accel_z_denoise  \\\n",
      "606541                3.62168              -11.11415               -0.07162   \n",
      "\n",
      "        phone_gyro_x_denoise  phone_gyro_y_denoise  phone_gyro_z_denoise  \n",
      "606541               0.69953              -0.57987               0.20683  \n",
      "False\n",
      "*** Feature extraction started ***\n"
     ]
    },
    {
     "data": {
      "text/html": [
       "\n",
       "              <p>\n",
       "                  Progress: 100% Complete\n",
       "              <p/>            \n",
       "              <progress\n",
       "                  value='32'\n",
       "                  max='32',\n",
       "                  style='width: 25%',\n",
       "              >\n",
       "                  32\n",
       "              </progress>\n",
       "\n",
       "    "
      ],
      "text/plain": [
       "<IPython.core.display.HTML object>"
      ]
     },
     "metadata": {},
     "output_type": "display_data"
    },
    {
     "name": "stdout",
     "output_type": "stream",
     "text": [
      "\n",
      "*** Feature extraction finished ***\n",
      "        phone_accel_x_denoise  phone_accel_y_denoise  phone_accel_z_denoise  \\\n",
      "643632                1.90344              -10.81565               -3.27588   \n",
      "\n",
      "        phone_gyro_x_denoise  phone_gyro_y_denoise  phone_gyro_z_denoise  \n",
      "643632               1.40083               0.23071               0.99562  \n",
      "False\n",
      "*** Feature extraction started ***\n"
     ]
    },
    {
     "data": {
      "text/html": [
       "\n",
       "              <p>\n",
       "                  Progress: 100% Complete\n",
       "              <p/>            \n",
       "              <progress\n",
       "                  value='32'\n",
       "                  max='32',\n",
       "                  style='width: 25%',\n",
       "              >\n",
       "                  32\n",
       "              </progress>\n",
       "\n",
       "    "
      ],
      "text/plain": [
       "<IPython.core.display.HTML object>"
      ]
     },
     "metadata": {},
     "output_type": "display_data"
    },
    {
     "name": "stdout",
     "output_type": "stream",
     "text": [
      "\n",
      "*** Feature extraction finished ***\n",
      "        phone_accel_x_denoise  phone_accel_y_denoise  phone_accel_z_denoise  \\\n",
      "647201                4.14278               -8.44101               -1.50508   \n",
      "\n",
      "        phone_gyro_x_denoise  phone_gyro_y_denoise  phone_gyro_z_denoise  \n",
      "647201              -0.30504               1.01273              -0.02864  \n",
      "False\n",
      "*** Feature extraction started ***\n"
     ]
    },
    {
     "data": {
      "text/html": [
       "\n",
       "              <p>\n",
       "                  Progress: 100% Complete\n",
       "              <p/>            \n",
       "              <progress\n",
       "                  value='32'\n",
       "                  max='32',\n",
       "                  style='width: 25%',\n",
       "              >\n",
       "                  32\n",
       "              </progress>\n",
       "\n",
       "    "
      ],
      "text/plain": [
       "<IPython.core.display.HTML object>"
      ]
     },
     "metadata": {},
     "output_type": "display_data"
    },
    {
     "name": "stdout",
     "output_type": "stream",
     "text": [
      "\n",
      "*** Feature extraction finished ***\n",
      "5\n",
      "        phone_accel_x_denoise  phone_accel_y_denoise  phone_accel_z_denoise  \\\n",
      "661478                4.75355                 7.2638                -0.6058   \n",
      "\n",
      "        phone_gyro_x_denoise  phone_gyro_y_denoise  phone_gyro_z_denoise  \n",
      "661478                 0.254               0.48505              -0.54556  \n",
      "False\n",
      "*** Feature extraction started ***\n"
     ]
    },
    {
     "data": {
      "text/html": [
       "\n",
       "              <p>\n",
       "                  Progress: 100% Complete\n",
       "              <p/>            \n",
       "              <progress\n",
       "                  value='32'\n",
       "                  max='32',\n",
       "                  style='width: 25%',\n",
       "              >\n",
       "                  32\n",
       "              </progress>\n",
       "\n",
       "    "
      ],
      "text/plain": [
       "<IPython.core.display.HTML object>"
      ]
     },
     "metadata": {},
     "output_type": "display_data"
    },
    {
     "name": "stdout",
     "output_type": "stream",
     "text": [
      "\n",
      "*** Feature extraction finished ***\n",
      "        phone_accel_x_denoise  phone_accel_y_denoise  phone_accel_z_denoise  \\\n",
      "665047               -2.28347               12.20161                -3.0819   \n",
      "\n",
      "        phone_gyro_x_denoise  phone_gyro_y_denoise  phone_gyro_z_denoise  \n",
      "665047              -1.69031              -1.02298               3.96338  \n",
      "False\n",
      "*** Feature extraction started ***\n"
     ]
    },
    {
     "data": {
      "text/html": [
       "\n",
       "              <p>\n",
       "                  Progress: 100% Complete\n",
       "              <p/>            \n",
       "              <progress\n",
       "                  value='29'\n",
       "                  max='29',\n",
       "                  style='width: 25%',\n",
       "              >\n",
       "                  29\n",
       "              </progress>\n",
       "\n",
       "    "
      ],
      "text/plain": [
       "<IPython.core.display.HTML object>"
      ]
     },
     "metadata": {},
     "output_type": "display_data"
    },
    {
     "name": "stdout",
     "output_type": "stream",
     "text": [
      "\n",
      "*** Feature extraction finished ***\n",
      "        phone_accel_x_denoise  phone_accel_y_denoise  phone_accel_z_denoise  \\\n",
      "668317                0.63691                6.60875                0.09867   \n",
      "\n",
      "        phone_gyro_x_denoise  phone_gyro_y_denoise  phone_gyro_z_denoise  \n",
      "668317               0.45841                0.3425               -1.3021  \n",
      "False\n",
      "*** Feature extraction started ***\n"
     ]
    },
    {
     "data": {
      "text/html": [
       "\n",
       "              <p>\n",
       "                  Progress: 100% Complete\n",
       "              <p/>            \n",
       "              <progress\n",
       "                  value='32'\n",
       "                  max='32',\n",
       "                  style='width: 25%',\n",
       "              >\n",
       "                  32\n",
       "              </progress>\n",
       "\n",
       "    "
      ],
      "text/plain": [
       "<IPython.core.display.HTML object>"
      ]
     },
     "metadata": {},
     "output_type": "display_data"
    },
    {
     "name": "stdout",
     "output_type": "stream",
     "text": [
      "\n",
      "*** Feature extraction finished ***\n",
      "Empty DataFrame\n",
      "Columns: [phone_accel_x_denoise, phone_accel_y_denoise, phone_accel_z_denoise, phone_gyro_x_denoise, phone_gyro_y_denoise, phone_gyro_z_denoise]\n",
      "Index: []\n",
      "False\n",
      "*** Feature extraction started ***\n",
      "Unexpected error, ignore it...\n",
      "Empty DataFrame\n",
      "Columns: [phone_accel_x_denoise, phone_accel_y_denoise, phone_accel_z_denoise, phone_gyro_x_denoise, phone_gyro_y_denoise, phone_gyro_z_denoise]\n",
      "Index: []\n",
      "False\n",
      "*** Feature extraction started ***\n",
      "Unexpected error, ignore it...\n",
      "7\n",
      "        phone_accel_x_denoise  phone_accel_y_denoise  phone_accel_z_denoise  \\\n",
      "714711               -1.46107              -10.32026                1.99493   \n",
      "\n",
      "        phone_gyro_x_denoise  phone_gyro_y_denoise  phone_gyro_z_denoise  \n",
      "714711               3.18821               0.91809               0.06402  \n",
      "False\n",
      "*** Feature extraction started ***\n"
     ]
    },
    {
     "data": {
      "text/html": [
       "\n",
       "              <p>\n",
       "                  Progress: 100% Complete\n",
       "              <p/>            \n",
       "              <progress\n",
       "                  value='32'\n",
       "                  max='32',\n",
       "                  style='width: 25%',\n",
       "              >\n",
       "                  32\n",
       "              </progress>\n",
       "\n",
       "    "
      ],
      "text/plain": [
       "<IPython.core.display.HTML object>"
      ]
     },
     "metadata": {},
     "output_type": "display_data"
    },
    {
     "name": "stdout",
     "output_type": "stream",
     "text": [
      "\n",
      "*** Feature extraction finished ***\n",
      "        phone_accel_x_denoise  phone_accel_y_denoise  phone_accel_z_denoise  \\\n",
      "718279                -9.7377              -15.60473                2.12515   \n",
      "\n",
      "        phone_gyro_x_denoise  phone_gyro_y_denoise  phone_gyro_z_denoise  \n",
      "718279              -0.04389               1.38701               0.28451  \n",
      "False\n",
      "*** Feature extraction started ***\n"
     ]
    },
    {
     "data": {
      "text/html": [
       "\n",
       "              <p>\n",
       "                  Progress: 100% Complete\n",
       "              <p/>            \n",
       "              <progress\n",
       "                  value='32'\n",
       "                  max='32',\n",
       "                  style='width: 25%',\n",
       "              >\n",
       "                  32\n",
       "              </progress>\n",
       "\n",
       "    "
      ],
      "text/plain": [
       "<IPython.core.display.HTML object>"
      ]
     },
     "metadata": {},
     "output_type": "display_data"
    },
    {
     "name": "stdout",
     "output_type": "stream",
     "text": [
      "\n",
      "*** Feature extraction finished ***\n",
      "        phone_accel_x_denoise  phone_accel_y_denoise  phone_accel_z_denoise  \\\n",
      "721848                0.64153               -8.71183                 1.0869   \n",
      "\n",
      "        phone_gyro_x_denoise  phone_gyro_y_denoise  phone_gyro_z_denoise  \n",
      "721848               0.12171               0.80068               0.49773  \n",
      "False\n",
      "*** Feature extraction started ***\n"
     ]
    },
    {
     "data": {
      "text/html": [
       "\n",
       "              <p>\n",
       "                  Progress: 100% Complete\n",
       "              <p/>            \n",
       "              <progress\n",
       "                  value='32'\n",
       "                  max='32',\n",
       "                  style='width: 25%',\n",
       "              >\n",
       "                  32\n",
       "              </progress>\n",
       "\n",
       "    "
      ],
      "text/plain": [
       "<IPython.core.display.HTML object>"
      ]
     },
     "metadata": {},
     "output_type": "display_data"
    },
    {
     "name": "stdout",
     "output_type": "stream",
     "text": [
      "\n",
      "*** Feature extraction finished ***\n",
      "Empty DataFrame\n",
      "Columns: [phone_accel_x_denoise, phone_accel_y_denoise, phone_accel_z_denoise, phone_gyro_x_denoise, phone_gyro_y_denoise, phone_gyro_z_denoise]\n",
      "Index: []\n",
      "False\n",
      "*** Feature extraction started ***\n",
      "Unexpected error, ignore it...\n",
      "        phone_accel_x_denoise  phone_accel_y_denoise  phone_accel_z_denoise  \\\n",
      "761104                3.29694               -8.89933                0.62608   \n",
      "\n",
      "        phone_gyro_x_denoise  phone_gyro_y_denoise  phone_gyro_z_denoise  \n",
      "761104              -0.06644               0.27219               -0.0545  \n",
      "False\n",
      "*** Feature extraction started ***\n"
     ]
    },
    {
     "data": {
      "text/html": [
       "\n",
       "              <p>\n",
       "                  Progress: 100% Complete\n",
       "              <p/>            \n",
       "              <progress\n",
       "                  value='32'\n",
       "                  max='32',\n",
       "                  style='width: 25%',\n",
       "              >\n",
       "                  32\n",
       "              </progress>\n",
       "\n",
       "    "
      ],
      "text/plain": [
       "<IPython.core.display.HTML object>"
      ]
     },
     "metadata": {},
     "output_type": "display_data"
    },
    {
     "name": "stdout",
     "output_type": "stream",
     "text": [
      "\n",
      "*** Feature extraction finished ***\n",
      "8\n",
      "        phone_accel_x_denoise  phone_accel_y_denoise  phone_accel_z_denoise  \\\n",
      "775380               -3.93251               -5.58578                 -0.174   \n",
      "\n",
      "        phone_gyro_x_denoise  phone_gyro_y_denoise  phone_gyro_z_denoise  \n",
      "775380              -0.58073              -0.32467              -0.35299  \n",
      "False\n",
      "*** Feature extraction started ***\n"
     ]
    },
    {
     "data": {
      "text/html": [
       "\n",
       "              <p>\n",
       "                  Progress: 100% Complete\n",
       "              <p/>            \n",
       "              <progress\n",
       "                  value='32'\n",
       "                  max='32',\n",
       "                  style='width: 25%',\n",
       "              >\n",
       "                  32\n",
       "              </progress>\n",
       "\n",
       "    "
      ],
      "text/plain": [
       "<IPython.core.display.HTML object>"
      ]
     },
     "metadata": {},
     "output_type": "display_data"
    },
    {
     "name": "stdout",
     "output_type": "stream",
     "text": [
      "\n",
      "*** Feature extraction finished ***\n",
      "        phone_accel_x_denoise  phone_accel_y_denoise  phone_accel_z_denoise  \\\n",
      "778949               -2.56466               -2.26076               -1.43892   \n",
      "\n",
      "        phone_gyro_x_denoise  phone_gyro_y_denoise  phone_gyro_z_denoise  \n",
      "778949               1.01248              -2.03401               -1.5245  \n",
      "False\n",
      "*** Feature extraction started ***\n"
     ]
    },
    {
     "data": {
      "text/html": [
       "\n",
       "              <p>\n",
       "                  Progress: 100% Complete\n",
       "              <p/>            \n",
       "              <progress\n",
       "                  value='32'\n",
       "                  max='32',\n",
       "                  style='width: 25%',\n",
       "              >\n",
       "                  32\n",
       "              </progress>\n",
       "\n",
       "    "
      ],
      "text/plain": [
       "<IPython.core.display.HTML object>"
      ]
     },
     "metadata": {},
     "output_type": "display_data"
    },
    {
     "name": "stdout",
     "output_type": "stream",
     "text": [
      "\n",
      "*** Feature extraction finished ***\n",
      "        phone_accel_x_denoise  phone_accel_y_denoise  phone_accel_z_denoise  \\\n",
      "782518               -3.16486               -6.25291               -3.22076   \n",
      "\n",
      "        phone_gyro_x_denoise  phone_gyro_y_denoise  phone_gyro_z_denoise  \n",
      "782518              -0.02702              -0.28293              -0.95107  \n",
      "False\n",
      "*** Feature extraction started ***\n"
     ]
    },
    {
     "data": {
      "text/html": [
       "\n",
       "              <p>\n",
       "                  Progress: 100% Complete\n",
       "              <p/>            \n",
       "              <progress\n",
       "                  value='32'\n",
       "                  max='32',\n",
       "                  style='width: 25%',\n",
       "              >\n",
       "                  32\n",
       "              </progress>\n",
       "\n",
       "    "
      ],
      "text/plain": [
       "<IPython.core.display.HTML object>"
      ]
     },
     "metadata": {},
     "output_type": "display_data"
    },
    {
     "name": "stdout",
     "output_type": "stream",
     "text": [
      "\n",
      "*** Feature extraction finished ***\n",
      "        phone_accel_x_denoise  phone_accel_y_denoise  phone_accel_z_denoise  \\\n",
      "821776                 2.8466                -9.2582               -0.56797   \n",
      "\n",
      "        phone_gyro_x_denoise  phone_gyro_y_denoise  phone_gyro_z_denoise  \n",
      "821776              -0.01231              -0.34044                0.0029  \n",
      "False\n",
      "*** Feature extraction started ***\n"
     ]
    },
    {
     "data": {
      "text/html": [
       "\n",
       "              <p>\n",
       "                  Progress: 100% Complete\n",
       "              <p/>            \n",
       "              <progress\n",
       "                  value='32'\n",
       "                  max='32',\n",
       "                  style='width: 25%',\n",
       "              >\n",
       "                  32\n",
       "              </progress>\n",
       "\n",
       "    "
      ],
      "text/plain": [
       "<IPython.core.display.HTML object>"
      ]
     },
     "metadata": {},
     "output_type": "display_data"
    },
    {
     "name": "stdout",
     "output_type": "stream",
     "text": [
      "\n",
      "*** Feature extraction finished ***\n",
      "        phone_accel_x_denoise  phone_accel_y_denoise  phone_accel_z_denoise  \\\n",
      "825345               -9.34763               -3.06285                1.04346   \n",
      "\n",
      "        phone_gyro_x_denoise  phone_gyro_y_denoise  phone_gyro_z_denoise  \n",
      "825345                0.0141               0.00107               0.00448  \n",
      "False\n",
      "*** Feature extraction started ***\n"
     ]
    },
    {
     "data": {
      "text/html": [
       "\n",
       "              <p>\n",
       "                  Progress: 100% Complete\n",
       "              <p/>            \n",
       "              <progress\n",
       "                  value='32'\n",
       "                  max='32',\n",
       "                  style='width: 25%',\n",
       "              >\n",
       "                  32\n",
       "              </progress>\n",
       "\n",
       "    "
      ],
      "text/plain": [
       "<IPython.core.display.HTML object>"
      ]
     },
     "metadata": {},
     "output_type": "display_data"
    },
    {
     "name": "stdout",
     "output_type": "stream",
     "text": [
      "\n",
      "*** Feature extraction finished ***\n",
      "8\n",
      "        phone_accel_x_denoise  phone_accel_y_denoise  phone_accel_z_denoise  \\\n",
      "839611               -2.13064               13.75229               -0.94391   \n",
      "\n",
      "        phone_gyro_x_denoise  phone_gyro_y_denoise  phone_gyro_z_denoise  \n",
      "839611              -0.46428              -0.10839              -0.29597  \n",
      "False\n",
      "*** Feature extraction started ***\n"
     ]
    },
    {
     "data": {
      "text/html": [
       "\n",
       "              <p>\n",
       "                  Progress: 100% Complete\n",
       "              <p/>            \n",
       "              <progress\n",
       "                  value='42'\n",
       "                  max='42',\n",
       "                  style='width: 25%',\n",
       "              >\n",
       "                  42\n",
       "              </progress>\n",
       "\n",
       "    "
      ],
      "text/plain": [
       "<IPython.core.display.HTML object>"
      ]
     },
     "metadata": {},
     "output_type": "display_data"
    },
    {
     "name": "stdout",
     "output_type": "stream",
     "text": [
      "\n",
      "*** Feature extraction finished ***\n",
      "        phone_accel_x_denoise  phone_accel_y_denoise  phone_accel_z_denoise  \\\n",
      "844121               -1.89661               12.57914                0.24999   \n",
      "\n",
      "        phone_gyro_x_denoise  phone_gyro_y_denoise  phone_gyro_z_denoise  \n",
      "844121               2.00412               0.49925               0.12526  \n",
      "False\n",
      "*** Feature extraction started ***\n"
     ]
    },
    {
     "data": {
      "text/html": [
       "\n",
       "              <p>\n",
       "                  Progress: 100% Complete\n",
       "              <p/>            \n",
       "              <progress\n",
       "                  value='42'\n",
       "                  max='42',\n",
       "                  style='width: 25%',\n",
       "              >\n",
       "                  42\n",
       "              </progress>\n",
       "\n",
       "    "
      ],
      "text/plain": [
       "<IPython.core.display.HTML object>"
      ]
     },
     "metadata": {},
     "output_type": "display_data"
    },
    {
     "name": "stdout",
     "output_type": "stream",
     "text": [
      "\n",
      "*** Feature extraction finished ***\n",
      "        phone_accel_x_denoise  phone_accel_y_denoise  phone_accel_z_denoise  \\\n",
      "848631               -4.17429               12.91851               -0.20969   \n",
      "\n",
      "        phone_gyro_x_denoise  phone_gyro_y_denoise  phone_gyro_z_denoise  \n",
      "848631              -1.52342              -0.25762                0.0245  \n",
      "False\n",
      "*** Feature extraction started ***\n"
     ]
    },
    {
     "data": {
      "text/html": [
       "\n",
       "              <p>\n",
       "                  Progress: 100% Complete\n",
       "              <p/>            \n",
       "              <progress\n",
       "                  value='42'\n",
       "                  max='42',\n",
       "                  style='width: 25%',\n",
       "              >\n",
       "                  42\n",
       "              </progress>\n",
       "\n",
       "    "
      ],
      "text/plain": [
       "<IPython.core.display.HTML object>"
      ]
     },
     "metadata": {},
     "output_type": "display_data"
    },
    {
     "name": "stdout",
     "output_type": "stream",
     "text": [
      "\n",
      "*** Feature extraction finished ***\n",
      "        phone_accel_x_denoise  phone_accel_y_denoise  phone_accel_z_denoise  \\\n",
      "898243               -0.70469                9.43774                2.31439   \n",
      "\n",
      "        phone_gyro_x_denoise  phone_gyro_y_denoise  phone_gyro_z_denoise  \n",
      "898243              -0.20782              -0.93069              -0.16299  \n",
      "False\n",
      "*** Feature extraction started ***\n"
     ]
    },
    {
     "data": {
      "text/html": [
       "\n",
       "              <p>\n",
       "                  Progress: 100% Complete\n",
       "              <p/>            \n",
       "              <progress\n",
       "                  value='42'\n",
       "                  max='42',\n",
       "                  style='width: 25%',\n",
       "              >\n",
       "                  42\n",
       "              </progress>\n",
       "\n",
       "    "
      ],
      "text/plain": [
       "<IPython.core.display.HTML object>"
      ]
     },
     "metadata": {},
     "output_type": "display_data"
    },
    {
     "name": "stdout",
     "output_type": "stream",
     "text": [
      "\n",
      "*** Feature extraction finished ***\n",
      "        phone_accel_x_denoise  phone_accel_y_denoise  phone_accel_z_denoise  \\\n",
      "902753               -0.61232                9.22725               -0.67836   \n",
      "\n",
      "        phone_gyro_x_denoise  phone_gyro_y_denoise  phone_gyro_z_denoise  \n",
      "902753               0.47165               0.20116               0.12197  \n",
      "False\n",
      "*** Feature extraction started ***\n"
     ]
    },
    {
     "data": {
      "text/html": [
       "\n",
       "              <p>\n",
       "                  Progress: 100% Complete\n",
       "              <p/>            \n",
       "              <progress\n",
       "                  value='42'\n",
       "                  max='42',\n",
       "                  style='width: 25%',\n",
       "              >\n",
       "                  42\n",
       "              </progress>\n",
       "\n",
       "    "
      ],
      "text/plain": [
       "<IPython.core.display.HTML object>"
      ]
     },
     "metadata": {},
     "output_type": "display_data"
    },
    {
     "name": "stdout",
     "output_type": "stream",
     "text": [
      "\n",
      "*** Feature extraction finished ***\n",
      "8\n",
      "        phone_accel_x_denoise  phone_accel_y_denoise  phone_accel_z_denoise  \\\n",
      "920793               -0.29778               13.12151               -1.42264   \n",
      "\n",
      "        phone_gyro_x_denoise  phone_gyro_y_denoise  phone_gyro_z_denoise  \n",
      "920793               0.67005              -3.06867               0.19388  \n",
      "False\n",
      "*** Feature extraction started ***\n"
     ]
    },
    {
     "data": {
      "text/html": [
       "\n",
       "              <p>\n",
       "                  Progress: 100% Complete\n",
       "              <p/>            \n",
       "              <progress\n",
       "                  value='28'\n",
       "                  max='28',\n",
       "                  style='width: 25%',\n",
       "              >\n",
       "                  28\n",
       "              </progress>\n",
       "\n",
       "    "
      ],
      "text/plain": [
       "<IPython.core.display.HTML object>"
      ]
     },
     "metadata": {},
     "output_type": "display_data"
    },
    {
     "name": "stdout",
     "output_type": "stream",
     "text": [
      "\n",
      "*** Feature extraction finished ***\n",
      "Empty DataFrame\n",
      "Columns: [phone_accel_x_denoise, phone_accel_y_denoise, phone_accel_z_denoise, phone_gyro_x_denoise, phone_gyro_y_denoise, phone_gyro_z_denoise]\n",
      "Index: []\n",
      "False\n",
      "*** Feature extraction started ***\n",
      "Unexpected error, ignore it...\n",
      "Empty DataFrame\n",
      "Columns: [phone_accel_x_denoise, phone_accel_y_denoise, phone_accel_z_denoise, phone_gyro_x_denoise, phone_gyro_y_denoise, phone_gyro_z_denoise]\n",
      "Index: []\n",
      "False\n",
      "*** Feature extraction started ***\n",
      "Unexpected error, ignore it...\n",
      "Empty DataFrame\n",
      "Columns: [phone_accel_x_denoise, phone_accel_y_denoise, phone_accel_z_denoise, phone_gyro_x_denoise, phone_gyro_y_denoise, phone_gyro_z_denoise]\n",
      "Index: []\n",
      "False\n",
      "*** Feature extraction started ***\n",
      "Unexpected error, ignore it...\n",
      "Empty DataFrame\n",
      "Columns: [phone_accel_x_denoise, phone_accel_y_denoise, phone_accel_z_denoise, phone_gyro_x_denoise, phone_gyro_y_denoise, phone_gyro_z_denoise]\n",
      "Index: []\n",
      "False\n",
      "*** Feature extraction started ***\n",
      "Unexpected error, ignore it...\n",
      "12\n",
      "        phone_accel_x_denoise  phone_accel_y_denoise  phone_accel_z_denoise  \\\n",
      "939232                0.14927               -9.53429               -6.52538   \n",
      "\n",
      "        phone_gyro_x_denoise  phone_gyro_y_denoise  phone_gyro_z_denoise  \n",
      "939232               1.34345               0.14146               0.20545  \n",
      "False\n",
      "*** Feature extraction started ***\n"
     ]
    },
    {
     "data": {
      "text/html": [
       "\n",
       "              <p>\n",
       "                  Progress: 100% Complete\n",
       "              <p/>            \n",
       "              <progress\n",
       "                  value='32'\n",
       "                  max='32',\n",
       "                  style='width: 25%',\n",
       "              >\n",
       "                  32\n",
       "              </progress>\n",
       "\n",
       "    "
      ],
      "text/plain": [
       "<IPython.core.display.HTML object>"
      ]
     },
     "metadata": {},
     "output_type": "display_data"
    },
    {
     "name": "stdout",
     "output_type": "stream",
     "text": [
      "\n",
      "*** Feature extraction finished ***\n",
      "        phone_accel_x_denoise  phone_accel_y_denoise  phone_accel_z_denoise  \\\n",
      "942801                2.81635                1.33576               -9.67939   \n",
      "\n",
      "        phone_gyro_x_denoise  phone_gyro_y_denoise  phone_gyro_z_denoise  \n",
      "942801                -0.397              -1.20516              -0.13408  \n",
      "False\n",
      "*** Feature extraction started ***\n"
     ]
    },
    {
     "data": {
      "text/html": [
       "\n",
       "              <p>\n",
       "                  Progress: 100% Complete\n",
       "              <p/>            \n",
       "              <progress\n",
       "                  value='32'\n",
       "                  max='32',\n",
       "                  style='width: 25%',\n",
       "              >\n",
       "                  32\n",
       "              </progress>\n",
       "\n",
       "    "
      ],
      "text/plain": [
       "<IPython.core.display.HTML object>"
      ]
     },
     "metadata": {},
     "output_type": "display_data"
    },
    {
     "name": "stdout",
     "output_type": "stream",
     "text": [
      "\n",
      "*** Feature extraction finished ***\n",
      "        phone_accel_x_denoise  phone_accel_y_denoise  phone_accel_z_denoise  \\\n",
      "946370                1.74406              -17.50345               -5.03059   \n",
      "\n",
      "        phone_gyro_x_denoise  phone_gyro_y_denoise  phone_gyro_z_denoise  \n",
      "946370               1.91835              -0.58357               0.09562  \n",
      "False\n",
      "*** Feature extraction started ***\n"
     ]
    },
    {
     "data": {
      "text/html": [
       "\n",
       "              <p>\n",
       "                  Progress: 100% Complete\n",
       "              <p/>            \n",
       "              <progress\n",
       "                  value='32'\n",
       "                  max='32',\n",
       "                  style='width: 25%',\n",
       "              >\n",
       "                  32\n",
       "              </progress>\n",
       "\n",
       "    "
      ],
      "text/plain": [
       "<IPython.core.display.HTML object>"
      ]
     },
     "metadata": {},
     "output_type": "display_data"
    },
    {
     "name": "stdout",
     "output_type": "stream",
     "text": [
      "\n",
      "*** Feature extraction finished ***\n",
      "        phone_accel_x_denoise  phone_accel_y_denoise  phone_accel_z_denoise  \\\n",
      "985629                1.90739               -10.3598               -0.39752   \n",
      "\n",
      "        phone_gyro_x_denoise  phone_gyro_y_denoise  phone_gyro_z_denoise  \n",
      "985629               -0.0122               0.75682               0.55642  \n",
      "False\n",
      "*** Feature extraction started ***\n"
     ]
    },
    {
     "data": {
      "text/html": [
       "\n",
       "              <p>\n",
       "                  Progress: 100% Complete\n",
       "              <p/>            \n",
       "              <progress\n",
       "                  value='32'\n",
       "                  max='32',\n",
       "                  style='width: 25%',\n",
       "              >\n",
       "                  32\n",
       "              </progress>\n",
       "\n",
       "    "
      ],
      "text/plain": [
       "<IPython.core.display.HTML object>"
      ]
     },
     "metadata": {},
     "output_type": "display_data"
    },
    {
     "name": "stdout",
     "output_type": "stream",
     "text": [
      "\n",
      "*** Feature extraction finished ***\n",
      "        phone_accel_x_denoise  phone_accel_y_denoise  phone_accel_z_denoise  \\\n",
      "989197                 5.1534               -8.57271               -2.28696   \n",
      "\n",
      "        phone_gyro_x_denoise  phone_gyro_y_denoise  phone_gyro_z_denoise  \n",
      "989197               0.55833              -1.11767              -0.44514  \n",
      "False\n",
      "*** Feature extraction started ***\n"
     ]
    },
    {
     "data": {
      "text/html": [
       "\n",
       "              <p>\n",
       "                  Progress: 100% Complete\n",
       "              <p/>            \n",
       "              <progress\n",
       "                  value='32'\n",
       "                  max='32',\n",
       "                  style='width: 25%',\n",
       "              >\n",
       "                  32\n",
       "              </progress>\n",
       "\n",
       "    "
      ],
      "text/plain": [
       "<IPython.core.display.HTML object>"
      ]
     },
     "metadata": {},
     "output_type": "display_data"
    },
    {
     "name": "stdout",
     "output_type": "stream",
     "text": [
      "\n",
      "*** Feature extraction finished ***\n",
      "12\n",
      "         phone_accel_x_denoise  phone_accel_y_denoise  phone_accel_z_denoise  \\\n",
      "1003473                5.62856               -8.21318                1.34444   \n",
      "\n",
      "         phone_gyro_x_denoise  phone_gyro_y_denoise  phone_gyro_z_denoise  \n",
      "1003473               0.53561               1.21008              -0.36929  \n",
      "False\n",
      "*** Feature extraction started ***\n"
     ]
    },
    {
     "data": {
      "text/html": [
       "\n",
       "              <p>\n",
       "                  Progress: 100% Complete\n",
       "              <p/>            \n",
       "              <progress\n",
       "                  value='1'\n",
       "                  max='1',\n",
       "                  style='width: 25%',\n",
       "              >\n",
       "                  1\n",
       "              </progress>\n",
       "\n",
       "    "
      ],
      "text/plain": [
       "<IPython.core.display.HTML object>"
      ]
     },
     "metadata": {},
     "output_type": "display_data"
    },
    {
     "name": "stdout",
     "output_type": "stream",
     "text": [
      "\n",
      "*** Feature extraction finished ***\n",
      "Empty DataFrame\n",
      "Columns: [phone_accel_x_denoise, phone_accel_y_denoise, phone_accel_z_denoise, phone_gyro_x_denoise, phone_gyro_y_denoise, phone_gyro_z_denoise]\n",
      "Index: []\n",
      "False\n",
      "*** Feature extraction started ***\n",
      "Unexpected error, ignore it...\n",
      "Empty DataFrame\n",
      "Columns: [phone_accel_x_denoise, phone_accel_y_denoise, phone_accel_z_denoise, phone_gyro_x_denoise, phone_gyro_y_denoise, phone_gyro_z_denoise]\n",
      "Index: []\n",
      "False\n",
      "*** Feature extraction started ***\n",
      "Unexpected error, ignore it...\n",
      "Empty DataFrame\n",
      "Columns: [phone_accel_x_denoise, phone_accel_y_denoise, phone_accel_z_denoise, phone_gyro_x_denoise, phone_gyro_y_denoise, phone_gyro_z_denoise]\n",
      "Index: []\n",
      "False\n",
      "*** Feature extraction started ***\n",
      "Unexpected error, ignore it...\n",
      "Empty DataFrame\n",
      "Columns: [phone_accel_x_denoise, phone_accel_y_denoise, phone_accel_z_denoise, phone_gyro_x_denoise, phone_gyro_y_denoise, phone_gyro_z_denoise]\n",
      "Index: []\n",
      "False\n",
      "*** Feature extraction started ***\n",
      "Unexpected error, ignore it...\n",
      "16\n",
      "         phone_accel_x_denoise  phone_accel_y_denoise  phone_accel_z_denoise  \\\n",
      "1032467               -1.91033              -10.96183                1.64345   \n",
      "\n",
      "         phone_gyro_x_denoise  phone_gyro_y_denoise  phone_gyro_z_denoise  \n",
      "1032467              -0.71191               0.50276               0.11823  \n",
      "False\n",
      "*** Feature extraction started ***\n"
     ]
    },
    {
     "data": {
      "text/html": [
       "\n",
       "              <p>\n",
       "                  Progress: 100% Complete\n",
       "              <p/>            \n",
       "              <progress\n",
       "                  value='32'\n",
       "                  max='32',\n",
       "                  style='width: 25%',\n",
       "              >\n",
       "                  32\n",
       "              </progress>\n",
       "\n",
       "    "
      ],
      "text/plain": [
       "<IPython.core.display.HTML object>"
      ]
     },
     "metadata": {},
     "output_type": "display_data"
    },
    {
     "name": "stdout",
     "output_type": "stream",
     "text": [
      "\n",
      "*** Feature extraction finished ***\n",
      "         phone_accel_x_denoise  phone_accel_y_denoise  phone_accel_z_denoise  \\\n",
      "1036036                2.53664              -16.79532               -5.09398   \n",
      "\n",
      "         phone_gyro_x_denoise  phone_gyro_y_denoise  phone_gyro_z_denoise  \n",
      "1036036              -1.17418               1.70227              -0.07568  \n",
      "False\n",
      "*** Feature extraction started ***\n"
     ]
    },
    {
     "data": {
      "text/html": [
       "\n",
       "              <p>\n",
       "                  Progress: 100% Complete\n",
       "              <p/>            \n",
       "              <progress\n",
       "                  value='32'\n",
       "                  max='32',\n",
       "                  style='width: 25%',\n",
       "              >\n",
       "                  32\n",
       "              </progress>\n",
       "\n",
       "    "
      ],
      "text/plain": [
       "<IPython.core.display.HTML object>"
      ]
     },
     "metadata": {},
     "output_type": "display_data"
    },
    {
     "name": "stdout",
     "output_type": "stream",
     "text": [
      "\n",
      "*** Feature extraction finished ***\n",
      "         phone_accel_x_denoise  phone_accel_y_denoise  phone_accel_z_denoise  \\\n",
      "1039605               -5.23088                -6.3705               -2.20876   \n",
      "\n",
      "         phone_gyro_x_denoise  phone_gyro_y_denoise  phone_gyro_z_denoise  \n",
      "1039605               0.83676              -0.33295               1.26285  \n",
      "False\n",
      "*** Feature extraction started ***\n"
     ]
    },
    {
     "data": {
      "text/html": [
       "\n",
       "              <p>\n",
       "                  Progress: 100% Complete\n",
       "              <p/>            \n",
       "              <progress\n",
       "                  value='32'\n",
       "                  max='32',\n",
       "                  style='width: 25%',\n",
       "              >\n",
       "                  32\n",
       "              </progress>\n",
       "\n",
       "    "
      ],
      "text/plain": [
       "<IPython.core.display.HTML object>"
      ]
     },
     "metadata": {},
     "output_type": "display_data"
    },
    {
     "name": "stdout",
     "output_type": "stream",
     "text": [
      "\n",
      "*** Feature extraction finished ***\n",
      "         phone_accel_x_denoise  phone_accel_y_denoise  phone_accel_z_denoise  \\\n",
      "1078863               -4.31622               -8.32504                2.51374   \n",
      "\n",
      "         phone_gyro_x_denoise  phone_gyro_y_denoise  phone_gyro_z_denoise  \n",
      "1078863               0.28741               0.91923               0.05759  \n",
      "False\n",
      "*** Feature extraction started ***\n"
     ]
    },
    {
     "data": {
      "text/html": [
       "\n",
       "              <p>\n",
       "                  Progress: 100% Complete\n",
       "              <p/>            \n",
       "              <progress\n",
       "                  value='32'\n",
       "                  max='32',\n",
       "                  style='width: 25%',\n",
       "              >\n",
       "                  32\n",
       "              </progress>\n",
       "\n",
       "    "
      ],
      "text/plain": [
       "<IPython.core.display.HTML object>"
      ]
     },
     "metadata": {},
     "output_type": "display_data"
    },
    {
     "name": "stdout",
     "output_type": "stream",
     "text": [
      "\n",
      "*** Feature extraction finished ***\n",
      "         phone_accel_x_denoise  phone_accel_y_denoise  phone_accel_z_denoise  \\\n",
      "1082432                0.13415                2.01531               12.25173   \n",
      "\n",
      "         phone_gyro_x_denoise  phone_gyro_y_denoise  phone_gyro_z_denoise  \n",
      "1082432              -0.70023               2.92453               1.43179  \n",
      "False\n",
      "*** Feature extraction started ***\n"
     ]
    },
    {
     "data": {
      "text/html": [
       "\n",
       "              <p>\n",
       "                  Progress: 100% Complete\n",
       "              <p/>            \n",
       "              <progress\n",
       "                  value='32'\n",
       "                  max='32',\n",
       "                  style='width: 25%',\n",
       "              >\n",
       "                  32\n",
       "              </progress>\n",
       "\n",
       "    "
      ],
      "text/plain": [
       "<IPython.core.display.HTML object>"
      ]
     },
     "metadata": {},
     "output_type": "display_data"
    },
    {
     "name": "stdout",
     "output_type": "stream",
     "text": [
      "\n",
      "*** Feature extraction finished ***\n",
      "16\n",
      "         phone_accel_x_denoise  phone_accel_y_denoise  phone_accel_z_denoise  \\\n",
      "1096706               -7.88713              -12.47228               -3.69923   \n",
      "\n",
      "         phone_gyro_x_denoise  phone_gyro_y_denoise  phone_gyro_z_denoise  \n",
      "1096706               0.97676               3.25014               3.18091  \n",
      "False\n",
      "*** Feature extraction started ***\n"
     ]
    },
    {
     "data": {
      "text/html": [
       "\n",
       "              <p>\n",
       "                  Progress: 100% Complete\n",
       "              <p/>            \n",
       "              <progress\n",
       "                  value='32'\n",
       "                  max='32',\n",
       "                  style='width: 25%',\n",
       "              >\n",
       "                  32\n",
       "              </progress>\n",
       "\n",
       "    "
      ],
      "text/plain": [
       "<IPython.core.display.HTML object>"
      ]
     },
     "metadata": {},
     "output_type": "display_data"
    },
    {
     "name": "stdout",
     "output_type": "stream",
     "text": [
      "\n",
      "*** Feature extraction finished ***\n",
      "         phone_accel_x_denoise  phone_accel_y_denoise  phone_accel_z_denoise  \\\n",
      "1100275               14.87408                0.21651                6.58784   \n",
      "\n",
      "         phone_gyro_x_denoise  phone_gyro_y_denoise  phone_gyro_z_denoise  \n",
      "1100275               4.72727              -5.80695               2.34532  \n",
      "False\n",
      "*** Feature extraction started ***\n"
     ]
    },
    {
     "data": {
      "text/html": [
       "\n",
       "              <p>\n",
       "                  Progress: 100% Complete\n",
       "              <p/>            \n",
       "              <progress\n",
       "                  value='32'\n",
       "                  max='32',\n",
       "                  style='width: 25%',\n",
       "              >\n",
       "                  32\n",
       "              </progress>\n",
       "\n",
       "    "
      ],
      "text/plain": [
       "<IPython.core.display.HTML object>"
      ]
     },
     "metadata": {},
     "output_type": "display_data"
    },
    {
     "name": "stdout",
     "output_type": "stream",
     "text": [
      "\n",
      "*** Feature extraction finished ***\n",
      "         phone_accel_x_denoise  phone_accel_y_denoise  phone_accel_z_denoise  \\\n",
      "1103844               -0.78441                -7.8194                3.52709   \n",
      "\n",
      "         phone_gyro_x_denoise  phone_gyro_y_denoise  phone_gyro_z_denoise  \n",
      "1103844               1.03151              -0.19693              -0.01745  \n",
      "False\n",
      "*** Feature extraction started ***\n"
     ]
    },
    {
     "data": {
      "text/html": [
       "\n",
       "              <p>\n",
       "                  Progress: 100% Complete\n",
       "              <p/>            \n",
       "              <progress\n",
       "                  value='32'\n",
       "                  max='32',\n",
       "                  style='width: 25%',\n",
       "              >\n",
       "                  32\n",
       "              </progress>\n",
       "\n",
       "    "
      ],
      "text/plain": [
       "<IPython.core.display.HTML object>"
      ]
     },
     "metadata": {},
     "output_type": "display_data"
    },
    {
     "name": "stdout",
     "output_type": "stream",
     "text": [
      "\n",
      "*** Feature extraction finished ***\n",
      "Empty DataFrame\n",
      "Columns: [phone_accel_x_denoise, phone_accel_y_denoise, phone_accel_z_denoise, phone_gyro_x_denoise, phone_gyro_y_denoise, phone_gyro_z_denoise]\n",
      "Index: []\n",
      "False\n",
      "*** Feature extraction started ***\n",
      "Unexpected error, ignore it...\n",
      "         phone_accel_x_denoise  phone_accel_y_denoise  phone_accel_z_denoise  \\\n",
      "1141166                -8.8554               -6.34294               -2.22931   \n",
      "\n",
      "         phone_gyro_x_denoise  phone_gyro_y_denoise  phone_gyro_z_denoise  \n",
      "1141166              -0.09299               0.50933              -0.02168  \n",
      "False\n",
      "*** Feature extraction started ***\n"
     ]
    },
    {
     "data": {
      "text/html": [
       "\n",
       "              <p>\n",
       "                  Progress: 100% Complete\n",
       "              <p/>            \n",
       "              <progress\n",
       "                  value='32'\n",
       "                  max='32',\n",
       "                  style='width: 25%',\n",
       "              >\n",
       "                  32\n",
       "              </progress>\n",
       "\n",
       "    "
      ],
      "text/plain": [
       "<IPython.core.display.HTML object>"
      ]
     },
     "metadata": {},
     "output_type": "display_data"
    },
    {
     "name": "stdout",
     "output_type": "stream",
     "text": [
      "\n",
      "*** Feature extraction finished ***\n",
      "17\n",
      "         phone_accel_x_denoise  phone_accel_y_denoise  phone_accel_z_denoise  \\\n",
      "1155442               -0.07502               -8.66302                -0.8651   \n",
      "\n",
      "         phone_gyro_x_denoise  phone_gyro_y_denoise  phone_gyro_z_denoise  \n",
      "1155442              -1.30992               0.36539              -0.90974  \n",
      "False\n",
      "*** Feature extraction started ***\n"
     ]
    },
    {
     "data": {
      "text/html": [
       "\n",
       "              <p>\n",
       "                  Progress: 100% Complete\n",
       "              <p/>            \n",
       "              <progress\n",
       "                  value='42'\n",
       "                  max='42',\n",
       "                  style='width: 25%',\n",
       "              >\n",
       "                  42\n",
       "              </progress>\n",
       "\n",
       "    "
      ],
      "text/plain": [
       "<IPython.core.display.HTML object>"
      ]
     },
     "metadata": {},
     "output_type": "display_data"
    },
    {
     "name": "stdout",
     "output_type": "stream",
     "text": [
      "\n",
      "*** Feature extraction finished ***\n",
      "         phone_accel_x_denoise  phone_accel_y_denoise  phone_accel_z_denoise  \\\n",
      "1159952                0.04729               -7.09182               -3.15835   \n",
      "\n",
      "         phone_gyro_x_denoise  phone_gyro_y_denoise  phone_gyro_z_denoise  \n",
      "1159952               1.51161              -1.12172               1.73354  \n",
      "False\n",
      "*** Feature extraction started ***\n"
     ]
    },
    {
     "data": {
      "text/html": [
       "\n",
       "              <p>\n",
       "                  Progress: 100% Complete\n",
       "              <p/>            \n",
       "              <progress\n",
       "                  value='42'\n",
       "                  max='42',\n",
       "                  style='width: 25%',\n",
       "              >\n",
       "                  42\n",
       "              </progress>\n",
       "\n",
       "    "
      ],
      "text/plain": [
       "<IPython.core.display.HTML object>"
      ]
     },
     "metadata": {},
     "output_type": "display_data"
    },
    {
     "name": "stdout",
     "output_type": "stream",
     "text": [
      "\n",
      "*** Feature extraction finished ***\n",
      "         phone_accel_x_denoise  phone_accel_y_denoise  phone_accel_z_denoise  \\\n",
      "1164463               -4.01887               -8.18637                2.60609   \n",
      "\n",
      "         phone_gyro_x_denoise  phone_gyro_y_denoise  phone_gyro_z_denoise  \n",
      "1164463              -0.90903                0.6633              -0.23365  \n",
      "False\n",
      "*** Feature extraction started ***\n"
     ]
    },
    {
     "data": {
      "text/html": [
       "\n",
       "              <p>\n",
       "                  Progress: 100% Complete\n",
       "              <p/>            \n",
       "              <progress\n",
       "                  value='42'\n",
       "                  max='42',\n",
       "                  style='width: 25%',\n",
       "              >\n",
       "                  42\n",
       "              </progress>\n",
       "\n",
       "    "
      ],
      "text/plain": [
       "<IPython.core.display.HTML object>"
      ]
     },
     "metadata": {},
     "output_type": "display_data"
    },
    {
     "name": "stdout",
     "output_type": "stream",
     "text": [
      "\n",
      "*** Feature extraction finished ***\n",
      "         phone_accel_x_denoise  phone_accel_y_denoise  phone_accel_z_denoise  \\\n",
      "1214084               -4.56315               -8.97566                 1.4441   \n",
      "\n",
      "         phone_gyro_x_denoise  phone_gyro_y_denoise  phone_gyro_z_denoise  \n",
      "1214084              -0.06498              -0.27839               0.06214  \n",
      "False\n",
      "*** Feature extraction started ***\n"
     ]
    },
    {
     "data": {
      "text/html": [
       "\n",
       "              <p>\n",
       "                  Progress: 100% Complete\n",
       "              <p/>            \n",
       "              <progress\n",
       "                  value='42'\n",
       "                  max='42',\n",
       "                  style='width: 25%',\n",
       "              >\n",
       "                  42\n",
       "              </progress>\n",
       "\n",
       "    "
      ],
      "text/plain": [
       "<IPython.core.display.HTML object>"
      ]
     },
     "metadata": {},
     "output_type": "display_data"
    },
    {
     "name": "stdout",
     "output_type": "stream",
     "text": [
      "\n",
      "*** Feature extraction finished ***\n",
      "         phone_accel_x_denoise  phone_accel_y_denoise  phone_accel_z_denoise  \\\n",
      "1218594               -5.15531               -8.93337                0.91738   \n",
      "\n",
      "         phone_gyro_x_denoise  phone_gyro_y_denoise  phone_gyro_z_denoise  \n",
      "1218594               -0.5163              -0.39912              -0.00959  \n",
      "False\n",
      "*** Feature extraction started ***\n"
     ]
    },
    {
     "data": {
      "text/html": [
       "\n",
       "              <p>\n",
       "                  Progress: 100% Complete\n",
       "              <p/>            \n",
       "              <progress\n",
       "                  value='42'\n",
       "                  max='42',\n",
       "                  style='width: 25%',\n",
       "              >\n",
       "                  42\n",
       "              </progress>\n",
       "\n",
       "    "
      ],
      "text/plain": [
       "<IPython.core.display.HTML object>"
      ]
     },
     "metadata": {},
     "output_type": "display_data"
    },
    {
     "name": "stdout",
     "output_type": "stream",
     "text": [
      "\n",
      "*** Feature extraction finished ***\n",
      "17\n",
      "         phone_accel_x_denoise  phone_accel_y_denoise  phone_accel_z_denoise  \\\n",
      "1236637                3.26512                8.54168               -2.39443   \n",
      "\n",
      "         phone_gyro_x_denoise  phone_gyro_y_denoise  phone_gyro_z_denoise  \n",
      "1236637               0.66026               1.03347              -0.05188  \n",
      "False\n",
      "*** Feature extraction started ***\n"
     ]
    },
    {
     "data": {
      "text/html": [
       "\n",
       "              <p>\n",
       "                  Progress: 100% Complete\n",
       "              <p/>            \n",
       "              <progress\n",
       "                  value='32'\n",
       "                  max='32',\n",
       "                  style='width: 25%',\n",
       "              >\n",
       "                  32\n",
       "              </progress>\n",
       "\n",
       "    "
      ],
      "text/plain": [
       "<IPython.core.display.HTML object>"
      ]
     },
     "metadata": {},
     "output_type": "display_data"
    },
    {
     "name": "stdout",
     "output_type": "stream",
     "text": [
      "\n",
      "*** Feature extraction finished ***\n",
      "         phone_accel_x_denoise  phone_accel_y_denoise  phone_accel_z_denoise  \\\n",
      "1240205                2.52797                7.53087               -2.35586   \n",
      "\n",
      "         phone_gyro_x_denoise  phone_gyro_y_denoise  phone_gyro_z_denoise  \n",
      "1240205               0.09188              -0.92135               0.36174  \n",
      "False\n",
      "*** Feature extraction started ***\n"
     ]
    },
    {
     "data": {
      "text/html": [
       "\n",
       "              <p>\n",
       "                  Progress: 100% Complete\n",
       "              <p/>            \n",
       "              <progress\n",
       "                  value='32'\n",
       "                  max='32',\n",
       "                  style='width: 25%',\n",
       "              >\n",
       "                  32\n",
       "              </progress>\n",
       "\n",
       "    "
      ],
      "text/plain": [
       "<IPython.core.display.HTML object>"
      ]
     },
     "metadata": {},
     "output_type": "display_data"
    },
    {
     "name": "stdout",
     "output_type": "stream",
     "text": [
      "\n",
      "*** Feature extraction finished ***\n",
      "         phone_accel_x_denoise  phone_accel_y_denoise  phone_accel_z_denoise  \\\n",
      "1243774                2.12021                -5.7707               -4.37894   \n",
      "\n",
      "         phone_gyro_x_denoise  phone_gyro_y_denoise  phone_gyro_z_denoise  \n",
      "1243774              -1.56894               2.73518               0.21248  \n",
      "False\n",
      "*** Feature extraction started ***\n"
     ]
    },
    {
     "data": {
      "text/html": [
       "\n",
       "              <p>\n",
       "                  Progress: 100% Complete\n",
       "              <p/>            \n",
       "              <progress\n",
       "                  value='32'\n",
       "                  max='32',\n",
       "                  style='width: 25%',\n",
       "              >\n",
       "                  32\n",
       "              </progress>\n",
       "\n",
       "    "
      ],
      "text/plain": [
       "<IPython.core.display.HTML object>"
      ]
     },
     "metadata": {},
     "output_type": "display_data"
    },
    {
     "name": "stdout",
     "output_type": "stream",
     "text": [
      "\n",
      "*** Feature extraction finished ***\n",
      "         phone_accel_x_denoise  phone_accel_y_denoise  phone_accel_z_denoise  \\\n",
      "1261620               -7.24664                3.69747               -1.09166   \n",
      "\n",
      "         phone_gyro_x_denoise  phone_gyro_y_denoise  phone_gyro_z_denoise  \n",
      "1261620               1.17951              -2.96667               2.45926  \n",
      "False\n",
      "*** Feature extraction started ***\n"
     ]
    },
    {
     "data": {
      "text/html": [
       "\n",
       "              <p>\n",
       "                  Progress: 100% Complete\n",
       "              <p/>            \n",
       "              <progress\n",
       "                  value='32'\n",
       "                  max='32',\n",
       "                  style='width: 25%',\n",
       "              >\n",
       "                  32\n",
       "              </progress>\n",
       "\n",
       "    "
      ],
      "text/plain": [
       "<IPython.core.display.HTML object>"
      ]
     },
     "metadata": {},
     "output_type": "display_data"
    },
    {
     "name": "stdout",
     "output_type": "stream",
     "text": [
      "\n",
      "*** Feature extraction finished ***\n",
      "Empty DataFrame\n",
      "Columns: [phone_accel_x_denoise, phone_accel_y_denoise, phone_accel_z_denoise, phone_gyro_x_denoise, phone_gyro_y_denoise, phone_gyro_z_denoise]\n",
      "Index: []\n",
      "False\n",
      "*** Feature extraction started ***\n",
      "Unexpected error, ignore it...\n",
      "18\n",
      "         phone_accel_x_denoise  phone_accel_y_denoise  phone_accel_z_denoise  \\\n",
      "1266692                1.70387                 0.6588                11.3148   \n",
      "\n",
      "         phone_gyro_x_denoise  phone_gyro_y_denoise  phone_gyro_z_denoise  \n",
      "1266692              -0.54861               0.09339               0.75456  \n",
      "False\n",
      "*** Feature extraction started ***\n"
     ]
    },
    {
     "data": {
      "text/html": [
       "\n",
       "              <p>\n",
       "                  Progress: 100% Complete\n",
       "              <p/>            \n",
       "              <progress\n",
       "                  value='42'\n",
       "                  max='42',\n",
       "                  style='width: 25%',\n",
       "              >\n",
       "                  42\n",
       "              </progress>\n",
       "\n",
       "    "
      ],
      "text/plain": [
       "<IPython.core.display.HTML object>"
      ]
     },
     "metadata": {},
     "output_type": "display_data"
    },
    {
     "name": "stdout",
     "output_type": "stream",
     "text": [
      "\n",
      "*** Feature extraction finished ***\n",
      "         phone_accel_x_denoise  phone_accel_y_denoise  phone_accel_z_denoise  \\\n",
      "1271204               -0.00998               12.18788                1.78009   \n",
      "\n",
      "         phone_gyro_x_denoise  phone_gyro_y_denoise  phone_gyro_z_denoise  \n",
      "1271204               -1.1828               4.35018              -0.88026  \n",
      "False\n",
      "*** Feature extraction started ***\n"
     ]
    },
    {
     "data": {
      "text/html": [
       "\n",
       "              <p>\n",
       "                  Progress: 100% Complete\n",
       "              <p/>            \n",
       "              <progress\n",
       "                  value='42'\n",
       "                  max='42',\n",
       "                  style='width: 25%',\n",
       "              >\n",
       "                  42\n",
       "              </progress>\n",
       "\n",
       "    "
      ],
      "text/plain": [
       "<IPython.core.display.HTML object>"
      ]
     },
     "metadata": {},
     "output_type": "display_data"
    },
    {
     "name": "stdout",
     "output_type": "stream",
     "text": [
      "\n",
      "*** Feature extraction finished ***\n",
      "         phone_accel_x_denoise  phone_accel_y_denoise  phone_accel_z_denoise  \\\n",
      "1275714                0.50238               12.91532               -1.55503   \n",
      "\n",
      "         phone_gyro_x_denoise  phone_gyro_y_denoise  phone_gyro_z_denoise  \n",
      "1275714              -0.76983               -0.1115              -0.17257  \n",
      "False\n",
      "*** Feature extraction started ***\n"
     ]
    },
    {
     "data": {
      "text/html": [
       "\n",
       "              <p>\n",
       "                  Progress: 100% Complete\n",
       "              <p/>            \n",
       "              <progress\n",
       "                  value='42'\n",
       "                  max='42',\n",
       "                  style='width: 25%',\n",
       "              >\n",
       "                  42\n",
       "              </progress>\n",
       "\n",
       "    "
      ],
      "text/plain": [
       "<IPython.core.display.HTML object>"
      ]
     },
     "metadata": {},
     "output_type": "display_data"
    },
    {
     "name": "stdout",
     "output_type": "stream",
     "text": [
      "\n",
      "*** Feature extraction finished ***\n",
      "         phone_accel_x_denoise  phone_accel_y_denoise  phone_accel_z_denoise  \\\n",
      "1325325                4.15753                8.63229                -1.4437   \n",
      "\n",
      "         phone_gyro_x_denoise  phone_gyro_y_denoise  phone_gyro_z_denoise  \n",
      "1325325               -0.2933               0.10298              -0.25105  \n",
      "False\n",
      "*** Feature extraction started ***\n"
     ]
    },
    {
     "data": {
      "text/html": [
       "\n",
       "              <p>\n",
       "                  Progress: 100% Complete\n",
       "              <p/>            \n",
       "              <progress\n",
       "                  value='42'\n",
       "                  max='42',\n",
       "                  style='width: 25%',\n",
       "              >\n",
       "                  42\n",
       "              </progress>\n",
       "\n",
       "    "
      ],
      "text/plain": [
       "<IPython.core.display.HTML object>"
      ]
     },
     "metadata": {},
     "output_type": "display_data"
    },
    {
     "name": "stdout",
     "output_type": "stream",
     "text": [
      "\n",
      "*** Feature extraction finished ***\n",
      "         phone_accel_x_denoise  phone_accel_y_denoise  phone_accel_z_denoise  \\\n",
      "1329836                5.41748                8.40205                5.48432   \n",
      "\n",
      "         phone_gyro_x_denoise  phone_gyro_y_denoise  phone_gyro_z_denoise  \n",
      "1329836               0.33449               0.09694               0.15695  \n",
      "False\n",
      "*** Feature extraction started ***\n"
     ]
    },
    {
     "data": {
      "text/html": [
       "\n",
       "              <p>\n",
       "                  Progress: 100% Complete\n",
       "              <p/>            \n",
       "              <progress\n",
       "                  value='42'\n",
       "                  max='42',\n",
       "                  style='width: 25%',\n",
       "              >\n",
       "                  42\n",
       "              </progress>\n",
       "\n",
       "    "
      ],
      "text/plain": [
       "<IPython.core.display.HTML object>"
      ]
     },
     "metadata": {},
     "output_type": "display_data"
    },
    {
     "name": "stdout",
     "output_type": "stream",
     "text": [
      "\n",
      "*** Feature extraction finished ***\n",
      "18\n",
      "         phone_accel_x_denoise  phone_accel_y_denoise  phone_accel_z_denoise  \\\n",
      "1347876               -0.49634               -5.24491                1.37068   \n",
      "\n",
      "         phone_gyro_x_denoise  phone_gyro_y_denoise  phone_gyro_z_denoise  \n",
      "1347876               1.18413              -1.25621               0.45893  \n",
      "False\n",
      "*** Feature extraction started ***\n"
     ]
    },
    {
     "data": {
      "text/html": [
       "\n",
       "              <p>\n",
       "                  Progress: 100% Complete\n",
       "              <p/>            \n",
       "              <progress\n",
       "                  value='32'\n",
       "                  max='32',\n",
       "                  style='width: 25%',\n",
       "              >\n",
       "                  32\n",
       "              </progress>\n",
       "\n",
       "    "
      ],
      "text/plain": [
       "<IPython.core.display.HTML object>"
      ]
     },
     "metadata": {},
     "output_type": "display_data"
    },
    {
     "name": "stdout",
     "output_type": "stream",
     "text": [
      "\n",
      "*** Feature extraction finished ***\n",
      "         phone_accel_x_denoise  phone_accel_y_denoise  phone_accel_z_denoise  \\\n",
      "1351445               -0.09461              -15.14687                3.53316   \n",
      "\n",
      "         phone_gyro_x_denoise  phone_gyro_y_denoise  phone_gyro_z_denoise  \n",
      "1351445               1.26142              -0.31135               0.93252  \n",
      "False\n",
      "*** Feature extraction started ***\n"
     ]
    },
    {
     "data": {
      "text/html": [
       "\n",
       "              <p>\n",
       "                  Progress: 100% Complete\n",
       "              <p/>            \n",
       "              <progress\n",
       "                  value='32'\n",
       "                  max='32',\n",
       "                  style='width: 25%',\n",
       "              >\n",
       "                  32\n",
       "              </progress>\n",
       "\n",
       "    "
      ],
      "text/plain": [
       "<IPython.core.display.HTML object>"
      ]
     },
     "metadata": {},
     "output_type": "display_data"
    },
    {
     "name": "stdout",
     "output_type": "stream",
     "text": [
      "\n",
      "*** Feature extraction finished ***\n",
      "         phone_accel_x_denoise  phone_accel_y_denoise  phone_accel_z_denoise  \\\n",
      "1355013                1.03489               -8.08943                 2.1493   \n",
      "\n",
      "         phone_gyro_x_denoise  phone_gyro_y_denoise  phone_gyro_z_denoise  \n",
      "1355013               1.19375              -0.15053              -0.05107  \n",
      "False\n",
      "*** Feature extraction started ***\n"
     ]
    },
    {
     "data": {
      "text/html": [
       "\n",
       "              <p>\n",
       "                  Progress: 100% Complete\n",
       "              <p/>            \n",
       "              <progress\n",
       "                  value='32'\n",
       "                  max='32',\n",
       "                  style='width: 25%',\n",
       "              >\n",
       "                  32\n",
       "              </progress>\n",
       "\n",
       "    "
      ],
      "text/plain": [
       "<IPython.core.display.HTML object>"
      ]
     },
     "metadata": {},
     "output_type": "display_data"
    },
    {
     "name": "stdout",
     "output_type": "stream",
     "text": [
      "\n",
      "*** Feature extraction finished ***\n",
      "         phone_accel_x_denoise  phone_accel_y_denoise  phone_accel_z_denoise  \\\n",
      "1394272               -5.22341                -8.5062                2.05733   \n",
      "\n",
      "         phone_gyro_x_denoise  phone_gyro_y_denoise  phone_gyro_z_denoise  \n",
      "1394272               0.31356               1.01285               0.09497  \n",
      "False\n",
      "*** Feature extraction started ***\n"
     ]
    },
    {
     "data": {
      "text/html": [
       "\n",
       "              <p>\n",
       "                  Progress: 100% Complete\n",
       "              <p/>            \n",
       "              <progress\n",
       "                  value='32'\n",
       "                  max='32',\n",
       "                  style='width: 25%',\n",
       "              >\n",
       "                  32\n",
       "              </progress>\n",
       "\n",
       "    "
      ],
      "text/plain": [
       "<IPython.core.display.HTML object>"
      ]
     },
     "metadata": {},
     "output_type": "display_data"
    },
    {
     "name": "stdout",
     "output_type": "stream",
     "text": [
      "\n",
      "*** Feature extraction finished ***\n",
      "         phone_accel_x_denoise  phone_accel_y_denoise  phone_accel_z_denoise  \\\n",
      "1397842               -2.67233                -9.2106                 0.4468   \n",
      "\n",
      "         phone_gyro_x_denoise  phone_gyro_y_denoise  phone_gyro_z_denoise  \n",
      "1397842               0.04627              -0.05931               0.03738  \n",
      "False\n",
      "*** Feature extraction started ***\n"
     ]
    },
    {
     "data": {
      "text/html": [
       "\n",
       "              <p>\n",
       "                  Progress: 100% Complete\n",
       "              <p/>            \n",
       "              <progress\n",
       "                  value='32'\n",
       "                  max='32',\n",
       "                  style='width: 25%',\n",
       "              >\n",
       "                  32\n",
       "              </progress>\n",
       "\n",
       "    "
      ],
      "text/plain": [
       "<IPython.core.display.HTML object>"
      ]
     },
     "metadata": {},
     "output_type": "display_data"
    },
    {
     "name": "stdout",
     "output_type": "stream",
     "text": [
      "\n",
      "*** Feature extraction finished ***\n",
      "18\n",
      "         phone_accel_x_denoise  phone_accel_y_denoise  phone_accel_z_denoise  \\\n",
      "1412119                2.03706               -9.51637               -0.03056   \n",
      "\n",
      "         phone_gyro_x_denoise  phone_gyro_y_denoise  phone_gyro_z_denoise  \n",
      "1412119               0.89584               0.26575               0.08171  \n",
      "False\n",
      "*** Feature extraction started ***\n"
     ]
    },
    {
     "data": {
      "text/html": [
       "\n",
       "              <p>\n",
       "                  Progress: 100% Complete\n",
       "              <p/>            \n",
       "              <progress\n",
       "                  value='32'\n",
       "                  max='32',\n",
       "                  style='width: 25%',\n",
       "              >\n",
       "                  32\n",
       "              </progress>\n",
       "\n",
       "    "
      ],
      "text/plain": [
       "<IPython.core.display.HTML object>"
      ]
     },
     "metadata": {},
     "output_type": "display_data"
    },
    {
     "name": "stdout",
     "output_type": "stream",
     "text": [
      "\n",
      "*** Feature extraction finished ***\n",
      "         phone_accel_x_denoise  phone_accel_y_denoise  phone_accel_z_denoise  \\\n",
      "1415688                2.18596               -8.30124               -5.76186   \n",
      "\n",
      "         phone_gyro_x_denoise  phone_gyro_y_denoise  phone_gyro_z_denoise  \n",
      "1415688               1.83951               -0.1829               1.11409  \n",
      "False\n",
      "*** Feature extraction started ***\n"
     ]
    },
    {
     "data": {
      "text/html": [
       "\n",
       "              <p>\n",
       "                  Progress: 100% Complete\n",
       "              <p/>            \n",
       "              <progress\n",
       "                  value='32'\n",
       "                  max='32',\n",
       "                  style='width: 25%',\n",
       "              >\n",
       "                  32\n",
       "              </progress>\n",
       "\n",
       "    "
      ],
      "text/plain": [
       "<IPython.core.display.HTML object>"
      ]
     },
     "metadata": {},
     "output_type": "display_data"
    },
    {
     "name": "stdout",
     "output_type": "stream",
     "text": [
      "\n",
      "*** Feature extraction finished ***\n",
      "         phone_accel_x_denoise  phone_accel_y_denoise  phone_accel_z_denoise  \\\n",
      "1419257               -0.56058               -3.73682               -4.35866   \n",
      "\n",
      "         phone_gyro_x_denoise  phone_gyro_y_denoise  phone_gyro_z_denoise  \n",
      "1419257              -0.62344              -0.55541              -0.13177  \n",
      "False\n",
      "*** Feature extraction started ***\n"
     ]
    },
    {
     "data": {
      "text/html": [
       "\n",
       "              <p>\n",
       "                  Progress: 100% Complete\n",
       "              <p/>            \n",
       "              <progress\n",
       "                  value='32'\n",
       "                  max='32',\n",
       "                  style='width: 25%',\n",
       "              >\n",
       "                  32\n",
       "              </progress>\n",
       "\n",
       "    "
      ],
      "text/plain": [
       "<IPython.core.display.HTML object>"
      ]
     },
     "metadata": {},
     "output_type": "display_data"
    },
    {
     "name": "stdout",
     "output_type": "stream",
     "text": [
      "\n",
      "*** Feature extraction finished ***\n",
      "         phone_accel_x_denoise  phone_accel_y_denoise  phone_accel_z_denoise  \\\n",
      "1447809               -0.39098               -9.78569               -0.28533   \n",
      "\n",
      "         phone_gyro_x_denoise  phone_gyro_y_denoise  phone_gyro_z_denoise  \n",
      "1447809              -0.02228              -0.04542              -0.04008  \n",
      "False\n",
      "*** Feature extraction started ***\n"
     ]
    },
    {
     "data": {
      "text/html": [
       "\n",
       "              <p>\n",
       "                  Progress: 100% Complete\n",
       "              <p/>            \n",
       "              <progress\n",
       "                  value='32'\n",
       "                  max='32',\n",
       "                  style='width: 25%',\n",
       "              >\n",
       "                  32\n",
       "              </progress>\n",
       "\n",
       "    "
      ],
      "text/plain": [
       "<IPython.core.display.HTML object>"
      ]
     },
     "metadata": {},
     "output_type": "display_data"
    },
    {
     "name": "stdout",
     "output_type": "stream",
     "text": [
      "\n",
      "*** Feature extraction finished ***\n",
      "         phone_accel_x_denoise  phone_accel_y_denoise  phone_accel_z_denoise  \\\n",
      "1451378                -1.4126               -9.49249               -0.26844   \n",
      "\n",
      "         phone_gyro_x_denoise  phone_gyro_y_denoise  phone_gyro_z_denoise  \n",
      "1451378                0.0241              -0.39207               0.00605  \n",
      "False\n",
      "*** Feature extraction started ***\n"
     ]
    },
    {
     "data": {
      "text/html": [
       "\n",
       "              <p>\n",
       "                  Progress: 100% Complete\n",
       "              <p/>            \n",
       "              <progress\n",
       "                  value='32'\n",
       "                  max='32',\n",
       "                  style='width: 25%',\n",
       "              >\n",
       "                  32\n",
       "              </progress>\n",
       "\n",
       "    "
      ],
      "text/plain": [
       "<IPython.core.display.HTML object>"
      ]
     },
     "metadata": {},
     "output_type": "display_data"
    },
    {
     "name": "stdout",
     "output_type": "stream",
     "text": [
      "\n",
      "*** Feature extraction finished ***\n",
      "18\n",
      "         phone_accel_x_denoise  phone_accel_y_denoise  phone_accel_z_denoise  \\\n",
      "1458517                3.50643               -7.24727               -1.52584   \n",
      "\n",
      "         phone_gyro_x_denoise  phone_gyro_y_denoise  phone_gyro_z_denoise  \n",
      "1458517               0.55674               0.74445               0.43181  \n",
      "False\n",
      "*** Feature extraction started ***\n"
     ]
    },
    {
     "data": {
      "text/html": [
       "\n",
       "              <p>\n",
       "                  Progress: 100% Complete\n",
       "              <p/>            \n",
       "              <progress\n",
       "                  value='32'\n",
       "                  max='32',\n",
       "                  style='width: 25%',\n",
       "              >\n",
       "                  32\n",
       "              </progress>\n",
       "\n",
       "    "
      ],
      "text/plain": [
       "<IPython.core.display.HTML object>"
      ]
     },
     "metadata": {},
     "output_type": "display_data"
    },
    {
     "name": "stdout",
     "output_type": "stream",
     "text": [
      "\n",
      "*** Feature extraction finished ***\n",
      "         phone_accel_x_denoise  phone_accel_y_denoise  phone_accel_z_denoise  \\\n",
      "1462083                7.64261               -11.8925               -3.21135   \n",
      "\n",
      "         phone_gyro_x_denoise  phone_gyro_y_denoise  phone_gyro_z_denoise  \n",
      "1462083               1.66158               0.40129               0.59263  \n",
      "False\n",
      "*** Feature extraction started ***\n"
     ]
    },
    {
     "data": {
      "text/html": [
       "\n",
       "              <p>\n",
       "                  Progress: 100% Complete\n",
       "              <p/>            \n",
       "              <progress\n",
       "                  value='32'\n",
       "                  max='32',\n",
       "                  style='width: 25%',\n",
       "              >\n",
       "                  32\n",
       "              </progress>\n",
       "\n",
       "    "
      ],
      "text/plain": [
       "<IPython.core.display.HTML object>"
      ]
     },
     "metadata": {},
     "output_type": "display_data"
    },
    {
     "name": "stdout",
     "output_type": "stream",
     "text": [
      "\n",
      "*** Feature extraction finished ***\n",
      "         phone_accel_x_denoise  phone_accel_y_denoise  phone_accel_z_denoise  \\\n",
      "1465651                3.82411                -8.0249               -0.94374   \n",
      "\n",
      "         phone_gyro_x_denoise  phone_gyro_y_denoise  phone_gyro_z_denoise  \n",
      "1465651               0.33558               0.67408              -0.19532  \n",
      "False\n",
      "*** Feature extraction started ***\n"
     ]
    },
    {
     "data": {
      "text/html": [
       "\n",
       "              <p>\n",
       "                  Progress: 100% Complete\n",
       "              <p/>            \n",
       "              <progress\n",
       "                  value='32'\n",
       "                  max='32',\n",
       "                  style='width: 25%',\n",
       "              >\n",
       "                  32\n",
       "              </progress>\n",
       "\n",
       "    "
      ],
      "text/plain": [
       "<IPython.core.display.HTML object>"
      ]
     },
     "metadata": {},
     "output_type": "display_data"
    },
    {
     "name": "stdout",
     "output_type": "stream",
     "text": [
      "\n",
      "*** Feature extraction finished ***\n",
      "         phone_accel_x_denoise  phone_accel_y_denoise  phone_accel_z_denoise  \\\n",
      "1504907                3.64771               -8.89355               -0.65451   \n",
      "\n",
      "         phone_gyro_x_denoise  phone_gyro_y_denoise  phone_gyro_z_denoise  \n",
      "1504907               0.03752              -0.14003               -0.0097  \n",
      "False\n",
      "*** Feature extraction started ***\n"
     ]
    },
    {
     "data": {
      "text/html": [
       "\n",
       "              <p>\n",
       "                  Progress: 100% Complete\n",
       "              <p/>            \n",
       "              <progress\n",
       "                  value='32'\n",
       "                  max='32',\n",
       "                  style='width: 25%',\n",
       "              >\n",
       "                  32\n",
       "              </progress>\n",
       "\n",
       "    "
      ],
      "text/plain": [
       "<IPython.core.display.HTML object>"
      ]
     },
     "metadata": {},
     "output_type": "display_data"
    },
    {
     "name": "stdout",
     "output_type": "stream",
     "text": [
      "\n",
      "*** Feature extraction finished ***\n",
      "         phone_accel_x_denoise  phone_accel_y_denoise  phone_accel_z_denoise  \\\n",
      "1508476                6.08378               -7.52107               -2.40459   \n",
      "\n",
      "         phone_gyro_x_denoise  phone_gyro_y_denoise  phone_gyro_z_denoise  \n",
      "1508476               0.30332              -0.02303                0.2897  \n",
      "False\n",
      "*** Feature extraction started ***\n"
     ]
    },
    {
     "data": {
      "text/html": [
       "\n",
       "              <p>\n",
       "                  Progress: 100% Complete\n",
       "              <p/>            \n",
       "              <progress\n",
       "                  value='32'\n",
       "                  max='32',\n",
       "                  style='width: 25%',\n",
       "              >\n",
       "                  32\n",
       "              </progress>\n",
       "\n",
       "    "
      ],
      "text/plain": [
       "<IPython.core.display.HTML object>"
      ]
     },
     "metadata": {},
     "output_type": "display_data"
    },
    {
     "name": "stdout",
     "output_type": "stream",
     "text": [
      "\n",
      "*** Feature extraction finished ***\n",
      "18\n",
      "Empty DataFrame\n",
      "Columns: [phone_accel_x_denoise, phone_accel_y_denoise, phone_accel_z_denoise, phone_gyro_x_denoise, phone_gyro_y_denoise, phone_gyro_z_denoise]\n",
      "Index: []\n",
      "False\n",
      "*** Feature extraction started ***\n",
      "Unexpected error, ignore it...\n",
      "         phone_accel_x_denoise  phone_accel_y_denoise  phone_accel_z_denoise  \\\n",
      "1522751               -3.99295               -0.39495                3.91674   \n",
      "\n",
      "         phone_gyro_x_denoise  phone_gyro_y_denoise  phone_gyro_z_denoise  \n",
      "1522751              -1.26037              -0.58201              -0.30885  \n",
      "False\n",
      "*** Feature extraction started ***\n"
     ]
    },
    {
     "data": {
      "text/html": [
       "\n",
       "              <p>\n",
       "                  Progress: 100% Complete\n",
       "              <p/>            \n",
       "              <progress\n",
       "                  value='32'\n",
       "                  max='32',\n",
       "                  style='width: 25%',\n",
       "              >\n",
       "                  32\n",
       "              </progress>\n",
       "\n",
       "    "
      ],
      "text/plain": [
       "<IPython.core.display.HTML object>"
      ]
     },
     "metadata": {},
     "output_type": "display_data"
    },
    {
     "name": "stdout",
     "output_type": "stream",
     "text": [
      "\n",
      "*** Feature extraction finished ***\n",
      "Empty DataFrame\n",
      "Columns: [phone_accel_x_denoise, phone_accel_y_denoise, phone_accel_z_denoise, phone_gyro_x_denoise, phone_gyro_y_denoise, phone_gyro_z_denoise]\n",
      "Index: []\n",
      "False\n",
      "*** Feature extraction started ***\n",
      "Unexpected error, ignore it...\n",
      "         phone_accel_x_denoise  phone_accel_y_denoise  phone_accel_z_denoise  \\\n",
      "1543336               -9.35765               -4.90302               -2.03713   \n",
      "\n",
      "         phone_gyro_x_denoise  phone_gyro_y_denoise  phone_gyro_z_denoise  \n",
      "1543336              -0.82915              -0.18165              -0.12942  \n",
      "False\n",
      "*** Feature extraction started ***\n"
     ]
    },
    {
     "data": {
      "text/html": [
       "\n",
       "              <p>\n",
       "                  Progress: 100% Complete\n",
       "              <p/>            \n",
       "              <progress\n",
       "                  value='32'\n",
       "                  max='32',\n",
       "                  style='width: 25%',\n",
       "              >\n",
       "                  32\n",
       "              </progress>\n",
       "\n",
       "    "
      ],
      "text/plain": [
       "<IPython.core.display.HTML object>"
      ]
     },
     "metadata": {},
     "output_type": "display_data"
    },
    {
     "name": "stdout",
     "output_type": "stream",
     "text": [
      "\n",
      "*** Feature extraction finished ***\n",
      "         phone_accel_x_denoise  phone_accel_y_denoise  phone_accel_z_denoise  \\\n",
      "1546904                -8.8287                -3.4268               -0.77366   \n",
      "\n",
      "         phone_gyro_x_denoise  phone_gyro_y_denoise  phone_gyro_z_denoise  \n",
      "1546904              -0.24561               0.00164              -0.00203  \n",
      "False\n",
      "*** Feature extraction started ***\n"
     ]
    },
    {
     "data": {
      "text/html": [
       "\n",
       "              <p>\n",
       "                  Progress: 100% Complete\n",
       "              <p/>            \n",
       "              <progress\n",
       "                  value='32'\n",
       "                  max='32',\n",
       "                  style='width: 25%',\n",
       "              >\n",
       "                  32\n",
       "              </progress>\n",
       "\n",
       "    "
      ],
      "text/plain": [
       "<IPython.core.display.HTML object>"
      ]
     },
     "metadata": {},
     "output_type": "display_data"
    },
    {
     "name": "stdout",
     "output_type": "stream",
     "text": [
      "\n",
      "*** Feature extraction finished ***\n",
      "20\n",
      "         phone_accel_x_denoise  phone_accel_y_denoise  phone_accel_z_denoise  \\\n",
      "1551705               -1.08619               -8.46817                2.19524   \n",
      "\n",
      "         phone_gyro_x_denoise  phone_gyro_y_denoise  phone_gyro_z_denoise  \n",
      "1551705               -0.4391               1.26593               0.23788  \n",
      "False\n",
      "*** Feature extraction started ***\n"
     ]
    },
    {
     "data": {
      "text/html": [
       "\n",
       "              <p>\n",
       "                  Progress: 100% Complete\n",
       "              <p/>            \n",
       "              <progress\n",
       "                  value='32'\n",
       "                  max='32',\n",
       "                  style='width: 25%',\n",
       "              >\n",
       "                  32\n",
       "              </progress>\n",
       "\n",
       "    "
      ],
      "text/plain": [
       "<IPython.core.display.HTML object>"
      ]
     },
     "metadata": {},
     "output_type": "display_data"
    },
    {
     "name": "stdout",
     "output_type": "stream",
     "text": [
      "\n",
      "*** Feature extraction finished ***\n",
      "         phone_accel_x_denoise  phone_accel_y_denoise  phone_accel_z_denoise  \\\n",
      "1555274               15.97547              -10.20797                7.01171   \n",
      "\n",
      "         phone_gyro_x_denoise  phone_gyro_y_denoise  phone_gyro_z_denoise  \n",
      "1555274               0.29981               0.50289              -0.16611  \n",
      "False\n",
      "*** Feature extraction started ***\n"
     ]
    },
    {
     "data": {
      "text/html": [
       "\n",
       "              <p>\n",
       "                  Progress: 100% Complete\n",
       "              <p/>            \n",
       "              <progress\n",
       "                  value='81'\n",
       "                  max='81',\n",
       "                  style='width: 25%',\n",
       "              >\n",
       "                  81\n",
       "              </progress>\n",
       "\n",
       "    "
      ],
      "text/plain": [
       "<IPython.core.display.HTML object>"
      ]
     },
     "metadata": {},
     "output_type": "display_data"
    },
    {
     "name": "stdout",
     "output_type": "stream",
     "text": [
      "\n",
      "*** Feature extraction finished ***\n",
      "         phone_accel_x_denoise  phone_accel_y_denoise  phone_accel_z_denoise  \\\n",
      "1563688                2.62112               -6.03962                0.88217   \n",
      "\n",
      "         phone_gyro_x_denoise  phone_gyro_y_denoise  phone_gyro_z_denoise  \n",
      "1563688               0.13858                0.5186               0.26853  \n",
      "False\n",
      "*** Feature extraction started ***\n"
     ]
    },
    {
     "data": {
      "text/html": [
       "\n",
       "              <p>\n",
       "                  Progress: 100% Complete\n",
       "              <p/>            \n",
       "              <progress\n",
       "                  value='32'\n",
       "                  max='32',\n",
       "                  style='width: 25%',\n",
       "              >\n",
       "                  32\n",
       "              </progress>\n",
       "\n",
       "    "
      ],
      "text/plain": [
       "<IPython.core.display.HTML object>"
      ]
     },
     "metadata": {},
     "output_type": "display_data"
    },
    {
     "name": "stdout",
     "output_type": "stream",
     "text": [
      "\n",
      "*** Feature extraction finished ***\n",
      "         phone_accel_x_denoise  phone_accel_y_denoise  phone_accel_z_denoise  \\\n",
      "1599823                2.15352               -9.25897                2.31172   \n",
      "\n",
      "         phone_gyro_x_denoise  phone_gyro_y_denoise  phone_gyro_z_denoise  \n",
      "1599823              -0.05685               0.01322              -0.04459  \n",
      "False\n",
      "*** Feature extraction started ***\n"
     ]
    },
    {
     "data": {
      "text/html": [
       "\n",
       "              <p>\n",
       "                  Progress: 100% Complete\n",
       "              <p/>            \n",
       "              <progress\n",
       "                  value='32'\n",
       "                  max='32',\n",
       "                  style='width: 25%',\n",
       "              >\n",
       "                  32\n",
       "              </progress>\n",
       "\n",
       "    "
      ],
      "text/plain": [
       "<IPython.core.display.HTML object>"
      ]
     },
     "metadata": {},
     "output_type": "display_data"
    },
    {
     "name": "stdout",
     "output_type": "stream",
     "text": [
      "\n",
      "*** Feature extraction finished ***\n",
      "         phone_accel_x_denoise  phone_accel_y_denoise  phone_accel_z_denoise  \\\n",
      "1603388                2.53638                -8.9204                3.69154   \n",
      "\n",
      "         phone_gyro_x_denoise  phone_gyro_y_denoise  phone_gyro_z_denoise  \n",
      "1603388               0.07942               0.03082              -0.07541  \n",
      "False\n",
      "*** Feature extraction started ***\n"
     ]
    },
    {
     "data": {
      "text/html": [
       "\n",
       "              <p>\n",
       "                  Progress: 100% Complete\n",
       "              <p/>            \n",
       "              <progress\n",
       "                  value='32'\n",
       "                  max='32',\n",
       "                  style='width: 25%',\n",
       "              >\n",
       "                  32\n",
       "              </progress>\n",
       "\n",
       "    "
      ],
      "text/plain": [
       "<IPython.core.display.HTML object>"
      ]
     },
     "metadata": {},
     "output_type": "display_data"
    },
    {
     "name": "stdout",
     "output_type": "stream",
     "text": [
      "\n",
      "*** Feature extraction finished ***\n",
      "20\n",
      "Empty DataFrame\n",
      "Columns: [phone_accel_x_denoise, phone_accel_y_denoise, phone_accel_z_denoise, phone_gyro_x_denoise, phone_gyro_y_denoise, phone_gyro_z_denoise]\n",
      "Index: []\n",
      "False\n",
      "*** Feature extraction started ***\n",
      "Unexpected error, ignore it...\n",
      "Empty DataFrame\n",
      "Columns: [phone_accel_x_denoise, phone_accel_y_denoise, phone_accel_z_denoise, phone_gyro_x_denoise, phone_gyro_y_denoise, phone_gyro_z_denoise]\n",
      "Index: []\n",
      "False\n",
      "*** Feature extraction started ***\n",
      "Unexpected error, ignore it...\n",
      "         phone_accel_x_denoise  phone_accel_y_denoise  phone_accel_z_denoise  \\\n",
      "1617663                 7.4778               -7.23084                4.41679   \n",
      "\n",
      "         phone_gyro_x_denoise  phone_gyro_y_denoise  phone_gyro_z_denoise  \n",
      "1617663              -0.05724               0.94021              -0.15812  \n",
      "False\n",
      "*** Feature extraction started ***\n"
     ]
    },
    {
     "data": {
      "text/html": [
       "\n",
       "              <p>\n",
       "                  Progress: 100% Complete\n",
       "              <p/>            \n",
       "              <progress\n",
       "                  value='32'\n",
       "                  max='32',\n",
       "                  style='width: 25%',\n",
       "              >\n",
       "                  32\n",
       "              </progress>\n",
       "\n",
       "    "
      ],
      "text/plain": [
       "<IPython.core.display.HTML object>"
      ]
     },
     "metadata": {},
     "output_type": "display_data"
    },
    {
     "name": "stdout",
     "output_type": "stream",
     "text": [
      "\n",
      "*** Feature extraction finished ***\n",
      "Empty DataFrame\n",
      "Columns: [phone_accel_x_denoise, phone_accel_y_denoise, phone_accel_z_denoise, phone_gyro_x_denoise, phone_gyro_y_denoise, phone_gyro_z_denoise]\n",
      "Index: []\n",
      "False\n",
      "*** Feature extraction started ***\n",
      "Unexpected error, ignore it...\n",
      "Empty DataFrame\n",
      "Columns: [phone_accel_x_denoise, phone_accel_y_denoise, phone_accel_z_denoise, phone_gyro_x_denoise, phone_gyro_y_denoise, phone_gyro_z_denoise]\n",
      "Index: []\n",
      "False\n",
      "*** Feature extraction started ***\n",
      "Unexpected error, ignore it...\n",
      "24\n",
      "Empty DataFrame\n",
      "Columns: [phone_accel_x_denoise, phone_accel_y_denoise, phone_accel_z_denoise, phone_gyro_x_denoise, phone_gyro_y_denoise, phone_gyro_z_denoise]\n",
      "Index: []\n",
      "False\n",
      "*** Feature extraction started ***\n",
      "Unexpected error, ignore it...\n",
      "Empty DataFrame\n",
      "Columns: [phone_accel_x_denoise, phone_accel_y_denoise, phone_accel_z_denoise, phone_gyro_x_denoise, phone_gyro_y_denoise, phone_gyro_z_denoise]\n",
      "Index: []\n",
      "False\n",
      "*** Feature extraction started ***\n",
      "Unexpected error, ignore it...\n",
      "Empty DataFrame\n",
      "Columns: [phone_accel_x_denoise, phone_accel_y_denoise, phone_accel_z_denoise, phone_gyro_x_denoise, phone_gyro_y_denoise, phone_gyro_z_denoise]\n",
      "Index: []\n",
      "False\n",
      "*** Feature extraction started ***\n",
      "Unexpected error, ignore it...\n",
      "         phone_accel_x_denoise  phone_accel_y_denoise  phone_accel_z_denoise  \\\n",
      "1641941                0.14687              -10.69324               -1.06837   \n",
      "\n",
      "         phone_gyro_x_denoise  phone_gyro_y_denoise  phone_gyro_z_denoise  \n",
      "1641941               0.44618               1.41351              -0.17827  \n",
      "False\n",
      "*** Feature extraction started ***\n"
     ]
    },
    {
     "data": {
      "text/html": [
       "\n",
       "              <p>\n",
       "                  Progress: 100% Complete\n",
       "              <p/>            \n",
       "              <progress\n",
       "                  value='32'\n",
       "                  max='32',\n",
       "                  style='width: 25%',\n",
       "              >\n",
       "                  32\n",
       "              </progress>\n",
       "\n",
       "    "
      ],
      "text/plain": [
       "<IPython.core.display.HTML object>"
      ]
     },
     "metadata": {},
     "output_type": "display_data"
    },
    {
     "name": "stdout",
     "output_type": "stream",
     "text": [
      "\n",
      "*** Feature extraction finished ***\n",
      "Empty DataFrame\n",
      "Columns: [phone_accel_x_denoise, phone_accel_y_denoise, phone_accel_z_denoise, phone_gyro_x_denoise, phone_gyro_y_denoise, phone_gyro_z_denoise]\n",
      "Index: []\n",
      "False\n",
      "*** Feature extraction started ***\n",
      "Unexpected error, ignore it...\n",
      "28\n",
      "         phone_accel_x_denoise  phone_accel_y_denoise  phone_accel_z_denoise  \\\n",
      "1649079               -7.87245                5.89243               -2.91237   \n",
      "\n",
      "         phone_gyro_x_denoise  phone_gyro_y_denoise  phone_gyro_z_denoise  \n",
      "1649079               0.29844               0.08506                0.2407  \n",
      "False\n",
      "*** Feature extraction started ***\n"
     ]
    },
    {
     "data": {
      "text/html": [
       "\n",
       "              <p>\n",
       "                  Progress: 100% Complete\n",
       "              <p/>            \n",
       "              <progress\n",
       "                  value='139'\n",
       "                  max='139',\n",
       "                  style='width: 25%',\n",
       "              >\n",
       "                  139\n",
       "              </progress>\n",
       "\n",
       "    "
      ],
      "text/plain": [
       "<IPython.core.display.HTML object>"
      ]
     },
     "metadata": {},
     "output_type": "display_data"
    },
    {
     "name": "stdout",
     "output_type": "stream",
     "text": [
      "\n",
      "*** Feature extraction finished ***\n",
      "         phone_accel_x_denoise  phone_accel_y_denoise  phone_accel_z_denoise  \\\n",
      "1663355                -0.7376                8.03173                5.77521   \n",
      "\n",
      "         phone_gyro_x_denoise  phone_gyro_y_denoise  phone_gyro_z_denoise  \n",
      "1663355               0.17779              -1.01484                0.7827  \n",
      "False\n",
      "*** Feature extraction started ***\n"
     ]
    },
    {
     "data": {
      "text/html": [
       "\n",
       "              <p>\n",
       "                  Progress: 100% Complete\n",
       "              <p/>            \n",
       "              <progress\n",
       "                  value='139'\n",
       "                  max='139',\n",
       "                  style='width: 25%',\n",
       "              >\n",
       "                  139\n",
       "              </progress>\n",
       "\n",
       "    "
      ],
      "text/plain": [
       "<IPython.core.display.HTML object>"
      ]
     },
     "metadata": {},
     "output_type": "display_data"
    },
    {
     "name": "stdout",
     "output_type": "stream",
     "text": [
      "\n",
      "*** Feature extraction finished ***\n",
      "         phone_accel_x_denoise  phone_accel_y_denoise  phone_accel_z_denoise  \\\n",
      "1677635               -5.56512                9.76241               -5.47359   \n",
      "\n",
      "         phone_gyro_x_denoise  phone_gyro_y_denoise  phone_gyro_z_denoise  \n",
      "1677635               0.34237              -0.14865              -0.27749  \n",
      "False\n",
      "*** Feature extraction started ***\n"
     ]
    },
    {
     "data": {
      "text/html": [
       "\n",
       "              <p>\n",
       "                  Progress: 100% Complete\n",
       "              <p/>            \n",
       "              <progress\n",
       "                  value='139'\n",
       "                  max='139',\n",
       "                  style='width: 25%',\n",
       "              >\n",
       "                  139\n",
       "              </progress>\n",
       "\n",
       "    "
      ],
      "text/plain": [
       "<IPython.core.display.HTML object>"
      ]
     },
     "metadata": {},
     "output_type": "display_data"
    },
    {
     "name": "stdout",
     "output_type": "stream",
     "text": [
      "\n",
      "*** Feature extraction finished ***\n",
      "         phone_accel_x_denoise  phone_accel_y_denoise  phone_accel_z_denoise  \\\n",
      "1820371               -1.63595                9.72514               -1.32909   \n",
      "\n",
      "         phone_gyro_x_denoise  phone_gyro_y_denoise  phone_gyro_z_denoise  \n",
      "1820371               0.05525              -0.25331                0.0636  \n",
      "False\n",
      "*** Feature extraction started ***\n"
     ]
    },
    {
     "data": {
      "text/html": [
       "\n",
       "              <p>\n",
       "                  Progress: 100% Complete\n",
       "              <p/>            \n",
       "              <progress\n",
       "                  value='139'\n",
       "                  max='139',\n",
       "                  style='width: 25%',\n",
       "              >\n",
       "                  139\n",
       "              </progress>\n",
       "\n",
       "    "
      ],
      "text/plain": [
       "<IPython.core.display.HTML object>"
      ]
     },
     "metadata": {},
     "output_type": "display_data"
    },
    {
     "name": "stdout",
     "output_type": "stream",
     "text": [
      "\n",
      "*** Feature extraction finished ***\n",
      "         phone_accel_x_denoise  phone_accel_y_denoise  phone_accel_z_denoise  \\\n",
      "1834647               -5.08573                8.21314               -2.59959   \n",
      "\n",
      "         phone_gyro_x_denoise  phone_gyro_y_denoise  phone_gyro_z_denoise  \n",
      "1834647               0.17305              -0.05111              -0.06983  \n",
      "False\n",
      "*** Feature extraction started ***\n"
     ]
    },
    {
     "data": {
      "text/html": [
       "\n",
       "              <p>\n",
       "                  Progress: 100% Complete\n",
       "              <p/>            \n",
       "              <progress\n",
       "                  value='139'\n",
       "                  max='139',\n",
       "                  style='width: 25%',\n",
       "              >\n",
       "                  139\n",
       "              </progress>\n",
       "\n",
       "    "
      ],
      "text/plain": [
       "<IPython.core.display.HTML object>"
      ]
     },
     "metadata": {},
     "output_type": "display_data"
    },
    {
     "name": "stdout",
     "output_type": "stream",
     "text": [
      "\n",
      "*** Feature extraction finished ***\n",
      "28\n",
      "         phone_accel_x_denoise  phone_accel_y_denoise  phone_accel_z_denoise  \\\n",
      "1891739               13.12488                2.55079                3.36802   \n",
      "\n",
      "         phone_gyro_x_denoise  phone_gyro_y_denoise  phone_gyro_z_denoise  \n",
      "1891739               0.10147               0.13207              -0.35765  \n",
      "False\n",
      "*** Feature extraction started ***\n"
     ]
    },
    {
     "data": {
      "text/html": [
       "\n",
       "              <p>\n",
       "                  Progress: 100% Complete\n",
       "              <p/>            \n",
       "              <progress\n",
       "                  value='32'\n",
       "                  max='32',\n",
       "                  style='width: 25%',\n",
       "              >\n",
       "                  32\n",
       "              </progress>\n",
       "\n",
       "    "
      ],
      "text/plain": [
       "<IPython.core.display.HTML object>"
      ]
     },
     "metadata": {},
     "output_type": "display_data"
    },
    {
     "name": "stdout",
     "output_type": "stream",
     "text": [
      "\n",
      "*** Feature extraction finished ***\n",
      "         phone_accel_x_denoise  phone_accel_y_denoise  phone_accel_z_denoise  \\\n",
      "1895308                9.64143                3.48415               11.47028   \n",
      "\n",
      "         phone_gyro_x_denoise  phone_gyro_y_denoise  phone_gyro_z_denoise  \n",
      "1895308               0.67464              -0.16301               0.06017  \n",
      "False\n",
      "*** Feature extraction started ***\n"
     ]
    },
    {
     "data": {
      "text/html": [
       "\n",
       "              <p>\n",
       "                  Progress: 100% Complete\n",
       "              <p/>            \n",
       "              <progress\n",
       "                  value='32'\n",
       "                  max='32',\n",
       "                  style='width: 25%',\n",
       "              >\n",
       "                  32\n",
       "              </progress>\n",
       "\n",
       "    "
      ],
      "text/plain": [
       "<IPython.core.display.HTML object>"
      ]
     },
     "metadata": {},
     "output_type": "display_data"
    },
    {
     "name": "stdout",
     "output_type": "stream",
     "text": [
      "\n",
      "*** Feature extraction finished ***\n",
      "         phone_accel_x_denoise  phone_accel_y_denoise  phone_accel_z_denoise  \\\n",
      "1898877                6.81786                3.69075                7.88273   \n",
      "\n",
      "         phone_gyro_x_denoise  phone_gyro_y_denoise  phone_gyro_z_denoise  \n",
      "1898877              -0.36542              -0.19844               0.53057  \n",
      "False\n",
      "*** Feature extraction started ***\n"
     ]
    },
    {
     "data": {
      "text/html": [
       "\n",
       "              <p>\n",
       "                  Progress: 100% Complete\n",
       "              <p/>            \n",
       "              <progress\n",
       "                  value='32'\n",
       "                  max='32',\n",
       "                  style='width: 25%',\n",
       "              >\n",
       "                  32\n",
       "              </progress>\n",
       "\n",
       "    "
      ],
      "text/plain": [
       "<IPython.core.display.HTML object>"
      ]
     },
     "metadata": {},
     "output_type": "display_data"
    },
    {
     "name": "stdout",
     "output_type": "stream",
     "text": [
      "\n",
      "*** Feature extraction finished ***\n",
      "         phone_accel_x_denoise  phone_accel_y_denoise  phone_accel_z_denoise  \\\n",
      "1938133                5.43126                2.02471                 7.6874   \n",
      "\n",
      "         phone_gyro_x_denoise  phone_gyro_y_denoise  phone_gyro_z_denoise  \n",
      "1938133               0.54429              -0.42731               0.08766  \n",
      "False\n",
      "*** Feature extraction started ***\n"
     ]
    },
    {
     "data": {
      "text/html": [
       "\n",
       "              <p>\n",
       "                  Progress: 100% Complete\n",
       "              <p/>            \n",
       "              <progress\n",
       "                  value='32'\n",
       "                  max='32',\n",
       "                  style='width: 25%',\n",
       "              >\n",
       "                  32\n",
       "              </progress>\n",
       "\n",
       "    "
      ],
      "text/plain": [
       "<IPython.core.display.HTML object>"
      ]
     },
     "metadata": {},
     "output_type": "display_data"
    },
    {
     "name": "stdout",
     "output_type": "stream",
     "text": [
      "\n",
      "*** Feature extraction finished ***\n",
      "         phone_accel_x_denoise  phone_accel_y_denoise  phone_accel_z_denoise  \\\n",
      "1941702                 8.3277                1.67753                0.79253   \n",
      "\n",
      "         phone_gyro_x_denoise  phone_gyro_y_denoise  phone_gyro_z_denoise  \n",
      "1941702                0.4325               0.74972               0.22052  \n",
      "False\n",
      "*** Feature extraction started ***\n"
     ]
    },
    {
     "data": {
      "text/html": [
       "\n",
       "              <p>\n",
       "                  Progress: 100% Complete\n",
       "              <p/>            \n",
       "              <progress\n",
       "                  value='32'\n",
       "                  max='32',\n",
       "                  style='width: 25%',\n",
       "              >\n",
       "                  32\n",
       "              </progress>\n",
       "\n",
       "    "
      ],
      "text/plain": [
       "<IPython.core.display.HTML object>"
      ]
     },
     "metadata": {},
     "output_type": "display_data"
    },
    {
     "name": "stdout",
     "output_type": "stream",
     "text": [
      "\n",
      "*** Feature extraction finished ***\n",
      "28\n",
      "         phone_accel_x_denoise  phone_accel_y_denoise  phone_accel_z_denoise  \\\n",
      "1955978                -1.7897                6.48632                3.69284   \n",
      "\n",
      "         phone_gyro_x_denoise  phone_gyro_y_denoise  phone_gyro_z_denoise  \n",
      "1955978               1.66006              -0.97358              -0.80837  \n",
      "False\n",
      "*** Feature extraction started ***\n"
     ]
    },
    {
     "data": {
      "text/html": [
       "\n",
       "              <p>\n",
       "                  Progress: 100% Complete\n",
       "              <p/>            \n",
       "              <progress\n",
       "                  value='32'\n",
       "                  max='32',\n",
       "                  style='width: 25%',\n",
       "              >\n",
       "                  32\n",
       "              </progress>\n",
       "\n",
       "    "
      ],
      "text/plain": [
       "<IPython.core.display.HTML object>"
      ]
     },
     "metadata": {},
     "output_type": "display_data"
    },
    {
     "name": "stdout",
     "output_type": "stream",
     "text": [
      "\n",
      "*** Feature extraction finished ***\n",
      "         phone_accel_x_denoise  phone_accel_y_denoise  phone_accel_z_denoise  \\\n",
      "1959546               -5.30444               12.83363                2.89543   \n",
      "\n",
      "         phone_gyro_x_denoise  phone_gyro_y_denoise  phone_gyro_z_denoise  \n",
      "1959546              -3.36244               0.62008               0.63367  \n",
      "False\n",
      "*** Feature extraction started ***\n"
     ]
    },
    {
     "data": {
      "text/html": [
       "\n",
       "              <p>\n",
       "                  Progress: 100% Complete\n",
       "              <p/>            \n",
       "              <progress\n",
       "                  value='32'\n",
       "                  max='32',\n",
       "                  style='width: 25%',\n",
       "              >\n",
       "                  32\n",
       "              </progress>\n",
       "\n",
       "    "
      ],
      "text/plain": [
       "<IPython.core.display.HTML object>"
      ]
     },
     "metadata": {},
     "output_type": "display_data"
    },
    {
     "name": "stdout",
     "output_type": "stream",
     "text": [
      "\n",
      "*** Feature extraction finished ***\n",
      "         phone_accel_x_denoise  phone_accel_y_denoise  phone_accel_z_denoise  \\\n",
      "1963115                1.80087               11.73942                1.83756   \n",
      "\n",
      "         phone_gyro_x_denoise  phone_gyro_y_denoise  phone_gyro_z_denoise  \n",
      "1963115              -2.63536               0.12267               0.61759  \n",
      "False\n",
      "*** Feature extraction started ***\n"
     ]
    },
    {
     "data": {
      "text/html": [
       "\n",
       "              <p>\n",
       "                  Progress: 100% Complete\n",
       "              <p/>            \n",
       "              <progress\n",
       "                  value='32'\n",
       "                  max='32',\n",
       "                  style='width: 25%',\n",
       "              >\n",
       "                  32\n",
       "              </progress>\n",
       "\n",
       "    "
      ],
      "text/plain": [
       "<IPython.core.display.HTML object>"
      ]
     },
     "metadata": {},
     "output_type": "display_data"
    },
    {
     "name": "stdout",
     "output_type": "stream",
     "text": [
      "\n",
      "*** Feature extraction finished ***\n",
      "         phone_accel_x_denoise  phone_accel_y_denoise  phone_accel_z_denoise  \\\n",
      "2002371                3.37308                9.06055               -2.51328   \n",
      "\n",
      "         phone_gyro_x_denoise  phone_gyro_y_denoise  phone_gyro_z_denoise  \n",
      "2002371               0.17941               0.20374              -0.15232  \n",
      "False\n",
      "*** Feature extraction started ***\n"
     ]
    },
    {
     "data": {
      "text/html": [
       "\n",
       "              <p>\n",
       "                  Progress: 100% Complete\n",
       "              <p/>            \n",
       "              <progress\n",
       "                  value='32'\n",
       "                  max='32',\n",
       "                  style='width: 25%',\n",
       "              >\n",
       "                  32\n",
       "              </progress>\n",
       "\n",
       "    "
      ],
      "text/plain": [
       "<IPython.core.display.HTML object>"
      ]
     },
     "metadata": {},
     "output_type": "display_data"
    },
    {
     "name": "stdout",
     "output_type": "stream",
     "text": [
      "\n",
      "*** Feature extraction finished ***\n",
      "         phone_accel_x_denoise  phone_accel_y_denoise  phone_accel_z_denoise  \\\n",
      "2005941                3.91194                8.56848               -1.02453   \n",
      "\n",
      "         phone_gyro_x_denoise  phone_gyro_y_denoise  phone_gyro_z_denoise  \n",
      "2005941               0.14765                0.1968               0.02168  \n",
      "False\n",
      "*** Feature extraction started ***\n"
     ]
    },
    {
     "data": {
      "text/html": [
       "\n",
       "              <p>\n",
       "                  Progress: 100% Complete\n",
       "              <p/>            \n",
       "              <progress\n",
       "                  value='32'\n",
       "                  max='32',\n",
       "                  style='width: 25%',\n",
       "              >\n",
       "                  32\n",
       "              </progress>\n",
       "\n",
       "    "
      ],
      "text/plain": [
       "<IPython.core.display.HTML object>"
      ]
     },
     "metadata": {},
     "output_type": "display_data"
    },
    {
     "name": "stdout",
     "output_type": "stream",
     "text": [
      "\n",
      "*** Feature extraction finished ***\n",
      "28\n",
      "         phone_accel_x_denoise  phone_accel_y_denoise  phone_accel_z_denoise  \\\n",
      "2020216               -0.59166              -13.01757               -1.81495   \n",
      "\n",
      "         phone_gyro_x_denoise  phone_gyro_y_denoise  phone_gyro_z_denoise  \n",
      "2020216               0.76366               0.13612                0.5875  \n",
      "False\n",
      "*** Feature extraction started ***\n"
     ]
    },
    {
     "data": {
      "text/html": [
       "\n",
       "              <p>\n",
       "                  Progress: 100% Complete\n",
       "              <p/>            \n",
       "              <progress\n",
       "                  value='32'\n",
       "                  max='32',\n",
       "                  style='width: 25%',\n",
       "              >\n",
       "                  32\n",
       "              </progress>\n",
       "\n",
       "    "
      ],
      "text/plain": [
       "<IPython.core.display.HTML object>"
      ]
     },
     "metadata": {},
     "output_type": "display_data"
    },
    {
     "name": "stdout",
     "output_type": "stream",
     "text": [
      "\n",
      "*** Feature extraction finished ***\n",
      "         phone_accel_x_denoise  phone_accel_y_denoise  phone_accel_z_denoise  \\\n",
      "2023786                0.69613              -17.34652                 1.3948   \n",
      "\n",
      "         phone_gyro_x_denoise  phone_gyro_y_denoise  phone_gyro_z_denoise  \n",
      "2023786               0.86723               1.09945               3.19195  \n",
      "False\n",
      "*** Feature extraction started ***\n"
     ]
    },
    {
     "data": {
      "text/html": [
       "\n",
       "              <p>\n",
       "                  Progress: 100% Complete\n",
       "              <p/>            \n",
       "              <progress\n",
       "                  value='32'\n",
       "                  max='32',\n",
       "                  style='width: 25%',\n",
       "              >\n",
       "                  32\n",
       "              </progress>\n",
       "\n",
       "    "
      ],
      "text/plain": [
       "<IPython.core.display.HTML object>"
      ]
     },
     "metadata": {},
     "output_type": "display_data"
    },
    {
     "name": "stdout",
     "output_type": "stream",
     "text": [
      "\n",
      "*** Feature extraction finished ***\n",
      "         phone_accel_x_denoise  phone_accel_y_denoise  phone_accel_z_denoise  \\\n",
      "2027355               -3.18847               -8.41296               -0.90158   \n",
      "\n",
      "         phone_gyro_x_denoise  phone_gyro_y_denoise  phone_gyro_z_denoise  \n",
      "2027355               0.86293               0.01598              -0.45472  \n",
      "False\n",
      "*** Feature extraction started ***\n"
     ]
    },
    {
     "data": {
      "text/html": [
       "\n",
       "              <p>\n",
       "                  Progress: 100% Complete\n",
       "              <p/>            \n",
       "              <progress\n",
       "                  value='32'\n",
       "                  max='32',\n",
       "                  style='width: 25%',\n",
       "              >\n",
       "                  32\n",
       "              </progress>\n",
       "\n",
       "    "
      ],
      "text/plain": [
       "<IPython.core.display.HTML object>"
      ]
     },
     "metadata": {},
     "output_type": "display_data"
    },
    {
     "name": "stdout",
     "output_type": "stream",
     "text": [
      "\n",
      "*** Feature extraction finished ***\n",
      "         phone_accel_x_denoise  phone_accel_y_denoise  phone_accel_z_denoise  \\\n",
      "2066614                0.65254               -9.20018                3.85016   \n",
      "\n",
      "         phone_gyro_x_denoise  phone_gyro_y_denoise  phone_gyro_z_denoise  \n",
      "2066614               0.52668               0.65516              -0.38992  \n",
      "False\n",
      "*** Feature extraction started ***\n"
     ]
    },
    {
     "data": {
      "text/html": [
       "\n",
       "              <p>\n",
       "                  Progress: 100% Complete\n",
       "              <p/>            \n",
       "              <progress\n",
       "                  value='32'\n",
       "                  max='32',\n",
       "                  style='width: 25%',\n",
       "              >\n",
       "                  32\n",
       "              </progress>\n",
       "\n",
       "    "
      ],
      "text/plain": [
       "<IPython.core.display.HTML object>"
      ]
     },
     "metadata": {},
     "output_type": "display_data"
    },
    {
     "name": "stdout",
     "output_type": "stream",
     "text": [
      "\n",
      "*** Feature extraction finished ***\n",
      "         phone_accel_x_denoise  phone_accel_y_denoise  phone_accel_z_denoise  \\\n",
      "2070183               -2.03993               -9.60255                0.08745   \n",
      "\n",
      "         phone_gyro_x_denoise  phone_gyro_y_denoise  phone_gyro_z_denoise  \n",
      "2070183               0.06449               0.48864               0.07616  \n",
      "False\n",
      "*** Feature extraction started ***\n"
     ]
    },
    {
     "data": {
      "text/html": [
       "\n",
       "              <p>\n",
       "                  Progress: 100% Complete\n",
       "              <p/>            \n",
       "              <progress\n",
       "                  value='32'\n",
       "                  max='32',\n",
       "                  style='width: 25%',\n",
       "              >\n",
       "                  32\n",
       "              </progress>\n",
       "\n",
       "    "
      ],
      "text/plain": [
       "<IPython.core.display.HTML object>"
      ]
     },
     "metadata": {},
     "output_type": "display_data"
    },
    {
     "name": "stdout",
     "output_type": "stream",
     "text": [
      "\n",
      "*** Feature extraction finished ***\n",
      "28\n",
      "Empty DataFrame\n",
      "Columns: [phone_accel_x_denoise, phone_accel_y_denoise, phone_accel_z_denoise, phone_gyro_x_denoise, phone_gyro_y_denoise, phone_gyro_z_denoise]\n",
      "Index: []\n",
      "False\n",
      "*** Feature extraction started ***\n",
      "Unexpected error, ignore it...\n",
      "Empty DataFrame\n",
      "Columns: [phone_accel_x_denoise, phone_accel_y_denoise, phone_accel_z_denoise, phone_gyro_x_denoise, phone_gyro_y_denoise, phone_gyro_z_denoise]\n",
      "Index: []\n",
      "False\n",
      "*** Feature extraction started ***\n",
      "Unexpected error, ignore it...\n",
      "         phone_accel_x_denoise  phone_accel_y_denoise  phone_accel_z_denoise  \\\n",
      "2084460               -2.26982               -9.44979               -0.90508   \n",
      "\n",
      "         phone_gyro_x_denoise  phone_gyro_y_denoise  phone_gyro_z_denoise  \n",
      "2084460              -0.25421               -2.3609               -0.9564  \n",
      "False\n",
      "*** Feature extraction started ***\n"
     ]
    },
    {
     "data": {
      "text/html": [
       "\n",
       "              <p>\n",
       "                  Progress: 100% Complete\n",
       "              <p/>            \n",
       "              <progress\n",
       "                  value='32'\n",
       "                  max='32',\n",
       "                  style='width: 25%',\n",
       "              >\n",
       "                  32\n",
       "              </progress>\n",
       "\n",
       "    "
      ],
      "text/plain": [
       "<IPython.core.display.HTML object>"
      ]
     },
     "metadata": {},
     "output_type": "display_data"
    },
    {
     "name": "stdout",
     "output_type": "stream",
     "text": [
      "\n",
      "*** Feature extraction finished ***\n",
      "Empty DataFrame\n",
      "Columns: [phone_accel_x_denoise, phone_accel_y_denoise, phone_accel_z_denoise, phone_gyro_x_denoise, phone_gyro_y_denoise, phone_gyro_z_denoise]\n",
      "Index: []\n",
      "False\n",
      "*** Feature extraction started ***\n",
      "Unexpected error, ignore it...\n",
      "         phone_accel_x_denoise  phone_accel_y_denoise  phone_accel_z_denoise  \\\n",
      "2120149               -2.08271               -9.03972               -0.98156   \n",
      "\n",
      "         phone_gyro_x_denoise  phone_gyro_y_denoise  phone_gyro_z_denoise  \n",
      "2120149               0.03421              -0.19225              -0.25164  \n",
      "False\n",
      "*** Feature extraction started ***\n"
     ]
    },
    {
     "data": {
      "text/html": [
       "\n",
       "              <p>\n",
       "                  Progress: 100% Complete\n",
       "              <p/>            \n",
       "              <progress\n",
       "                  value='32'\n",
       "                  max='32',\n",
       "                  style='width: 25%',\n",
       "              >\n",
       "                  32\n",
       "              </progress>\n",
       "\n",
       "    "
      ],
      "text/plain": [
       "<IPython.core.display.HTML object>"
      ]
     },
     "metadata": {},
     "output_type": "display_data"
    },
    {
     "name": "stdout",
     "output_type": "stream",
     "text": [
      "\n",
      "*** Feature extraction finished ***\n",
      "31\n",
      "         phone_accel_x_denoise  phone_accel_y_denoise  phone_accel_z_denoise  \\\n",
      "2134422               -1.23903               -8.70933               -1.99923   \n",
      "\n",
      "         phone_gyro_x_denoise  phone_gyro_y_denoise  phone_gyro_z_denoise  \n",
      "2134422              -0.85943               1.04677              -0.42896  \n",
      "False\n",
      "*** Feature extraction started ***\n"
     ]
    },
    {
     "data": {
      "text/html": [
       "\n",
       "              <p>\n",
       "                  Progress: 100% Complete\n",
       "              <p/>            \n",
       "              <progress\n",
       "                  value='32'\n",
       "                  max='32',\n",
       "                  style='width: 25%',\n",
       "              >\n",
       "                  32\n",
       "              </progress>\n",
       "\n",
       "    "
      ],
      "text/plain": [
       "<IPython.core.display.HTML object>"
      ]
     },
     "metadata": {},
     "output_type": "display_data"
    },
    {
     "name": "stdout",
     "output_type": "stream",
     "text": [
      "\n",
      "*** Feature extraction finished ***\n",
      "         phone_accel_x_denoise  phone_accel_y_denoise  phone_accel_z_denoise  \\\n",
      "2137991                2.79475               -7.47266               -1.39125   \n",
      "\n",
      "         phone_gyro_x_denoise  phone_gyro_y_denoise  phone_gyro_z_denoise  \n",
      "2137991              -2.36244               1.83758               0.24068  \n",
      "False\n",
      "*** Feature extraction started ***\n"
     ]
    },
    {
     "data": {
      "text/html": [
       "\n",
       "              <p>\n",
       "                  Progress: 100% Complete\n",
       "              <p/>            \n",
       "              <progress\n",
       "                  value='32'\n",
       "                  max='32',\n",
       "                  style='width: 25%',\n",
       "              >\n",
       "                  32\n",
       "              </progress>\n",
       "\n",
       "    "
      ],
      "text/plain": [
       "<IPython.core.display.HTML object>"
      ]
     },
     "metadata": {},
     "output_type": "display_data"
    },
    {
     "name": "stdout",
     "output_type": "stream",
     "text": [
      "\n",
      "*** Feature extraction finished ***\n",
      "         phone_accel_x_denoise  phone_accel_y_denoise  phone_accel_z_denoise  \\\n",
      "2141560               -1.49099              -10.77204                0.56817   \n",
      "\n",
      "         phone_gyro_x_denoise  phone_gyro_y_denoise  phone_gyro_z_denoise  \n",
      "2141560                0.5891              -1.19458              -0.41617  \n",
      "False\n",
      "*** Feature extraction started ***\n"
     ]
    },
    {
     "data": {
      "text/html": [
       "\n",
       "              <p>\n",
       "                  Progress: 100% Complete\n",
       "              <p/>            \n",
       "              <progress\n",
       "                  value='32'\n",
       "                  max='32',\n",
       "                  style='width: 25%',\n",
       "              >\n",
       "                  32\n",
       "              </progress>\n",
       "\n",
       "    "
      ],
      "text/plain": [
       "<IPython.core.display.HTML object>"
      ]
     },
     "metadata": {},
     "output_type": "display_data"
    },
    {
     "name": "stdout",
     "output_type": "stream",
     "text": [
      "\n",
      "*** Feature extraction finished ***\n",
      "         phone_accel_x_denoise  phone_accel_y_denoise  phone_accel_z_denoise  \\\n",
      "2180819                1.52029               -9.12296                1.88773   \n",
      "\n",
      "         phone_gyro_x_denoise  phone_gyro_y_denoise  phone_gyro_z_denoise  \n",
      "2180819               0.42363              -0.44409                -0.012  \n",
      "False\n",
      "*** Feature extraction started ***\n"
     ]
    },
    {
     "data": {
      "text/html": [
       "\n",
       "              <p>\n",
       "                  Progress: 100% Complete\n",
       "              <p/>            \n",
       "              <progress\n",
       "                  value='32'\n",
       "                  max='32',\n",
       "                  style='width: 25%',\n",
       "              >\n",
       "                  32\n",
       "              </progress>\n",
       "\n",
       "    "
      ],
      "text/plain": [
       "<IPython.core.display.HTML object>"
      ]
     },
     "metadata": {},
     "output_type": "display_data"
    },
    {
     "name": "stdout",
     "output_type": "stream",
     "text": [
      "\n",
      "*** Feature extraction finished ***\n",
      "         phone_accel_x_denoise  phone_accel_y_denoise  phone_accel_z_denoise  \\\n",
      "2184388               -1.55429               -9.70126               -2.34633   \n",
      "\n",
      "         phone_gyro_x_denoise  phone_gyro_y_denoise  phone_gyro_z_denoise  \n",
      "2184388              -0.70071              -1.34417              -0.01746  \n",
      "False\n",
      "*** Feature extraction started ***\n"
     ]
    },
    {
     "data": {
      "text/html": [
       "\n",
       "              <p>\n",
       "                  Progress: 100% Complete\n",
       "              <p/>            \n",
       "              <progress\n",
       "                  value='32'\n",
       "                  max='32',\n",
       "                  style='width: 25%',\n",
       "              >\n",
       "                  32\n",
       "              </progress>\n",
       "\n",
       "    "
      ],
      "text/plain": [
       "<IPython.core.display.HTML object>"
      ]
     },
     "metadata": {},
     "output_type": "display_data"
    },
    {
     "name": "stdout",
     "output_type": "stream",
     "text": [
      "\n",
      "*** Feature extraction finished ***\n",
      "31\n",
      "         phone_accel_x_denoise  phone_accel_y_denoise  phone_accel_z_denoise  \\\n",
      "2217846               -5.59106              -11.87745               -0.09114   \n",
      "\n",
      "         phone_gyro_x_denoise  phone_gyro_y_denoise  phone_gyro_z_denoise  \n",
      "2217846               -0.1557              -0.44125              -0.14817  \n",
      "False\n",
      "*** Feature extraction started ***\n"
     ]
    },
    {
     "data": {
      "text/html": [
       "\n",
       "              <p>\n",
       "                  Progress: 100% Complete\n",
       "              <p/>            \n",
       "              <progress\n",
       "                  value='32'\n",
       "                  max='32',\n",
       "                  style='width: 25%',\n",
       "              >\n",
       "                  32\n",
       "              </progress>\n",
       "\n",
       "    "
      ],
      "text/plain": [
       "<IPython.core.display.HTML object>"
      ]
     },
     "metadata": {},
     "output_type": "display_data"
    },
    {
     "name": "stdout",
     "output_type": "stream",
     "text": [
      "\n",
      "*** Feature extraction finished ***\n",
      "         phone_accel_x_denoise  phone_accel_y_denoise  phone_accel_z_denoise  \\\n",
      "2221415                -1.3063               -1.54096                2.28693   \n",
      "\n",
      "         phone_gyro_x_denoise  phone_gyro_y_denoise  phone_gyro_z_denoise  \n",
      "2221415               2.02207               0.26779              -0.16714  \n",
      "False\n",
      "*** Feature extraction started ***\n"
     ]
    },
    {
     "data": {
      "text/html": [
       "\n",
       "              <p>\n",
       "                  Progress: 100% Complete\n",
       "              <p/>            \n",
       "              <progress\n",
       "                  value='32'\n",
       "                  max='32',\n",
       "                  style='width: 25%',\n",
       "              >\n",
       "                  32\n",
       "              </progress>\n",
       "\n",
       "    "
      ],
      "text/plain": [
       "<IPython.core.display.HTML object>"
      ]
     },
     "metadata": {},
     "output_type": "display_data"
    },
    {
     "name": "stdout",
     "output_type": "stream",
     "text": [
      "\n",
      "*** Feature extraction finished ***\n",
      "         phone_accel_x_denoise  phone_accel_y_denoise  phone_accel_z_denoise  \\\n",
      "2224984               -0.59437               -9.35425                1.86178   \n",
      "\n",
      "         phone_gyro_x_denoise  phone_gyro_y_denoise  phone_gyro_z_denoise  \n",
      "2224984               0.97914               1.57522               0.50023  \n",
      "False\n",
      "*** Feature extraction started ***\n"
     ]
    },
    {
     "data": {
      "text/html": [
       "\n",
       "              <p>\n",
       "                  Progress: 100% Complete\n",
       "              <p/>            \n",
       "              <progress\n",
       "                  value='32'\n",
       "                  max='32',\n",
       "                  style='width: 25%',\n",
       "              >\n",
       "                  32\n",
       "              </progress>\n",
       "\n",
       "    "
      ],
      "text/plain": [
       "<IPython.core.display.HTML object>"
      ]
     },
     "metadata": {},
     "output_type": "display_data"
    },
    {
     "name": "stdout",
     "output_type": "stream",
     "text": [
      "\n",
      "*** Feature extraction finished ***\n",
      "         phone_accel_x_denoise  phone_accel_y_denoise  phone_accel_z_denoise  \\\n",
      "2264237                1.62354               -9.47611               -0.73497   \n",
      "\n",
      "         phone_gyro_x_denoise  phone_gyro_y_denoise  phone_gyro_z_denoise  \n",
      "2264237              -0.04762              -0.11296                0.0817  \n",
      "False\n",
      "*** Feature extraction started ***\n"
     ]
    },
    {
     "data": {
      "text/html": [
       "\n",
       "              <p>\n",
       "                  Progress: 100% Complete\n",
       "              <p/>            \n",
       "              <progress\n",
       "                  value='32'\n",
       "                  max='32',\n",
       "                  style='width: 25%',\n",
       "              >\n",
       "                  32\n",
       "              </progress>\n",
       "\n",
       "    "
      ],
      "text/plain": [
       "<IPython.core.display.HTML object>"
      ]
     },
     "metadata": {},
     "output_type": "display_data"
    },
    {
     "name": "stdout",
     "output_type": "stream",
     "text": [
      "\n",
      "*** Feature extraction finished ***\n",
      "         phone_accel_x_denoise  phone_accel_y_denoise  phone_accel_z_denoise  \\\n",
      "2267805                4.16291               -8.77412               -0.19804   \n",
      "\n",
      "         phone_gyro_x_denoise  phone_gyro_y_denoise  phone_gyro_z_denoise  \n",
      "2267805              -0.14643                0.2817               -0.0763  \n",
      "False\n",
      "*** Feature extraction started ***\n"
     ]
    },
    {
     "data": {
      "text/html": [
       "\n",
       "              <p>\n",
       "                  Progress: 100% Complete\n",
       "              <p/>            \n",
       "              <progress\n",
       "                  value='32'\n",
       "                  max='32',\n",
       "                  style='width: 25%',\n",
       "              >\n",
       "                  32\n",
       "              </progress>\n",
       "\n",
       "    "
      ],
      "text/plain": [
       "<IPython.core.display.HTML object>"
      ]
     },
     "metadata": {},
     "output_type": "display_data"
    },
    {
     "name": "stdout",
     "output_type": "stream",
     "text": [
      "\n",
      "*** Feature extraction finished ***\n",
      "31\n",
      "         phone_accel_x_denoise  phone_accel_y_denoise  phone_accel_z_denoise  \\\n",
      "2282081                3.69555               -8.83096               -2.19763   \n",
      "\n",
      "         phone_gyro_x_denoise  phone_gyro_y_denoise  phone_gyro_z_denoise  \n",
      "2282081               1.49593               0.25838              -0.09559  \n",
      "False\n",
      "*** Feature extraction started ***\n"
     ]
    },
    {
     "data": {
      "text/html": [
       "\n",
       "              <p>\n",
       "                  Progress: 100% Complete\n",
       "              <p/>            \n",
       "              <progress\n",
       "                  value='32'\n",
       "                  max='32',\n",
       "                  style='width: 25%',\n",
       "              >\n",
       "                  32\n",
       "              </progress>\n",
       "\n",
       "    "
      ],
      "text/plain": [
       "<IPython.core.display.HTML object>"
      ]
     },
     "metadata": {},
     "output_type": "display_data"
    },
    {
     "name": "stdout",
     "output_type": "stream",
     "text": [
      "\n",
      "*** Feature extraction finished ***\n",
      "         phone_accel_x_denoise  phone_accel_y_denoise  phone_accel_z_denoise  \\\n",
      "2285679                8.74652                8.45916               -5.15447   \n",
      "\n",
      "         phone_gyro_x_denoise  phone_gyro_y_denoise  phone_gyro_z_denoise  \n",
      "2285679              -1.00033               0.14369              -2.95014  \n",
      "False\n",
      "*** Feature extraction started ***\n"
     ]
    },
    {
     "data": {
      "text/html": [
       "\n",
       "              <p>\n",
       "                  Progress: 100% Complete\n",
       "              <p/>            \n",
       "              <progress\n",
       "                  value='32'\n",
       "                  max='32',\n",
       "                  style='width: 25%',\n",
       "              >\n",
       "                  32\n",
       "              </progress>\n",
       "\n",
       "    "
      ],
      "text/plain": [
       "<IPython.core.display.HTML object>"
      ]
     },
     "metadata": {},
     "output_type": "display_data"
    },
    {
     "name": "stdout",
     "output_type": "stream",
     "text": [
      "\n",
      "*** Feature extraction finished ***\n",
      "         phone_accel_x_denoise  phone_accel_y_denoise  phone_accel_z_denoise  \\\n",
      "2289277                7.11447               -3.46955                1.31626   \n",
      "\n",
      "         phone_gyro_x_denoise  phone_gyro_y_denoise  phone_gyro_z_denoise  \n",
      "2289277                0.3948              -0.09139               0.29537  \n",
      "False\n",
      "*** Feature extraction started ***\n"
     ]
    },
    {
     "data": {
      "text/html": [
       "\n",
       "              <p>\n",
       "                  Progress: 100% Complete\n",
       "              <p/>            \n",
       "              <progress\n",
       "                  value='32'\n",
       "                  max='32',\n",
       "                  style='width: 25%',\n",
       "              >\n",
       "                  32\n",
       "              </progress>\n",
       "\n",
       "    "
      ],
      "text/plain": [
       "<IPython.core.display.HTML object>"
      ]
     },
     "metadata": {},
     "output_type": "display_data"
    },
    {
     "name": "stdout",
     "output_type": "stream",
     "text": [
      "\n",
      "*** Feature extraction finished ***\n",
      "         phone_accel_x_denoise  phone_accel_y_denoise  phone_accel_z_denoise  \\\n",
      "2328857               -0.87817                 0.8041              -14.05651   \n",
      "\n",
      "         phone_gyro_x_denoise  phone_gyro_y_denoise  phone_gyro_z_denoise  \n",
      "2328857              -0.81356              -5.84168              -2.05887  \n",
      "False\n",
      "*** Feature extraction started ***\n"
     ]
    },
    {
     "data": {
      "text/html": [
       "\n",
       "              <p>\n",
       "                  Progress: 100% Complete\n",
       "              <p/>            \n",
       "              <progress\n",
       "                  value='32'\n",
       "                  max='32',\n",
       "                  style='width: 25%',\n",
       "              >\n",
       "                  32\n",
       "              </progress>\n",
       "\n",
       "    "
      ],
      "text/plain": [
       "<IPython.core.display.HTML object>"
      ]
     },
     "metadata": {},
     "output_type": "display_data"
    },
    {
     "name": "stdout",
     "output_type": "stream",
     "text": [
      "\n",
      "*** Feature extraction finished ***\n",
      "         phone_accel_x_denoise  phone_accel_y_denoise  phone_accel_z_denoise  \\\n",
      "2332455                1.23192               -3.29796               -1.24553   \n",
      "\n",
      "         phone_gyro_x_denoise  phone_gyro_y_denoise  phone_gyro_z_denoise  \n",
      "2332455              -0.77806               1.36624               0.96293  \n",
      "False\n",
      "*** Feature extraction started ***\n"
     ]
    },
    {
     "data": {
      "text/html": [
       "\n",
       "              <p>\n",
       "                  Progress: 100% Complete\n",
       "              <p/>            \n",
       "              <progress\n",
       "                  value='32'\n",
       "                  max='32',\n",
       "                  style='width: 25%',\n",
       "              >\n",
       "                  32\n",
       "              </progress>\n",
       "\n",
       "    "
      ],
      "text/plain": [
       "<IPython.core.display.HTML object>"
      ]
     },
     "metadata": {},
     "output_type": "display_data"
    },
    {
     "name": "stdout",
     "output_type": "stream",
     "text": [
      "\n",
      "*** Feature extraction finished ***\n",
      "31\n",
      "         phone_accel_x_denoise  phone_accel_y_denoise  phone_accel_z_denoise  \\\n",
      "2346847               10.56412               -0.18804                0.79852   \n",
      "\n",
      "         phone_gyro_x_denoise  phone_gyro_y_denoise  phone_gyro_z_denoise  \n",
      "2346847              -1.33598              -1.84777              -2.97356  \n",
      "False\n",
      "*** Feature extraction started ***\n"
     ]
    },
    {
     "data": {
      "text/html": [
       "\n",
       "              <p>\n",
       "                  Progress: 100% Complete\n",
       "              <p/>            \n",
       "              <progress\n",
       "                  value='32'\n",
       "                  max='32',\n",
       "                  style='width: 25%',\n",
       "              >\n",
       "                  32\n",
       "              </progress>\n",
       "\n",
       "    "
      ],
      "text/plain": [
       "<IPython.core.display.HTML object>"
      ]
     },
     "metadata": {},
     "output_type": "display_data"
    },
    {
     "name": "stdout",
     "output_type": "stream",
     "text": [
      "\n",
      "*** Feature extraction finished ***\n",
      "         phone_accel_x_denoise  phone_accel_y_denoise  phone_accel_z_denoise  \\\n",
      "2350446                4.89784               -6.21744               -12.4492   \n",
      "\n",
      "         phone_gyro_x_denoise  phone_gyro_y_denoise  phone_gyro_z_denoise  \n",
      "2350446               2.05618              -3.93356               0.27158  \n",
      "False\n",
      "*** Feature extraction started ***\n"
     ]
    },
    {
     "data": {
      "text/html": [
       "\n",
       "              <p>\n",
       "                  Progress: 100% Complete\n",
       "              <p/>            \n",
       "              <progress\n",
       "                  value='32'\n",
       "                  max='32',\n",
       "                  style='width: 25%',\n",
       "              >\n",
       "                  32\n",
       "              </progress>\n",
       "\n",
       "    "
      ],
      "text/plain": [
       "<IPython.core.display.HTML object>"
      ]
     },
     "metadata": {},
     "output_type": "display_data"
    },
    {
     "name": "stdout",
     "output_type": "stream",
     "text": [
      "\n",
      "*** Feature extraction finished ***\n",
      "         phone_accel_x_denoise  phone_accel_y_denoise  phone_accel_z_denoise  \\\n",
      "2354045                7.53864               -0.85523               -1.04582   \n",
      "\n",
      "         phone_gyro_x_denoise  phone_gyro_y_denoise  phone_gyro_z_denoise  \n",
      "2354045              -0.35488               0.07999               1.15293  \n",
      "False\n",
      "*** Feature extraction started ***\n"
     ]
    },
    {
     "data": {
      "text/html": [
       "\n",
       "              <p>\n",
       "                  Progress: 100% Complete\n",
       "              <p/>            \n",
       "              <progress\n",
       "                  value='32'\n",
       "                  max='32',\n",
       "                  style='width: 25%',\n",
       "              >\n",
       "                  32\n",
       "              </progress>\n",
       "\n",
       "    "
      ],
      "text/plain": [
       "<IPython.core.display.HTML object>"
      ]
     },
     "metadata": {},
     "output_type": "display_data"
    },
    {
     "name": "stdout",
     "output_type": "stream",
     "text": [
      "\n",
      "*** Feature extraction finished ***\n",
      "         phone_accel_x_denoise  phone_accel_y_denoise  phone_accel_z_denoise  \\\n",
      "2393647               -6.15699              -13.44713               -2.44722   \n",
      "\n",
      "         phone_gyro_x_denoise  phone_gyro_y_denoise  phone_gyro_z_denoise  \n",
      "2393647              -0.69647               0.49155              -1.82059  \n",
      "False\n",
      "*** Feature extraction started ***\n"
     ]
    },
    {
     "data": {
      "text/html": [
       "\n",
       "              <p>\n",
       "                  Progress: 100% Complete\n",
       "              <p/>            \n",
       "              <progress\n",
       "                  value='32'\n",
       "                  max='32',\n",
       "                  style='width: 25%',\n",
       "              >\n",
       "                  32\n",
       "              </progress>\n",
       "\n",
       "    "
      ],
      "text/plain": [
       "<IPython.core.display.HTML object>"
      ]
     },
     "metadata": {},
     "output_type": "display_data"
    },
    {
     "name": "stdout",
     "output_type": "stream",
     "text": [
      "\n",
      "*** Feature extraction finished ***\n",
      "         phone_accel_x_denoise  phone_accel_y_denoise  phone_accel_z_denoise  \\\n",
      "2397246               13.43696              -11.59322                2.93893   \n",
      "\n",
      "         phone_gyro_x_denoise  phone_gyro_y_denoise  phone_gyro_z_denoise  \n",
      "2397246              -3.51018               4.72278               5.04184  \n",
      "False\n",
      "*** Feature extraction started ***\n"
     ]
    },
    {
     "data": {
      "text/html": [
       "\n",
       "              <p>\n",
       "                  Progress: 100% Complete\n",
       "              <p/>            \n",
       "              <progress\n",
       "                  value='32'\n",
       "                  max='32',\n",
       "                  style='width: 25%',\n",
       "              >\n",
       "                  32\n",
       "              </progress>\n",
       "\n",
       "    "
      ],
      "text/plain": [
       "<IPython.core.display.HTML object>"
      ]
     },
     "metadata": {},
     "output_type": "display_data"
    },
    {
     "name": "stdout",
     "output_type": "stream",
     "text": [
      "\n",
      "*** Feature extraction finished ***\n",
      "31\n",
      "         phone_accel_x_denoise  phone_accel_y_denoise  phone_accel_z_denoise  \\\n",
      "2411641                 10.693               -3.32161                 3.2601   \n",
      "\n",
      "         phone_gyro_x_denoise  phone_gyro_y_denoise  phone_gyro_z_denoise  \n",
      "2411641               0.36003              -0.80225              -1.04188  \n",
      "False\n",
      "*** Feature extraction started ***\n"
     ]
    },
    {
     "data": {
      "text/html": [
       "\n",
       "              <p>\n",
       "                  Progress: 100% Complete\n",
       "              <p/>            \n",
       "              <progress\n",
       "                  value='33'\n",
       "                  max='33',\n",
       "                  style='width: 25%',\n",
       "              >\n",
       "                  33\n",
       "              </progress>\n",
       "\n",
       "    "
      ],
      "text/plain": [
       "<IPython.core.display.HTML object>"
      ]
     },
     "metadata": {},
     "output_type": "display_data"
    },
    {
     "name": "stdout",
     "output_type": "stream",
     "text": [
      "\n",
      "*** Feature extraction finished ***\n",
      "         phone_accel_x_denoise  phone_accel_y_denoise  phone_accel_z_denoise  \\\n",
      "2415256                9.65871                9.95903               -2.30721   \n",
      "\n",
      "         phone_gyro_x_denoise  phone_gyro_y_denoise  phone_gyro_z_denoise  \n",
      "2415256               0.33092              -1.28801               0.87595  \n",
      "False\n",
      "*** Feature extraction started ***\n"
     ]
    },
    {
     "data": {
      "text/html": [
       "\n",
       "              <p>\n",
       "                  Progress: 100% Complete\n",
       "              <p/>            \n",
       "              <progress\n",
       "                  value='32'\n",
       "                  max='32',\n",
       "                  style='width: 25%',\n",
       "              >\n",
       "                  32\n",
       "              </progress>\n",
       "\n",
       "    "
      ],
      "text/plain": [
       "<IPython.core.display.HTML object>"
      ]
     },
     "metadata": {},
     "output_type": "display_data"
    },
    {
     "name": "stdout",
     "output_type": "stream",
     "text": [
      "\n",
      "*** Feature extraction finished ***\n",
      "         phone_accel_x_denoise  phone_accel_y_denoise  phone_accel_z_denoise  \\\n",
      "2418855                11.8925               -1.43657                 0.8276   \n",
      "\n",
      "         phone_gyro_x_denoise  phone_gyro_y_denoise  phone_gyro_z_denoise  \n",
      "2418855               0.11785               0.07658               0.08802  \n",
      "False\n",
      "*** Feature extraction started ***\n"
     ]
    },
    {
     "data": {
      "text/html": [
       "\n",
       "              <p>\n",
       "                  Progress: 100% Complete\n",
       "              <p/>            \n",
       "              <progress\n",
       "                  value='32'\n",
       "                  max='32',\n",
       "                  style='width: 25%',\n",
       "              >\n",
       "                  32\n",
       "              </progress>\n",
       "\n",
       "    "
      ],
      "text/plain": [
       "<IPython.core.display.HTML object>"
      ]
     },
     "metadata": {},
     "output_type": "display_data"
    },
    {
     "name": "stdout",
     "output_type": "stream",
     "text": [
      "\n",
      "*** Feature extraction finished ***\n",
      "         phone_accel_x_denoise  phone_accel_y_denoise  phone_accel_z_denoise  \\\n",
      "2458455                0.03322              -11.50339               -3.35507   \n",
      "\n",
      "         phone_gyro_x_denoise  phone_gyro_y_denoise  phone_gyro_z_denoise  \n",
      "2458455              -2.13553               0.60354              -4.65596  \n",
      "False\n",
      "*** Feature extraction started ***\n"
     ]
    },
    {
     "data": {
      "text/html": [
       "\n",
       "              <p>\n",
       "                  Progress: 100% Complete\n",
       "              <p/>            \n",
       "              <progress\n",
       "                  value='32'\n",
       "                  max='32',\n",
       "                  style='width: 25%',\n",
       "              >\n",
       "                  32\n",
       "              </progress>\n",
       "\n",
       "    "
      ],
      "text/plain": [
       "<IPython.core.display.HTML object>"
      ]
     },
     "metadata": {},
     "output_type": "display_data"
    },
    {
     "name": "stdout",
     "output_type": "stream",
     "text": [
      "\n",
      "*** Feature extraction finished ***\n",
      "         phone_accel_x_denoise  phone_accel_y_denoise  phone_accel_z_denoise  \\\n",
      "2462054                2.08904               -5.92011                 5.8618   \n",
      "\n",
      "         phone_gyro_x_denoise  phone_gyro_y_denoise  phone_gyro_z_denoise  \n",
      "2462054                 0.278                3.1165               1.00911  \n",
      "False\n",
      "*** Feature extraction started ***\n"
     ]
    },
    {
     "data": {
      "text/html": [
       "\n",
       "              <p>\n",
       "                  Progress: 100% Complete\n",
       "              <p/>            \n",
       "              <progress\n",
       "                  value='32'\n",
       "                  max='32',\n",
       "                  style='width: 25%',\n",
       "              >\n",
       "                  32\n",
       "              </progress>\n",
       "\n",
       "    "
      ],
      "text/plain": [
       "<IPython.core.display.HTML object>"
      ]
     },
     "metadata": {},
     "output_type": "display_data"
    },
    {
     "name": "stdout",
     "output_type": "stream",
     "text": [
      "\n",
      "*** Feature extraction finished ***\n",
      "31\n",
      "         phone_accel_x_denoise  phone_accel_y_denoise  phone_accel_z_denoise  \\\n",
      "2476447               12.91592               -4.19404               -0.46233   \n",
      "\n",
      "         phone_gyro_x_denoise  phone_gyro_y_denoise  phone_gyro_z_denoise  \n",
      "2476447              -0.07707               -0.2582              -0.11079  \n",
      "False\n",
      "*** Feature extraction started ***\n"
     ]
    },
    {
     "data": {
      "text/html": [
       "\n",
       "              <p>\n",
       "                  Progress: 100% Complete\n",
       "              <p/>            \n",
       "              <progress\n",
       "                  value='32'\n",
       "                  max='32',\n",
       "                  style='width: 25%',\n",
       "              >\n",
       "                  32\n",
       "              </progress>\n",
       "\n",
       "    "
      ],
      "text/plain": [
       "<IPython.core.display.HTML object>"
      ]
     },
     "metadata": {},
     "output_type": "display_data"
    },
    {
     "name": "stdout",
     "output_type": "stream",
     "text": [
      "\n",
      "*** Feature extraction finished ***\n",
      "         phone_accel_x_denoise  phone_accel_y_denoise  phone_accel_z_denoise  \\\n",
      "2480046               -0.15562              -16.27758               -4.02091   \n",
      "\n",
      "         phone_gyro_x_denoise  phone_gyro_y_denoise  phone_gyro_z_denoise  \n",
      "2480046              -0.11826              -4.68082                1.0855  \n",
      "False\n",
      "*** Feature extraction started ***\n"
     ]
    },
    {
     "data": {
      "text/html": [
       "\n",
       "              <p>\n",
       "                  Progress: 100% Complete\n",
       "              <p/>            \n",
       "              <progress\n",
       "                  value='32'\n",
       "                  max='32',\n",
       "                  style='width: 25%',\n",
       "              >\n",
       "                  32\n",
       "              </progress>\n",
       "\n",
       "    "
      ],
      "text/plain": [
       "<IPython.core.display.HTML object>"
      ]
     },
     "metadata": {},
     "output_type": "display_data"
    },
    {
     "name": "stdout",
     "output_type": "stream",
     "text": [
      "\n",
      "*** Feature extraction finished ***\n",
      "         phone_accel_x_denoise  phone_accel_y_denoise  phone_accel_z_denoise  \\\n",
      "2483645               14.84066               -5.84445               -0.40407   \n",
      "\n",
      "         phone_gyro_x_denoise  phone_gyro_y_denoise  phone_gyro_z_denoise  \n",
      "2483645              -0.36256               0.24816               0.27591  \n",
      "False\n",
      "*** Feature extraction started ***\n"
     ]
    },
    {
     "data": {
      "text/html": [
       "\n",
       "              <p>\n",
       "                  Progress: 100% Complete\n",
       "              <p/>            \n",
       "              <progress\n",
       "                  value='32'\n",
       "                  max='32',\n",
       "                  style='width: 25%',\n",
       "              >\n",
       "                  32\n",
       "              </progress>\n",
       "\n",
       "    "
      ],
      "text/plain": [
       "<IPython.core.display.HTML object>"
      ]
     },
     "metadata": {},
     "output_type": "display_data"
    },
    {
     "name": "stdout",
     "output_type": "stream",
     "text": [
      "\n",
      "*** Feature extraction finished ***\n",
      "         phone_accel_x_denoise  phone_accel_y_denoise  phone_accel_z_denoise  \\\n",
      "2523263               -8.18498               -7.53635               -1.54132   \n",
      "\n",
      "         phone_gyro_x_denoise  phone_gyro_y_denoise  phone_gyro_z_denoise  \n",
      "2523263               2.73524              -0.01211               0.95731  \n",
      "False\n",
      "*** Feature extraction started ***\n"
     ]
    },
    {
     "data": {
      "text/html": [
       "\n",
       "              <p>\n",
       "                  Progress: 100% Complete\n",
       "              <p/>            \n",
       "              <progress\n",
       "                  value='32'\n",
       "                  max='32',\n",
       "                  style='width: 25%',\n",
       "              >\n",
       "                  32\n",
       "              </progress>\n",
       "\n",
       "    "
      ],
      "text/plain": [
       "<IPython.core.display.HTML object>"
      ]
     },
     "metadata": {},
     "output_type": "display_data"
    },
    {
     "name": "stdout",
     "output_type": "stream",
     "text": [
      "\n",
      "*** Feature extraction finished ***\n",
      "         phone_accel_x_denoise  phone_accel_y_denoise  phone_accel_z_denoise  \\\n",
      "2526862               -3.94405                7.67561               -5.97618   \n",
      "\n",
      "         phone_gyro_x_denoise  phone_gyro_y_denoise  phone_gyro_z_denoise  \n",
      "2526862               1.28044              -0.53658               -0.5227  \n",
      "False\n",
      "*** Feature extraction started ***\n"
     ]
    },
    {
     "data": {
      "text/html": [
       "\n",
       "              <p>\n",
       "                  Progress: 100% Complete\n",
       "              <p/>            \n",
       "              <progress\n",
       "                  value='32'\n",
       "                  max='32',\n",
       "                  style='width: 25%',\n",
       "              >\n",
       "                  32\n",
       "              </progress>\n",
       "\n",
       "    "
      ],
      "text/plain": [
       "<IPython.core.display.HTML object>"
      ]
     },
     "metadata": {},
     "output_type": "display_data"
    },
    {
     "name": "stdout",
     "output_type": "stream",
     "text": [
      "\n",
      "*** Feature extraction finished ***\n",
      "31\n",
      "Empty DataFrame\n",
      "Columns: [phone_accel_x_denoise, phone_accel_y_denoise, phone_accel_z_denoise, phone_gyro_x_denoise, phone_gyro_y_denoise, phone_gyro_z_denoise]\n",
      "Index: []\n",
      "False\n",
      "*** Feature extraction started ***\n",
      "Unexpected error, ignore it...\n",
      "         phone_accel_x_denoise  phone_accel_y_denoise  phone_accel_z_denoise  \\\n",
      "2541312               -0.64266                1.30928                2.24892   \n",
      "\n",
      "         phone_gyro_x_denoise  phone_gyro_y_denoise  phone_gyro_z_denoise  \n",
      "2541312              -1.34472              -0.42611              -0.86251  \n",
      "False\n",
      "*** Feature extraction started ***\n",
      "Unexpected error, ignore it...\n",
      "Empty DataFrame\n",
      "Columns: [phone_accel_x_denoise, phone_accel_y_denoise, phone_accel_z_denoise, phone_gyro_x_denoise, phone_gyro_y_denoise, phone_gyro_z_denoise]\n",
      "Index: []\n",
      "False\n",
      "*** Feature extraction started ***\n",
      "Unexpected error, ignore it...\n",
      "Empty DataFrame\n",
      "Columns: [phone_accel_x_denoise, phone_accel_y_denoise, phone_accel_z_denoise, phone_gyro_x_denoise, phone_gyro_y_denoise, phone_gyro_z_denoise]\n",
      "Index: []\n",
      "False\n",
      "*** Feature extraction started ***\n",
      "Unexpected error, ignore it...\n",
      "Empty DataFrame\n",
      "Columns: [phone_accel_x_denoise, phone_accel_y_denoise, phone_accel_z_denoise, phone_gyro_x_denoise, phone_gyro_y_denoise, phone_gyro_z_denoise]\n",
      "Index: []\n",
      "False\n",
      "*** Feature extraction started ***\n",
      "Unexpected error, ignore it...\n",
      "36\n",
      "Empty DataFrame\n",
      "Columns: [phone_accel_x_denoise, phone_accel_y_denoise, phone_accel_z_denoise, phone_gyro_x_denoise, phone_gyro_y_denoise, phone_gyro_z_denoise]\n",
      "Index: []\n",
      "False\n",
      "*** Feature extraction started ***\n",
      "Unexpected error, ignore it...\n",
      "Empty DataFrame\n",
      "Columns: [phone_accel_x_denoise, phone_accel_y_denoise, phone_accel_z_denoise, phone_gyro_x_denoise, phone_gyro_y_denoise, phone_gyro_z_denoise]\n",
      "Index: []\n",
      "False\n",
      "*** Feature extraction started ***\n",
      "Unexpected error, ignore it...\n",
      "Empty DataFrame\n",
      "Columns: [phone_accel_x_denoise, phone_accel_y_denoise, phone_accel_z_denoise, phone_gyro_x_denoise, phone_gyro_y_denoise, phone_gyro_z_denoise]\n",
      "Index: []\n",
      "False\n",
      "*** Feature extraction started ***\n",
      "Unexpected error, ignore it...\n",
      "         phone_accel_x_denoise  phone_accel_y_denoise  phone_accel_z_denoise  \\\n",
      "2573345                2.20741                9.92097                0.16366   \n",
      "\n",
      "         phone_gyro_x_denoise  phone_gyro_y_denoise  phone_gyro_z_denoise  \n",
      "2573345              -0.07457              -0.33236              -0.03444  \n",
      "False\n",
      "*** Feature extraction started ***\n"
     ]
    },
    {
     "data": {
      "text/html": [
       "\n",
       "              <p>\n",
       "                  Progress: 100% Complete\n",
       "              <p/>            \n",
       "              <progress\n",
       "                  value='8'\n",
       "                  max='8',\n",
       "                  style='width: 25%',\n",
       "              >\n",
       "                  8\n",
       "              </progress>\n",
       "\n",
       "    "
      ],
      "text/plain": [
       "<IPython.core.display.HTML object>"
      ]
     },
     "metadata": {},
     "output_type": "display_data"
    },
    {
     "name": "stdout",
     "output_type": "stream",
     "text": [
      "\n",
      "*** Feature extraction finished ***\n",
      "         phone_accel_x_denoise  phone_accel_y_denoise  phone_accel_z_denoise  \\\n",
      "2574534                1.97669                9.96009                1.09612   \n",
      "\n",
      "         phone_gyro_x_denoise  phone_gyro_y_denoise  phone_gyro_z_denoise  \n",
      "2574534               0.00178              -0.02486              -0.01278  \n",
      "False\n",
      "*** Feature extraction started ***\n"
     ]
    },
    {
     "data": {
      "text/html": [
       "\n",
       "              <p>\n",
       "                  Progress: 100% Complete\n",
       "              <p/>            \n",
       "              <progress\n",
       "                  value='1'\n",
       "                  max='1',\n",
       "                  style='width: 25%',\n",
       "              >\n",
       "                  1\n",
       "              </progress>\n",
       "\n",
       "    "
      ],
      "text/plain": [
       "<IPython.core.display.HTML object>"
      ]
     },
     "metadata": {},
     "output_type": "display_data"
    },
    {
     "name": "stdout",
     "output_type": "stream",
     "text": [
      "\n",
      "*** Feature extraction finished ***\n",
      "39\n",
      "         phone_accel_x_denoise  phone_accel_y_denoise  phone_accel_z_denoise  \\\n",
      "2579929                3.13987               -6.39231                0.31934   \n",
      "\n",
      "         phone_gyro_x_denoise  phone_gyro_y_denoise  phone_gyro_z_denoise  \n",
      "2579929              -0.84049              -0.53689              -1.46012  \n",
      "False\n",
      "*** Feature extraction started ***\n"
     ]
    },
    {
     "data": {
      "text/html": [
       "\n",
       "              <p>\n",
       "                  Progress: 100% Complete\n",
       "              <p/>            \n",
       "              <progress\n",
       "                  value='15'\n",
       "                  max='15',\n",
       "                  style='width: 25%',\n",
       "              >\n",
       "                  15\n",
       "              </progress>\n",
       "\n",
       "    "
      ],
      "text/plain": [
       "<IPython.core.display.HTML object>"
      ]
     },
     "metadata": {},
     "output_type": "display_data"
    },
    {
     "name": "stdout",
     "output_type": "stream",
     "text": [
      "\n",
      "*** Feature extraction finished ***\n",
      "         phone_accel_x_denoise  phone_accel_y_denoise  phone_accel_z_denoise  \\\n",
      "2581829                3.21332               -4.21763               -0.11656   \n",
      "\n",
      "         phone_gyro_x_denoise  phone_gyro_y_denoise  phone_gyro_z_denoise  \n",
      "2581829              -0.98359              -0.14949              -1.26553  \n",
      "False\n",
      "*** Feature extraction started ***\n"
     ]
    },
    {
     "data": {
      "text/html": [
       "\n",
       "              <p>\n",
       "                  Progress: 100% Complete\n",
       "              <p/>            \n",
       "              <progress\n",
       "                  value='18'\n",
       "                  max='18',\n",
       "                  style='width: 25%',\n",
       "              >\n",
       "                  18\n",
       "              </progress>\n",
       "\n",
       "    "
      ],
      "text/plain": [
       "<IPython.core.display.HTML object>"
      ]
     },
     "metadata": {},
     "output_type": "display_data"
    },
    {
     "name": "stdout",
     "output_type": "stream",
     "text": [
      "\n",
      "*** Feature extraction finished ***\n",
      "         phone_accel_x_denoise  phone_accel_y_denoise  phone_accel_z_denoise  \\\n",
      "2584024                2.60179              -10.20199                1.66214   \n",
      "\n",
      "         phone_gyro_x_denoise  phone_gyro_y_denoise  phone_gyro_z_denoise  \n",
      "2584024              -0.29508              -1.56487              -0.09339  \n",
      "False\n",
      "*** Feature extraction started ***\n"
     ]
    },
    {
     "data": {
      "text/html": [
       "\n",
       "              <p>\n",
       "                  Progress: 100% Complete\n",
       "              <p/>            \n",
       "              <progress\n",
       "                  value='19'\n",
       "                  max='19',\n",
       "                  style='width: 25%',\n",
       "              >\n",
       "                  19\n",
       "              </progress>\n",
       "\n",
       "    "
      ],
      "text/plain": [
       "<IPython.core.display.HTML object>"
      ]
     },
     "metadata": {},
     "output_type": "display_data"
    },
    {
     "name": "stdout",
     "output_type": "stream",
     "text": [
      "\n",
      "*** Feature extraction finished ***\n",
      "         phone_accel_x_denoise  phone_accel_y_denoise  phone_accel_z_denoise  \\\n",
      "2614716                2.23535               -9.14498                 0.3385   \n",
      "\n",
      "         phone_gyro_x_denoise  phone_gyro_y_denoise  phone_gyro_z_denoise  \n",
      "2614716               0.08735               0.04332              -0.11611  \n",
      "False\n",
      "*** Feature extraction started ***\n"
     ]
    },
    {
     "data": {
      "text/html": [
       "\n",
       "              <p>\n",
       "                  Progress: 100% Complete\n",
       "              <p/>            \n",
       "              <progress\n",
       "                  value='18'\n",
       "                  max='18',\n",
       "                  style='width: 25%',\n",
       "              >\n",
       "                  18\n",
       "              </progress>\n",
       "\n",
       "    "
      ],
      "text/plain": [
       "<IPython.core.display.HTML object>"
      ]
     },
     "metadata": {},
     "output_type": "display_data"
    },
    {
     "name": "stdout",
     "output_type": "stream",
     "text": [
      "\n",
      "*** Feature extraction finished ***\n",
      "         phone_accel_x_denoise  phone_accel_y_denoise  phone_accel_z_denoise  \\\n",
      "2616913               -2.18346               -10.5796                0.11576   \n",
      "\n",
      "         phone_gyro_x_denoise  phone_gyro_y_denoise  phone_gyro_z_denoise  \n",
      "2616913              -0.56672              -0.27555                0.2056  \n",
      "False\n",
      "*** Feature extraction started ***\n"
     ]
    },
    {
     "data": {
      "text/html": [
       "\n",
       "              <p>\n",
       "                  Progress: 100% Complete\n",
       "              <p/>            \n",
       "              <progress\n",
       "                  value='19'\n",
       "                  max='19',\n",
       "                  style='width: 25%',\n",
       "              >\n",
       "                  19\n",
       "              </progress>\n",
       "\n",
       "    "
      ],
      "text/plain": [
       "<IPython.core.display.HTML object>"
      ]
     },
     "metadata": {},
     "output_type": "display_data"
    },
    {
     "name": "stdout",
     "output_type": "stream",
     "text": [
      "\n",
      "*** Feature extraction finished ***\n",
      "39\n",
      "Empty DataFrame\n",
      "Columns: [phone_accel_x_denoise, phone_accel_y_denoise, phone_accel_z_denoise, phone_gyro_x_denoise, phone_gyro_y_denoise, phone_gyro_z_denoise]\n",
      "Index: []\n",
      "False\n",
      "*** Feature extraction started ***\n",
      "Unexpected error, ignore it...\n",
      "Empty DataFrame\n",
      "Columns: [phone_accel_x_denoise, phone_accel_y_denoise, phone_accel_z_denoise, phone_gyro_x_denoise, phone_gyro_y_denoise, phone_gyro_z_denoise]\n",
      "Index: []\n",
      "False\n",
      "*** Feature extraction started ***\n",
      "Unexpected error, ignore it...\n",
      "Empty DataFrame\n",
      "Columns: [phone_accel_x_denoise, phone_accel_y_denoise, phone_accel_z_denoise, phone_gyro_x_denoise, phone_gyro_y_denoise, phone_gyro_z_denoise]\n",
      "Index: []\n",
      "False\n",
      "*** Feature extraction started ***\n",
      "Unexpected error, ignore it...\n",
      "         phone_accel_x_denoise  phone_accel_y_denoise  phone_accel_z_denoise  \\\n",
      "2645802               -0.57959                -9.1833                1.55437   \n",
      "\n",
      "         phone_gyro_x_denoise  phone_gyro_y_denoise  phone_gyro_z_denoise  \n",
      "2645802                0.0103                0.0174              -0.00213  \n",
      "False\n",
      "*** Feature extraction started ***\n",
      "Unexpected error, ignore it...\n",
      "         phone_accel_x_denoise  phone_accel_y_denoise  phone_accel_z_denoise  \\\n",
      "2646017               -0.49337                6.81942                7.20262   \n",
      "\n",
      "         phone_gyro_x_denoise  phone_gyro_y_denoise  phone_gyro_z_denoise  \n",
      "2646017              -0.14985               0.01065              -0.04403  \n",
      "False\n",
      "*** Feature extraction started ***\n"
     ]
    },
    {
     "data": {
      "text/html": [
       "\n",
       "              <p>\n",
       "                  Progress: 100% Complete\n",
       "              <p/>            \n",
       "              <progress\n",
       "                  value='2'\n",
       "                  max='2',\n",
       "                  style='width: 25%',\n",
       "              >\n",
       "                  2\n",
       "              </progress>\n",
       "\n",
       "    "
      ],
      "text/plain": [
       "<IPython.core.display.HTML object>"
      ]
     },
     "metadata": {},
     "output_type": "display_data"
    },
    {
     "name": "stdout",
     "output_type": "stream",
     "text": [
      "\n",
      "*** Feature extraction finished ***\n",
      "43\n",
      "Empty DataFrame\n",
      "Columns: [phone_accel_x_denoise, phone_accel_y_denoise, phone_accel_z_denoise, phone_gyro_x_denoise, phone_gyro_y_denoise, phone_gyro_z_denoise]\n",
      "Index: []\n",
      "False\n",
      "*** Feature extraction started ***\n",
      "Unexpected error, ignore it...\n",
      "Empty DataFrame\n",
      "Columns: [phone_accel_x_denoise, phone_accel_y_denoise, phone_accel_z_denoise, phone_gyro_x_denoise, phone_gyro_y_denoise, phone_gyro_z_denoise]\n",
      "Index: []\n",
      "False\n",
      "*** Feature extraction started ***\n",
      "Unexpected error, ignore it...\n",
      "         phone_accel_x_denoise  phone_accel_y_denoise  phone_accel_z_denoise  \\\n",
      "2649455               -0.85263                5.50934                9.12183   \n",
      "\n",
      "         phone_gyro_x_denoise  phone_gyro_y_denoise  phone_gyro_z_denoise  \n",
      "2649455              -0.17648              -0.47617              -0.06392  \n",
      "False\n",
      "*** Feature extraction started ***\n"
     ]
    },
    {
     "data": {
      "text/html": [
       "\n",
       "              <p>\n",
       "                  Progress: 100% Complete\n",
       "              <p/>            \n",
       "              <progress\n",
       "                  value='2'\n",
       "                  max='2',\n",
       "                  style='width: 25%',\n",
       "              >\n",
       "                  2\n",
       "              </progress>\n",
       "\n",
       "    "
      ],
      "text/plain": [
       "<IPython.core.display.HTML object>"
      ]
     },
     "metadata": {},
     "output_type": "display_data"
    },
    {
     "name": "stdout",
     "output_type": "stream",
     "text": [
      "\n",
      "*** Feature extraction finished ***\n",
      "Empty DataFrame\n",
      "Columns: [phone_accel_x_denoise, phone_accel_y_denoise, phone_accel_z_denoise, phone_gyro_x_denoise, phone_gyro_y_denoise, phone_gyro_z_denoise]\n",
      "Index: []\n",
      "False\n",
      "*** Feature extraction started ***\n",
      "Unexpected error, ignore it...\n",
      "Empty DataFrame\n",
      "Columns: [phone_accel_x_denoise, phone_accel_y_denoise, phone_accel_z_denoise, phone_gyro_x_denoise, phone_gyro_y_denoise, phone_gyro_z_denoise]\n",
      "Index: []\n",
      "False\n",
      "*** Feature extraction started ***\n",
      "Unexpected error, ignore it...\n",
      "47\n",
      "Empty DataFrame\n",
      "Columns: [phone_accel_x_denoise, phone_accel_y_denoise, phone_accel_z_denoise, phone_gyro_x_denoise, phone_gyro_y_denoise, phone_gyro_z_denoise]\n",
      "Index: []\n",
      "False\n",
      "*** Feature extraction started ***\n",
      "Unexpected error, ignore it...\n",
      "Empty DataFrame\n",
      "Columns: [phone_accel_x_denoise, phone_accel_y_denoise, phone_accel_z_denoise, phone_gyro_x_denoise, phone_gyro_y_denoise, phone_gyro_z_denoise]\n",
      "Index: []\n",
      "False\n",
      "*** Feature extraction started ***\n",
      "Unexpected error, ignore it...\n",
      "Empty DataFrame\n",
      "Columns: [phone_accel_x_denoise, phone_accel_y_denoise, phone_accel_z_denoise, phone_gyro_x_denoise, phone_gyro_y_denoise, phone_gyro_z_denoise]\n",
      "Index: []\n",
      "False\n",
      "*** Feature extraction started ***\n",
      "Unexpected error, ignore it...\n",
      "         phone_accel_x_denoise  phone_accel_y_denoise  phone_accel_z_denoise  \\\n",
      "2697777                -9.0891               -0.11257               -1.72841   \n",
      "\n",
      "         phone_gyro_x_denoise  phone_gyro_y_denoise  phone_gyro_z_denoise  \n",
      "2697777              -0.90228              -0.20133              -0.65585  \n",
      "False\n",
      "*** Feature extraction started ***\n",
      "Unexpected error, ignore it...\n",
      "Empty DataFrame\n",
      "Columns: [phone_accel_x_denoise, phone_accel_y_denoise, phone_accel_z_denoise, phone_gyro_x_denoise, phone_gyro_y_denoise, phone_gyro_z_denoise]\n",
      "Index: []\n",
      "False\n",
      "*** Feature extraction started ***\n",
      "Unexpected error, ignore it...\n",
      "52\n",
      "         phone_accel_x_denoise  phone_accel_y_denoise  phone_accel_z_denoise  \\\n",
      "2703453               -1.35093                2.59212              -10.35572   \n",
      "\n",
      "         phone_gyro_x_denoise  phone_gyro_y_denoise  phone_gyro_z_denoise  \n",
      "2703453              -0.73965               0.03302               1.21511  \n",
      "False\n",
      "*** Feature extraction started ***\n"
     ]
    },
    {
     "data": {
      "text/html": [
       "\n",
       "              <p>\n",
       "                  Progress: 100% Complete\n",
       "              <p/>            \n",
       "              <progress\n",
       "                  value='42'\n",
       "                  max='42',\n",
       "                  style='width: 25%',\n",
       "              >\n",
       "                  42\n",
       "              </progress>\n",
       "\n",
       "    "
      ],
      "text/plain": [
       "<IPython.core.display.HTML object>"
      ]
     },
     "metadata": {},
     "output_type": "display_data"
    },
    {
     "name": "stdout",
     "output_type": "stream",
     "text": [
      "\n",
      "*** Feature extraction finished ***\n",
      "         phone_accel_x_denoise  phone_accel_y_denoise  phone_accel_z_denoise  \\\n",
      "2707963                8.39267               -4.27664               -4.13698   \n",
      "\n",
      "         phone_gyro_x_denoise  phone_gyro_y_denoise  phone_gyro_z_denoise  \n",
      "2707963               0.13032              -0.49535               0.39131  \n",
      "False\n",
      "*** Feature extraction started ***\n"
     ]
    },
    {
     "data": {
      "text/html": [
       "\n",
       "              <p>\n",
       "                  Progress: 100% Complete\n",
       "              <p/>            \n",
       "              <progress\n",
       "                  value='42'\n",
       "                  max='42',\n",
       "                  style='width: 25%',\n",
       "              >\n",
       "                  42\n",
       "              </progress>\n",
       "\n",
       "    "
      ],
      "text/plain": [
       "<IPython.core.display.HTML object>"
      ]
     },
     "metadata": {},
     "output_type": "display_data"
    },
    {
     "name": "stdout",
     "output_type": "stream",
     "text": [
      "\n",
      "*** Feature extraction finished ***\n",
      "         phone_accel_x_denoise  phone_accel_y_denoise  phone_accel_z_denoise  \\\n",
      "2712474                1.60212               -8.65284               -1.43233   \n",
      "\n",
      "         phone_gyro_x_denoise  phone_gyro_y_denoise  phone_gyro_z_denoise  \n",
      "2712474              -1.86563              -1.38307              -0.46943  \n",
      "False\n",
      "*** Feature extraction started ***\n"
     ]
    },
    {
     "data": {
      "text/html": [
       "\n",
       "              <p>\n",
       "                  Progress: 100% Complete\n",
       "              <p/>            \n",
       "              <progress\n",
       "                  value='42'\n",
       "                  max='42',\n",
       "                  style='width: 25%',\n",
       "              >\n",
       "                  42\n",
       "              </progress>\n",
       "\n",
       "    "
      ],
      "text/plain": [
       "<IPython.core.display.HTML object>"
      ]
     },
     "metadata": {},
     "output_type": "display_data"
    },
    {
     "name": "stdout",
     "output_type": "stream",
     "text": [
      "\n",
      "*** Feature extraction finished ***\n",
      "         phone_accel_x_denoise  phone_accel_y_denoise  phone_accel_z_denoise  \\\n",
      "2762088                1.28968               -6.24408               -4.65991   \n",
      "\n",
      "         phone_gyro_x_denoise  phone_gyro_y_denoise  phone_gyro_z_denoise  \n",
      "2762088               1.95654              -0.06285               0.57027  \n",
      "False\n",
      "*** Feature extraction started ***\n"
     ]
    },
    {
     "data": {
      "text/html": [
       "\n",
       "              <p>\n",
       "                  Progress: 100% Complete\n",
       "              <p/>            \n",
       "              <progress\n",
       "                  value='42'\n",
       "                  max='42',\n",
       "                  style='width: 25%',\n",
       "              >\n",
       "                  42\n",
       "              </progress>\n",
       "\n",
       "    "
      ],
      "text/plain": [
       "<IPython.core.display.HTML object>"
      ]
     },
     "metadata": {},
     "output_type": "display_data"
    },
    {
     "name": "stdout",
     "output_type": "stream",
     "text": [
      "\n",
      "*** Feature extraction finished ***\n",
      "         phone_accel_x_denoise  phone_accel_y_denoise  phone_accel_z_denoise  \\\n",
      "2766598                3.41852               -9.03372               -0.82061   \n",
      "\n",
      "         phone_gyro_x_denoise  phone_gyro_y_denoise  phone_gyro_z_denoise  \n",
      "2766598              -0.08203               0.01669              -0.07031  \n",
      "False\n",
      "*** Feature extraction started ***\n"
     ]
    },
    {
     "data": {
      "text/html": [
       "\n",
       "              <p>\n",
       "                  Progress: 100% Complete\n",
       "              <p/>            \n",
       "              <progress\n",
       "                  value='42'\n",
       "                  max='42',\n",
       "                  style='width: 25%',\n",
       "              >\n",
       "                  42\n",
       "              </progress>\n",
       "\n",
       "    "
      ],
      "text/plain": [
       "<IPython.core.display.HTML object>"
      ]
     },
     "metadata": {},
     "output_type": "display_data"
    },
    {
     "name": "stdout",
     "output_type": "stream",
     "text": [
      "\n",
      "*** Feature extraction finished ***\n",
      "52\n",
      "Empty DataFrame\n",
      "Columns: [phone_accel_x_denoise, phone_accel_y_denoise, phone_accel_z_denoise, phone_gyro_x_denoise, phone_gyro_y_denoise, phone_gyro_z_denoise]\n",
      "Index: []\n",
      "False\n",
      "*** Feature extraction started ***\n",
      "Unexpected error, ignore it...\n",
      "         phone_accel_x_denoise  phone_accel_y_denoise  phone_accel_z_denoise  \\\n",
      "2784698                3.25403                6.12407                1.51844   \n",
      "\n",
      "         phone_gyro_x_denoise  phone_gyro_y_denoise  phone_gyro_z_denoise  \n",
      "2784698               0.84156               0.20098               -1.0191  \n",
      "False\n",
      "*** Feature extraction started ***\n"
     ]
    },
    {
     "data": {
      "text/html": [
       "\n",
       "              <p>\n",
       "                  Progress: 100% Complete\n",
       "              <p/>            \n",
       "              <progress\n",
       "                  value='3'\n",
       "                  max='3',\n",
       "                  style='width: 25%',\n",
       "              >\n",
       "                  3\n",
       "              </progress>\n",
       "\n",
       "    "
      ],
      "text/plain": [
       "<IPython.core.display.HTML object>"
      ]
     },
     "metadata": {},
     "output_type": "display_data"
    },
    {
     "name": "stdout",
     "output_type": "stream",
     "text": [
      "\n",
      "*** Feature extraction finished ***\n",
      "Empty DataFrame\n",
      "Columns: [phone_accel_x_denoise, phone_accel_y_denoise, phone_accel_z_denoise, phone_gyro_x_denoise, phone_gyro_y_denoise, phone_gyro_z_denoise]\n",
      "Index: []\n",
      "False\n",
      "*** Feature extraction started ***\n",
      "Unexpected error, ignore it...\n",
      "Empty DataFrame\n",
      "Columns: [phone_accel_x_denoise, phone_accel_y_denoise, phone_accel_z_denoise, phone_gyro_x_denoise, phone_gyro_y_denoise, phone_gyro_z_denoise]\n",
      "Index: []\n",
      "False\n",
      "*** Feature extraction started ***\n",
      "Unexpected error, ignore it...\n",
      "         phone_accel_x_denoise  phone_accel_y_denoise  phone_accel_z_denoise  \\\n",
      "2797613               -2.60738               -8.87435                0.02475   \n",
      "\n",
      "         phone_gyro_x_denoise  phone_gyro_y_denoise  phone_gyro_z_denoise  \n",
      "2797613              -0.11363              -0.26561              -0.05113  \n",
      "False\n",
      "*** Feature extraction started ***\n",
      "Unexpected error, ignore it...\n",
      "56\n",
      "         phone_accel_x_denoise  phone_accel_y_denoise  phone_accel_z_denoise  \\\n",
      "2800325                1.04347                -9.5796                0.66978   \n",
      "\n",
      "         phone_gyro_x_denoise  phone_gyro_y_denoise  phone_gyro_z_denoise  \n",
      "2800325               1.78219               0.18287               0.24146  \n",
      "False\n",
      "*** Feature extraction started ***\n"
     ]
    },
    {
     "data": {
      "text/html": [
       "\n",
       "              <p>\n",
       "                  Progress: 100% Complete\n",
       "              <p/>            \n",
       "              <progress\n",
       "                  value='42'\n",
       "                  max='42',\n",
       "                  style='width: 25%',\n",
       "              >\n",
       "                  42\n",
       "              </progress>\n",
       "\n",
       "    "
      ],
      "text/plain": [
       "<IPython.core.display.HTML object>"
      ]
     },
     "metadata": {},
     "output_type": "display_data"
    },
    {
     "name": "stdout",
     "output_type": "stream",
     "text": [
      "\n",
      "*** Feature extraction finished ***\n",
      "         phone_accel_x_denoise  phone_accel_y_denoise  phone_accel_z_denoise  \\\n",
      "2804836                1.02033              -15.41168               -3.02288   \n",
      "\n",
      "         phone_gyro_x_denoise  phone_gyro_y_denoise  phone_gyro_z_denoise  \n",
      "2804836              -3.57858              -0.45593              -3.78844  \n",
      "False\n",
      "*** Feature extraction started ***\n"
     ]
    },
    {
     "data": {
      "text/html": [
       "\n",
       "              <p>\n",
       "                  Progress: 100% Complete\n",
       "              <p/>            \n",
       "              <progress\n",
       "                  value='42'\n",
       "                  max='42',\n",
       "                  style='width: 25%',\n",
       "              >\n",
       "                  42\n",
       "              </progress>\n",
       "\n",
       "    "
      ],
      "text/plain": [
       "<IPython.core.display.HTML object>"
      ]
     },
     "metadata": {},
     "output_type": "display_data"
    },
    {
     "name": "stdout",
     "output_type": "stream",
     "text": [
      "\n",
      "*** Feature extraction finished ***\n",
      "         phone_accel_x_denoise  phone_accel_y_denoise  phone_accel_z_denoise  \\\n",
      "2809347               -2.20446              -13.27445               -0.40961   \n",
      "\n",
      "         phone_gyro_x_denoise  phone_gyro_y_denoise  phone_gyro_z_denoise  \n",
      "2809347              -0.49215               0.56175              -0.28372  \n",
      "False\n",
      "*** Feature extraction started ***\n"
     ]
    },
    {
     "data": {
      "text/html": [
       "\n",
       "              <p>\n",
       "                  Progress: 100% Complete\n",
       "              <p/>            \n",
       "              <progress\n",
       "                  value='42'\n",
       "                  max='42',\n",
       "                  style='width: 25%',\n",
       "              >\n",
       "                  42\n",
       "              </progress>\n",
       "\n",
       "    "
      ],
      "text/plain": [
       "<IPython.core.display.HTML object>"
      ]
     },
     "metadata": {},
     "output_type": "display_data"
    },
    {
     "name": "stdout",
     "output_type": "stream",
     "text": [
      "\n",
      "*** Feature extraction finished ***\n",
      "         phone_accel_x_denoise  phone_accel_y_denoise  phone_accel_z_denoise  \\\n",
      "2858969                5.46157               -9.93434               -1.26873   \n",
      "\n",
      "         phone_gyro_x_denoise  phone_gyro_y_denoise  phone_gyro_z_denoise  \n",
      "2858969              -0.55323               1.66146              -0.35296  \n",
      "False\n",
      "*** Feature extraction started ***\n"
     ]
    },
    {
     "data": {
      "text/html": [
       "\n",
       "              <p>\n",
       "                  Progress: 100% Complete\n",
       "              <p/>            \n",
       "              <progress\n",
       "                  value='42'\n",
       "                  max='42',\n",
       "                  style='width: 25%',\n",
       "              >\n",
       "                  42\n",
       "              </progress>\n",
       "\n",
       "    "
      ],
      "text/plain": [
       "<IPython.core.display.HTML object>"
      ]
     },
     "metadata": {},
     "output_type": "display_data"
    },
    {
     "name": "stdout",
     "output_type": "stream",
     "text": [
      "\n",
      "*** Feature extraction finished ***\n",
      "         phone_accel_x_denoise  phone_accel_y_denoise  phone_accel_z_denoise  \\\n",
      "2863479               -2.13982                -5.4937               -4.88078   \n",
      "\n",
      "         phone_gyro_x_denoise  phone_gyro_y_denoise  phone_gyro_z_denoise  \n",
      "2863479               0.62815              -0.50387              -0.14985  \n",
      "False\n",
      "*** Feature extraction started ***\n"
     ]
    },
    {
     "data": {
      "text/html": [
       "\n",
       "              <p>\n",
       "                  Progress: 100% Complete\n",
       "              <p/>            \n",
       "              <progress\n",
       "                  value='42'\n",
       "                  max='42',\n",
       "                  style='width: 25%',\n",
       "              >\n",
       "                  42\n",
       "              </progress>\n",
       "\n",
       "    "
      ],
      "text/plain": [
       "<IPython.core.display.HTML object>"
      ]
     },
     "metadata": {},
     "output_type": "display_data"
    },
    {
     "name": "stdout",
     "output_type": "stream",
     "text": [
      "\n",
      "*** Feature extraction finished ***\n",
      "56\n",
      "         phone_accel_x_denoise  phone_accel_y_denoise  phone_accel_z_denoise  \\\n",
      "2881524               -8.83363               -3.39853                0.97158   \n",
      "\n",
      "         phone_gyro_x_denoise  phone_gyro_y_denoise  phone_gyro_z_denoise  \n",
      "2881524              -0.82665              -0.59619              -0.05717  \n",
      "False\n",
      "*** Feature extraction started ***\n"
     ]
    },
    {
     "data": {
      "text/html": [
       "\n",
       "              <p>\n",
       "                  Progress: 100% Complete\n",
       "              <p/>            \n",
       "              <progress\n",
       "                  value='16'\n",
       "                  max='16',\n",
       "                  style='width: 25%',\n",
       "              >\n",
       "                  16\n",
       "              </progress>\n",
       "\n",
       "    "
      ],
      "text/plain": [
       "<IPython.core.display.HTML object>"
      ]
     },
     "metadata": {},
     "output_type": "display_data"
    },
    {
     "name": "stdout",
     "output_type": "stream",
     "text": [
      "\n",
      "*** Feature extraction finished ***\n",
      "         phone_accel_x_denoise  phone_accel_y_denoise  phone_accel_z_denoise  \\\n",
      "2883482               -0.06307               -7.48843                0.81511   \n",
      "\n",
      "         phone_gyro_x_denoise  phone_gyro_y_denoise  phone_gyro_z_denoise  \n",
      "2883482              -1.26269              -1.19558               1.79533  \n",
      "False\n",
      "*** Feature extraction started ***\n"
     ]
    },
    {
     "data": {
      "text/html": [
       "\n",
       "              <p>\n",
       "                  Progress: 100% Complete\n",
       "              <p/>            \n",
       "              <progress\n",
       "                  value='15'\n",
       "                  max='15',\n",
       "                  style='width: 25%',\n",
       "              >\n",
       "                  15\n",
       "              </progress>\n",
       "\n",
       "    "
      ],
      "text/plain": [
       "<IPython.core.display.HTML object>"
      ]
     },
     "metadata": {},
     "output_type": "display_data"
    },
    {
     "name": "stdout",
     "output_type": "stream",
     "text": [
      "\n",
      "*** Feature extraction finished ***\n",
      "         phone_accel_x_denoise  phone_accel_y_denoise  phone_accel_z_denoise  \\\n",
      "2885378              -11.35399               -3.76417               -3.34983   \n",
      "\n",
      "         phone_gyro_x_denoise  phone_gyro_y_denoise  phone_gyro_z_denoise  \n",
      "2885378                 0.049               0.09871              -0.08842  \n",
      "False\n",
      "*** Feature extraction started ***\n"
     ]
    },
    {
     "data": {
      "text/html": [
       "\n",
       "              <p>\n",
       "                  Progress: 100% Complete\n",
       "              <p/>            \n",
       "              <progress\n",
       "                  value='20'\n",
       "                  max='20',\n",
       "                  style='width: 25%',\n",
       "              >\n",
       "                  20\n",
       "              </progress>\n",
       "\n",
       "    "
      ],
      "text/plain": [
       "<IPython.core.display.HTML object>"
      ]
     },
     "metadata": {},
     "output_type": "display_data"
    },
    {
     "name": "stdout",
     "output_type": "stream",
     "text": [
      "\n",
      "*** Feature extraction finished ***\n",
      "         phone_accel_x_denoise  phone_accel_y_denoise  phone_accel_z_denoise  \\\n",
      "2899502               -2.62255               -8.55102                2.45569   \n",
      "\n",
      "         phone_gyro_x_denoise  phone_gyro_y_denoise  phone_gyro_z_denoise  \n",
      "2899502               0.10156               0.15801              -0.15269  \n",
      "False\n",
      "*** Feature extraction started ***\n"
     ]
    },
    {
     "data": {
      "text/html": [
       "\n",
       "              <p>\n",
       "                  Progress: 100% Complete\n",
       "              <p/>            \n",
       "              <progress\n",
       "                  value='16'\n",
       "                  max='16',\n",
       "                  style='width: 25%',\n",
       "              >\n",
       "                  16\n",
       "              </progress>\n",
       "\n",
       "    "
      ],
      "text/plain": [
       "<IPython.core.display.HTML object>"
      ]
     },
     "metadata": {},
     "output_type": "display_data"
    },
    {
     "name": "stdout",
     "output_type": "stream",
     "text": [
      "\n",
      "*** Feature extraction finished ***\n",
      "         phone_accel_x_denoise  phone_accel_y_denoise  phone_accel_z_denoise  \\\n",
      "2901500                 0.9117               -9.16973                 0.5285   \n",
      "\n",
      "         phone_gyro_x_denoise  phone_gyro_y_denoise  phone_gyro_z_denoise  \n",
      "2901500              -0.14204              -2.07478                0.2269  \n",
      "False\n",
      "*** Feature extraction started ***\n"
     ]
    },
    {
     "data": {
      "text/html": [
       "\n",
       "              <p>\n",
       "                  Progress: 100% Complete\n",
       "              <p/>            \n",
       "              <progress\n",
       "                  value='18'\n",
       "                  max='18',\n",
       "                  style='width: 25%',\n",
       "              >\n",
       "                  18\n",
       "              </progress>\n",
       "\n",
       "    "
      ],
      "text/plain": [
       "<IPython.core.display.HTML object>"
      ]
     },
     "metadata": {},
     "output_type": "display_data"
    },
    {
     "name": "stdout",
     "output_type": "stream",
     "text": [
      "\n",
      "*** Feature extraction finished ***\n",
      "56\n"
     ]
    }
   ],
   "source": [
    "phone_data_feature_extracted = feature_extraction(phone_data_denoised)"
   ]
  },
  {
   "cell_type": "code",
   "execution_count": 87,
   "metadata": {},
   "outputs": [
    {
     "data": {
      "text/plain": [
       "(8188, 1412)"
      ]
     },
     "execution_count": 87,
     "metadata": {},
     "output_type": "execute_result"
    }
   ],
   "source": [
    "phone_data_feature_extracted.shape"
   ]
  },
  {
   "cell_type": "code",
   "execution_count": 88,
   "metadata": {},
   "outputs": [
    {
     "data": {
      "text/plain": [
       "0"
      ]
     },
     "execution_count": 88,
     "metadata": {},
     "output_type": "execute_result"
    }
   ],
   "source": [
    "# check if there is any Null value generated\n",
    "phone_data_feature_extracted.isnull().any(axis=1).sum()"
   ]
  },
  {
   "cell_type": "code",
   "execution_count": 89,
   "metadata": {},
   "outputs": [],
   "source": [
    "#write the data into a csv file\n",
    "phone_data_feature_extracted.to_csv('phone_data_feature_extracted.csv')"
   ]
  },
  {
   "cell_type": "code",
   "execution_count": 90,
   "metadata": {
    "scrolled": true
   },
   "outputs": [
    {
     "data": {
      "text/html": [
       "<div>\n",
       "<style scoped>\n",
       "    .dataframe tbody tr th:only-of-type {\n",
       "        vertical-align: middle;\n",
       "    }\n",
       "\n",
       "    .dataframe tbody tr th {\n",
       "        vertical-align: top;\n",
       "    }\n",
       "\n",
       "    .dataframe thead th {\n",
       "        text-align: right;\n",
       "    }\n",
       "</style>\n",
       "<table border=\"1\" class=\"dataframe\">\n",
       "  <thead>\n",
       "    <tr style=\"text-align: right;\">\n",
       "      <th></th>\n",
       "      <th>0_Absolute energy</th>\n",
       "      <th>0_Area under the curve</th>\n",
       "      <th>0_Autocorrelation</th>\n",
       "      <th>0_Centroid</th>\n",
       "      <th>0_ECDF Percentile Count_0</th>\n",
       "      <th>0_ECDF Percentile Count_1</th>\n",
       "      <th>0_ECDF Percentile_0</th>\n",
       "      <th>0_ECDF Percentile_1</th>\n",
       "      <th>0_ECDF Slope</th>\n",
       "      <th>0_ECDF_0</th>\n",
       "      <th>...</th>\n",
       "      <th>5_Wavelet variance_2</th>\n",
       "      <th>5_Wavelet variance_3</th>\n",
       "      <th>5_Wavelet variance_4</th>\n",
       "      <th>5_Wavelet variance_5</th>\n",
       "      <th>5_Wavelet variance_6</th>\n",
       "      <th>5_Wavelet variance_7</th>\n",
       "      <th>5_Wavelet variance_8</th>\n",
       "      <th>5_Zero crossing rate</th>\n",
       "      <th>activity</th>\n",
       "      <th>subjectID</th>\n",
       "    </tr>\n",
       "  </thead>\n",
       "  <tbody>\n",
       "    <tr>\n",
       "      <th>0</th>\n",
       "      <td>721.864333</td>\n",
       "      <td>14.700707</td>\n",
       "      <td>721.864333</td>\n",
       "      <td>5.303055</td>\n",
       "      <td>40.0</td>\n",
       "      <td>160.0</td>\n",
       "      <td>-2.58707</td>\n",
       "      <td>-0.16534</td>\n",
       "      <td>0.234881</td>\n",
       "      <td>0.005</td>\n",
       "      <td>...</td>\n",
       "      <td>0.193725</td>\n",
       "      <td>0.352641</td>\n",
       "      <td>0.434174</td>\n",
       "      <td>0.367005</td>\n",
       "      <td>0.229206</td>\n",
       "      <td>0.114474</td>\n",
       "      <td>0.052758</td>\n",
       "      <td>60.0</td>\n",
       "      <td>A</td>\n",
       "      <td>1600</td>\n",
       "    </tr>\n",
       "    <tr>\n",
       "      <th>1</th>\n",
       "      <td>793.235574</td>\n",
       "      <td>15.443177</td>\n",
       "      <td>793.235574</td>\n",
       "      <td>4.733788</td>\n",
       "      <td>40.0</td>\n",
       "      <td>160.0</td>\n",
       "      <td>-2.65057</td>\n",
       "      <td>-0.16534</td>\n",
       "      <td>0.215888</td>\n",
       "      <td>0.005</td>\n",
       "      <td>...</td>\n",
       "      <td>0.163619</td>\n",
       "      <td>0.280563</td>\n",
       "      <td>0.341983</td>\n",
       "      <td>0.291145</td>\n",
       "      <td>0.186457</td>\n",
       "      <td>0.098539</td>\n",
       "      <td>0.050883</td>\n",
       "      <td>56.0</td>\n",
       "      <td>A</td>\n",
       "      <td>1600</td>\n",
       "    </tr>\n",
       "    <tr>\n",
       "      <th>2</th>\n",
       "      <td>809.080466</td>\n",
       "      <td>16.010308</td>\n",
       "      <td>809.080466</td>\n",
       "      <td>5.171132</td>\n",
       "      <td>40.0</td>\n",
       "      <td>160.0</td>\n",
       "      <td>-2.71681</td>\n",
       "      <td>-0.29899</td>\n",
       "      <td>0.277288</td>\n",
       "      <td>0.005</td>\n",
       "      <td>...</td>\n",
       "      <td>0.144108</td>\n",
       "      <td>0.237366</td>\n",
       "      <td>0.289026</td>\n",
       "      <td>0.249700</td>\n",
       "      <td>0.165845</td>\n",
       "      <td>0.094759</td>\n",
       "      <td>0.055730</td>\n",
       "      <td>56.0</td>\n",
       "      <td>A</td>\n",
       "      <td>1600</td>\n",
       "    </tr>\n",
       "    <tr>\n",
       "      <th>3</th>\n",
       "      <td>896.333227</td>\n",
       "      <td>17.027549</td>\n",
       "      <td>896.333227</td>\n",
       "      <td>4.917758</td>\n",
       "      <td>40.0</td>\n",
       "      <td>160.0</td>\n",
       "      <td>-2.83038</td>\n",
       "      <td>-0.42170</td>\n",
       "      <td>0.233226</td>\n",
       "      <td>0.005</td>\n",
       "      <td>...</td>\n",
       "      <td>0.151301</td>\n",
       "      <td>0.266094</td>\n",
       "      <td>0.332979</td>\n",
       "      <td>0.290483</td>\n",
       "      <td>0.192240</td>\n",
       "      <td>0.107253</td>\n",
       "      <td>0.059908</td>\n",
       "      <td>60.0</td>\n",
       "      <td>A</td>\n",
       "      <td>1600</td>\n",
       "    </tr>\n",
       "    <tr>\n",
       "      <th>4</th>\n",
       "      <td>898.825978</td>\n",
       "      <td>17.362586</td>\n",
       "      <td>898.825978</td>\n",
       "      <td>4.701472</td>\n",
       "      <td>40.0</td>\n",
       "      <td>160.0</td>\n",
       "      <td>-2.80038</td>\n",
       "      <td>-0.45198</td>\n",
       "      <td>0.206099</td>\n",
       "      <td>0.005</td>\n",
       "      <td>...</td>\n",
       "      <td>0.152974</td>\n",
       "      <td>0.271872</td>\n",
       "      <td>0.339562</td>\n",
       "      <td>0.295751</td>\n",
       "      <td>0.195821</td>\n",
       "      <td>0.109489</td>\n",
       "      <td>0.059936</td>\n",
       "      <td>60.0</td>\n",
       "      <td>A</td>\n",
       "      <td>1600</td>\n",
       "    </tr>\n",
       "  </tbody>\n",
       "</table>\n",
       "<p>5 rows × 1412 columns</p>\n",
       "</div>"
      ],
      "text/plain": [
       "   0_Absolute energy  0_Area under the curve  0_Autocorrelation  0_Centroid  \\\n",
       "0         721.864333               14.700707         721.864333    5.303055   \n",
       "1         793.235574               15.443177         793.235574    4.733788   \n",
       "2         809.080466               16.010308         809.080466    5.171132   \n",
       "3         896.333227               17.027549         896.333227    4.917758   \n",
       "4         898.825978               17.362586         898.825978    4.701472   \n",
       "\n",
       "   0_ECDF Percentile Count_0  0_ECDF Percentile Count_1  0_ECDF Percentile_0  \\\n",
       "0                       40.0                      160.0             -2.58707   \n",
       "1                       40.0                      160.0             -2.65057   \n",
       "2                       40.0                      160.0             -2.71681   \n",
       "3                       40.0                      160.0             -2.83038   \n",
       "4                       40.0                      160.0             -2.80038   \n",
       "\n",
       "   0_ECDF Percentile_1  0_ECDF Slope  0_ECDF_0  ...  5_Wavelet variance_2  \\\n",
       "0             -0.16534      0.234881     0.005  ...              0.193725   \n",
       "1             -0.16534      0.215888     0.005  ...              0.163619   \n",
       "2             -0.29899      0.277288     0.005  ...              0.144108   \n",
       "3             -0.42170      0.233226     0.005  ...              0.151301   \n",
       "4             -0.45198      0.206099     0.005  ...              0.152974   \n",
       "\n",
       "   5_Wavelet variance_3  5_Wavelet variance_4  5_Wavelet variance_5  \\\n",
       "0              0.352641              0.434174              0.367005   \n",
       "1              0.280563              0.341983              0.291145   \n",
       "2              0.237366              0.289026              0.249700   \n",
       "3              0.266094              0.332979              0.290483   \n",
       "4              0.271872              0.339562              0.295751   \n",
       "\n",
       "   5_Wavelet variance_6  5_Wavelet variance_7  5_Wavelet variance_8  \\\n",
       "0              0.229206              0.114474              0.052758   \n",
       "1              0.186457              0.098539              0.050883   \n",
       "2              0.165845              0.094759              0.055730   \n",
       "3              0.192240              0.107253              0.059908   \n",
       "4              0.195821              0.109489              0.059936   \n",
       "\n",
       "   5_Zero crossing rate  activity  subjectID  \n",
       "0                  60.0         A       1600  \n",
       "1                  56.0         A       1600  \n",
       "2                  56.0         A       1600  \n",
       "3                  60.0         A       1600  \n",
       "4                  60.0         A       1600  \n",
       "\n",
       "[5 rows x 1412 columns]"
      ]
     },
     "execution_count": 90,
     "metadata": {},
     "output_type": "execute_result"
    }
   ],
   "source": [
    "phone_data_feature_extracted.head()"
   ]
  },
  {
   "cell_type": "markdown",
   "metadata": {},
   "source": [
    "### Step 5: Feature selection according to previous publications\n",
    "Here I used two methods to do the feature selection:\n",
    "1. Select features according to previous publications\n",
    "2. Use PCA to reduce the dimension of features"
   ]
  },
  {
   "cell_type": "markdown",
   "metadata": {},
   "source": [
    "### Method 1: Select features according to previous publications"
   ]
  },
  {
   "cell_type": "code",
   "execution_count": 55,
   "metadata": {},
   "outputs": [],
   "source": [
    "#define a function to select features\n",
    "def select_features(data):\n",
    "\n",
    "    # get activity list\n",
    "    activities = data['activity'].unique()\n",
    "    input_file_feature_sel = pd.DataFrame([])\n",
    "    \n",
    "    #select features\n",
    "    features = ['Interquartile range', 'Kurtosis', 'Max', 'Mean', 'Mean absolute deviation', 'Median', 'Median absolute deviation',\\\n",
    "                'Min', 'Root mean square', 'Skewness', 'Standard deviation', 'Variance', 'Mean absolute diff',\\\n",
    "                'Mean diff', 'Signal distance', 'Sum absolute diff', 'Total energy', 'Slope', 'Absolute energy',\\\n",
    "                'Peak to peak distance', 'Entropy']\n",
    "    prefixes = ['0_', '1_', '2_', '3_', '4_', '5_']\n",
    "    new_feature_list = []\n",
    "    for p in prefixes:\n",
    "        new_feature = [p + f for f in features]\n",
    "        new_feature_list = new_feature_list + new_feature\n",
    "        \n",
    "    data_sub = data[new_feature_list + ['activity', 'subjectID']]\n",
    "    \n",
    "    return data_sub"
   ]
  },
  {
   "cell_type": "code",
   "execution_count": 52,
   "metadata": {},
   "outputs": [],
   "source": [
    "os.chdir('C:\\\\Users\\\\tongx\\\\Desktop\\\\CMKE136')\n",
    "phone_data_feature_extracted = pd.read_csv(\"phone_data_feature_extracted.csv\")"
   ]
  },
  {
   "cell_type": "code",
   "execution_count": 56,
   "metadata": {
    "scrolled": false
   },
   "outputs": [
    {
     "data": {
      "text/html": [
       "<div>\n",
       "<style scoped>\n",
       "    .dataframe tbody tr th:only-of-type {\n",
       "        vertical-align: middle;\n",
       "    }\n",
       "\n",
       "    .dataframe tbody tr th {\n",
       "        vertical-align: top;\n",
       "    }\n",
       "\n",
       "    .dataframe thead th {\n",
       "        text-align: right;\n",
       "    }\n",
       "</style>\n",
       "<table border=\"1\" class=\"dataframe\">\n",
       "  <thead>\n",
       "    <tr style=\"text-align: right;\">\n",
       "      <th></th>\n",
       "      <th>0_Interquartile range</th>\n",
       "      <th>0_Kurtosis</th>\n",
       "      <th>0_Max</th>\n",
       "      <th>0_Mean</th>\n",
       "      <th>0_Mean absolute deviation</th>\n",
       "      <th>0_Median</th>\n",
       "      <th>0_Median absolute deviation</th>\n",
       "      <th>0_Min</th>\n",
       "      <th>0_Root mean square</th>\n",
       "      <th>0_Skewness</th>\n",
       "      <th>...</th>\n",
       "      <th>5_Mean diff</th>\n",
       "      <th>5_Signal distance</th>\n",
       "      <th>5_Sum absolute diff</th>\n",
       "      <th>5_Total energy</th>\n",
       "      <th>5_Slope</th>\n",
       "      <th>5_Absolute energy</th>\n",
       "      <th>5_Peak to peak distance</th>\n",
       "      <th>5_Entropy</th>\n",
       "      <th>activity</th>\n",
       "      <th>subjectID</th>\n",
       "    </tr>\n",
       "  </thead>\n",
       "  <tbody>\n",
       "    <tr>\n",
       "      <th>0</th>\n",
       "      <td>1.942422</td>\n",
       "      <td>-0.449912</td>\n",
       "      <td>1.64871</td>\n",
       "      <td>-1.436276</td>\n",
       "      <td>1.025996</td>\n",
       "      <td>-1.425830</td>\n",
       "      <td>0.965335</td>\n",
       "      <td>-5.15064</td>\n",
       "      <td>1.899821</td>\n",
       "      <td>-0.226015</td>\n",
       "      <td>...</td>\n",
       "      <td>-0.000788</td>\n",
       "      <td>204.687091</td>\n",
       "      <td>41.89655</td>\n",
       "      <td>2.036635</td>\n",
       "      <td>-0.000146</td>\n",
       "      <td>20.264522</td>\n",
       "      <td>1.43924</td>\n",
       "      <td>0.998692</td>\n",
       "      <td>A</td>\n",
       "      <td>1600</td>\n",
       "    </tr>\n",
       "    <tr>\n",
       "      <th>1</th>\n",
       "      <td>2.114133</td>\n",
       "      <td>-0.585650</td>\n",
       "      <td>1.64871</td>\n",
       "      <td>-1.494783</td>\n",
       "      <td>1.097896</td>\n",
       "      <td>-1.490650</td>\n",
       "      <td>1.065980</td>\n",
       "      <td>-5.15064</td>\n",
       "      <td>1.991527</td>\n",
       "      <td>-0.182178</td>\n",
       "      <td>...</td>\n",
       "      <td>0.000183</td>\n",
       "      <td>204.153376</td>\n",
       "      <td>39.71956</td>\n",
       "      <td>1.785986</td>\n",
       "      <td>-0.000021</td>\n",
       "      <td>17.770560</td>\n",
       "      <td>1.43924</td>\n",
       "      <td>0.998692</td>\n",
       "      <td>A</td>\n",
       "      <td>1600</td>\n",
       "    </tr>\n",
       "    <tr>\n",
       "      <th>2</th>\n",
       "      <td>1.831305</td>\n",
       "      <td>-0.586468</td>\n",
       "      <td>0.78958</td>\n",
       "      <td>-1.562340</td>\n",
       "      <td>1.042443</td>\n",
       "      <td>-1.527735</td>\n",
       "      <td>0.931190</td>\n",
       "      <td>-4.83969</td>\n",
       "      <td>2.011319</td>\n",
       "      <td>-0.196516</td>\n",
       "      <td>...</td>\n",
       "      <td>-0.001029</td>\n",
       "      <td>204.018606</td>\n",
       "      <td>39.08071</td>\n",
       "      <td>1.670846</td>\n",
       "      <td>-0.000155</td>\n",
       "      <td>16.624922</td>\n",
       "      <td>1.35269</td>\n",
       "      <td>1.000000</td>\n",
       "      <td>A</td>\n",
       "      <td>1600</td>\n",
       "    </tr>\n",
       "    <tr>\n",
       "      <th>3</th>\n",
       "      <td>1.935017</td>\n",
       "      <td>-0.659032</td>\n",
       "      <td>0.78958</td>\n",
       "      <td>-1.685461</td>\n",
       "      <td>1.072248</td>\n",
       "      <td>-1.724830</td>\n",
       "      <td>1.016390</td>\n",
       "      <td>-4.71713</td>\n",
       "      <td>2.116995</td>\n",
       "      <td>-0.238509</td>\n",
       "      <td>...</td>\n",
       "      <td>-0.002351</td>\n",
       "      <td>204.534014</td>\n",
       "      <td>40.86049</td>\n",
       "      <td>1.851725</td>\n",
       "      <td>-0.000306</td>\n",
       "      <td>18.424662</td>\n",
       "      <td>1.39210</td>\n",
       "      <td>1.000000</td>\n",
       "      <td>A</td>\n",
       "      <td>1600</td>\n",
       "    </tr>\n",
       "    <tr>\n",
       "      <th>4</th>\n",
       "      <td>1.883098</td>\n",
       "      <td>-0.777475</td>\n",
       "      <td>0.53603</td>\n",
       "      <td>-1.738640</td>\n",
       "      <td>1.027607</td>\n",
       "      <td>-1.891645</td>\n",
       "      <td>0.989585</td>\n",
       "      <td>-4.71713</td>\n",
       "      <td>2.119936</td>\n",
       "      <td>-0.182401</td>\n",
       "      <td>...</td>\n",
       "      <td>-0.000851</td>\n",
       "      <td>204.016672</td>\n",
       "      <td>38.43956</td>\n",
       "      <td>1.736897</td>\n",
       "      <td>0.000037</td>\n",
       "      <td>17.282122</td>\n",
       "      <td>1.28540</td>\n",
       "      <td>1.000000</td>\n",
       "      <td>A</td>\n",
       "      <td>1600</td>\n",
       "    </tr>\n",
       "  </tbody>\n",
       "</table>\n",
       "<p>5 rows × 128 columns</p>\n",
       "</div>"
      ],
      "text/plain": [
       "   0_Interquartile range  0_Kurtosis    0_Max    0_Mean  \\\n",
       "0               1.942422   -0.449912  1.64871 -1.436276   \n",
       "1               2.114133   -0.585650  1.64871 -1.494783   \n",
       "2               1.831305   -0.586468  0.78958 -1.562340   \n",
       "3               1.935017   -0.659032  0.78958 -1.685461   \n",
       "4               1.883098   -0.777475  0.53603 -1.738640   \n",
       "\n",
       "   0_Mean absolute deviation  0_Median  0_Median absolute deviation    0_Min  \\\n",
       "0                   1.025996 -1.425830                     0.965335 -5.15064   \n",
       "1                   1.097896 -1.490650                     1.065980 -5.15064   \n",
       "2                   1.042443 -1.527735                     0.931190 -4.83969   \n",
       "3                   1.072248 -1.724830                     1.016390 -4.71713   \n",
       "4                   1.027607 -1.891645                     0.989585 -4.71713   \n",
       "\n",
       "   0_Root mean square  0_Skewness  ...  5_Mean diff  5_Signal distance  \\\n",
       "0            1.899821   -0.226015  ...    -0.000788         204.687091   \n",
       "1            1.991527   -0.182178  ...     0.000183         204.153376   \n",
       "2            2.011319   -0.196516  ...    -0.001029         204.018606   \n",
       "3            2.116995   -0.238509  ...    -0.002351         204.534014   \n",
       "4            2.119936   -0.182401  ...    -0.000851         204.016672   \n",
       "\n",
       "   5_Sum absolute diff  5_Total energy   5_Slope  5_Absolute energy  \\\n",
       "0             41.89655        2.036635 -0.000146          20.264522   \n",
       "1             39.71956        1.785986 -0.000021          17.770560   \n",
       "2             39.08071        1.670846 -0.000155          16.624922   \n",
       "3             40.86049        1.851725 -0.000306          18.424662   \n",
       "4             38.43956        1.736897  0.000037          17.282122   \n",
       "\n",
       "   5_Peak to peak distance  5_Entropy  activity  subjectID  \n",
       "0                  1.43924   0.998692         A       1600  \n",
       "1                  1.43924   0.998692         A       1600  \n",
       "2                  1.35269   1.000000         A       1600  \n",
       "3                  1.39210   1.000000         A       1600  \n",
       "4                  1.28540   1.000000         A       1600  \n",
       "\n",
       "[5 rows x 128 columns]"
      ]
     },
     "execution_count": 56,
     "metadata": {},
     "output_type": "execute_result"
    }
   ],
   "source": [
    "phone_data_feature_selected = select_features(phone_data_feature_extracted)\n",
    "phone_data_feature_selected.head()"
   ]
  },
  {
   "cell_type": "code",
   "execution_count": 57,
   "metadata": {},
   "outputs": [
    {
     "data": {
      "text/plain": [
       "(8188, 128)"
      ]
     },
     "execution_count": 57,
     "metadata": {},
     "output_type": "execute_result"
    }
   ],
   "source": [
    "phone_data_feature_selected.shape"
   ]
  },
  {
   "cell_type": "code",
   "execution_count": 58,
   "metadata": {
    "scrolled": true
   },
   "outputs": [
    {
     "data": {
      "text/plain": [
       "(160, 128)"
      ]
     },
     "execution_count": 58,
     "metadata": {},
     "output_type": "execute_result"
    }
   ],
   "source": [
    "#check the features for one subject\n",
    "phone_data_feature_selected[phone_data_feature_selected['subjectID'] == 1600].shape"
   ]
  },
  {
   "cell_type": "code",
   "execution_count": 59,
   "metadata": {},
   "outputs": [],
   "source": [
    "phone_data_feature_selected.to_csv('phone_data_feature_selected.csv')"
   ]
  },
  {
   "cell_type": "code",
   "execution_count": 94,
   "metadata": {},
   "outputs": [
    {
     "data": {
      "text/html": [
       "<div>\n",
       "<style scoped>\n",
       "    .dataframe tbody tr th:only-of-type {\n",
       "        vertical-align: middle;\n",
       "    }\n",
       "\n",
       "    .dataframe tbody tr th {\n",
       "        vertical-align: top;\n",
       "    }\n",
       "\n",
       "    .dataframe thead th {\n",
       "        text-align: right;\n",
       "    }\n",
       "</style>\n",
       "<table border=\"1\" class=\"dataframe\">\n",
       "  <thead>\n",
       "    <tr style=\"text-align: right;\">\n",
       "      <th></th>\n",
       "      <th>0_Interquartile range</th>\n",
       "      <th>0_Kurtosis</th>\n",
       "      <th>0_Max</th>\n",
       "      <th>0_Mean</th>\n",
       "      <th>0_Mean absolute deviation</th>\n",
       "      <th>0_Median</th>\n",
       "      <th>0_Median absolute deviation</th>\n",
       "      <th>0_Min</th>\n",
       "      <th>0_Root mean square</th>\n",
       "      <th>0_Skewness</th>\n",
       "      <th>...</th>\n",
       "      <th>5_Mean diff</th>\n",
       "      <th>5_Signal distance</th>\n",
       "      <th>5_Sum absolute diff</th>\n",
       "      <th>5_Total energy</th>\n",
       "      <th>5_Slope</th>\n",
       "      <th>5_Absolute energy</th>\n",
       "      <th>5_Peak to peak distance</th>\n",
       "      <th>5_Entropy</th>\n",
       "      <th>activity</th>\n",
       "      <th>subjectID</th>\n",
       "    </tr>\n",
       "  </thead>\n",
       "  <tbody>\n",
       "    <tr>\n",
       "      <th>0</th>\n",
       "      <td>1.942422</td>\n",
       "      <td>-0.449912</td>\n",
       "      <td>1.64871</td>\n",
       "      <td>-1.436276</td>\n",
       "      <td>1.025996</td>\n",
       "      <td>-1.425830</td>\n",
       "      <td>0.965335</td>\n",
       "      <td>-5.15064</td>\n",
       "      <td>1.899821</td>\n",
       "      <td>-0.226015</td>\n",
       "      <td>...</td>\n",
       "      <td>-0.000788</td>\n",
       "      <td>204.687091</td>\n",
       "      <td>41.89655</td>\n",
       "      <td>2.036635</td>\n",
       "      <td>-0.000146</td>\n",
       "      <td>20.264522</td>\n",
       "      <td>1.43924</td>\n",
       "      <td>0.998692</td>\n",
       "      <td>A</td>\n",
       "      <td>1600</td>\n",
       "    </tr>\n",
       "    <tr>\n",
       "      <th>1</th>\n",
       "      <td>2.114133</td>\n",
       "      <td>-0.585650</td>\n",
       "      <td>1.64871</td>\n",
       "      <td>-1.494783</td>\n",
       "      <td>1.097896</td>\n",
       "      <td>-1.490650</td>\n",
       "      <td>1.065980</td>\n",
       "      <td>-5.15064</td>\n",
       "      <td>1.991527</td>\n",
       "      <td>-0.182178</td>\n",
       "      <td>...</td>\n",
       "      <td>0.000183</td>\n",
       "      <td>204.153376</td>\n",
       "      <td>39.71956</td>\n",
       "      <td>1.785986</td>\n",
       "      <td>-0.000021</td>\n",
       "      <td>17.770560</td>\n",
       "      <td>1.43924</td>\n",
       "      <td>0.998692</td>\n",
       "      <td>A</td>\n",
       "      <td>1600</td>\n",
       "    </tr>\n",
       "    <tr>\n",
       "      <th>2</th>\n",
       "      <td>1.831305</td>\n",
       "      <td>-0.586468</td>\n",
       "      <td>0.78958</td>\n",
       "      <td>-1.562340</td>\n",
       "      <td>1.042443</td>\n",
       "      <td>-1.527735</td>\n",
       "      <td>0.931190</td>\n",
       "      <td>-4.83969</td>\n",
       "      <td>2.011319</td>\n",
       "      <td>-0.196516</td>\n",
       "      <td>...</td>\n",
       "      <td>-0.001029</td>\n",
       "      <td>204.018606</td>\n",
       "      <td>39.08071</td>\n",
       "      <td>1.670846</td>\n",
       "      <td>-0.000155</td>\n",
       "      <td>16.624922</td>\n",
       "      <td>1.35269</td>\n",
       "      <td>1.000000</td>\n",
       "      <td>A</td>\n",
       "      <td>1600</td>\n",
       "    </tr>\n",
       "    <tr>\n",
       "      <th>3</th>\n",
       "      <td>1.935017</td>\n",
       "      <td>-0.659032</td>\n",
       "      <td>0.78958</td>\n",
       "      <td>-1.685461</td>\n",
       "      <td>1.072248</td>\n",
       "      <td>-1.724830</td>\n",
       "      <td>1.016390</td>\n",
       "      <td>-4.71713</td>\n",
       "      <td>2.116995</td>\n",
       "      <td>-0.238509</td>\n",
       "      <td>...</td>\n",
       "      <td>-0.002351</td>\n",
       "      <td>204.534014</td>\n",
       "      <td>40.86049</td>\n",
       "      <td>1.851725</td>\n",
       "      <td>-0.000306</td>\n",
       "      <td>18.424662</td>\n",
       "      <td>1.39210</td>\n",
       "      <td>1.000000</td>\n",
       "      <td>A</td>\n",
       "      <td>1600</td>\n",
       "    </tr>\n",
       "    <tr>\n",
       "      <th>4</th>\n",
       "      <td>1.883098</td>\n",
       "      <td>-0.777475</td>\n",
       "      <td>0.53603</td>\n",
       "      <td>-1.738640</td>\n",
       "      <td>1.027607</td>\n",
       "      <td>-1.891645</td>\n",
       "      <td>0.989585</td>\n",
       "      <td>-4.71713</td>\n",
       "      <td>2.119936</td>\n",
       "      <td>-0.182401</td>\n",
       "      <td>...</td>\n",
       "      <td>-0.000851</td>\n",
       "      <td>204.016672</td>\n",
       "      <td>38.43956</td>\n",
       "      <td>1.736897</td>\n",
       "      <td>0.000037</td>\n",
       "      <td>17.282122</td>\n",
       "      <td>1.28540</td>\n",
       "      <td>1.000000</td>\n",
       "      <td>A</td>\n",
       "      <td>1600</td>\n",
       "    </tr>\n",
       "  </tbody>\n",
       "</table>\n",
       "<p>5 rows × 128 columns</p>\n",
       "</div>"
      ],
      "text/plain": [
       "   0_Interquartile range  0_Kurtosis    0_Max    0_Mean  \\\n",
       "0               1.942422   -0.449912  1.64871 -1.436276   \n",
       "1               2.114133   -0.585650  1.64871 -1.494783   \n",
       "2               1.831305   -0.586468  0.78958 -1.562340   \n",
       "3               1.935017   -0.659032  0.78958 -1.685461   \n",
       "4               1.883098   -0.777475  0.53603 -1.738640   \n",
       "\n",
       "   0_Mean absolute deviation  0_Median  0_Median absolute deviation    0_Min  \\\n",
       "0                   1.025996 -1.425830                     0.965335 -5.15064   \n",
       "1                   1.097896 -1.490650                     1.065980 -5.15064   \n",
       "2                   1.042443 -1.527735                     0.931190 -4.83969   \n",
       "3                   1.072248 -1.724830                     1.016390 -4.71713   \n",
       "4                   1.027607 -1.891645                     0.989585 -4.71713   \n",
       "\n",
       "   0_Root mean square  0_Skewness  ...  5_Mean diff  5_Signal distance  \\\n",
       "0            1.899821   -0.226015  ...    -0.000788         204.687091   \n",
       "1            1.991527   -0.182178  ...     0.000183         204.153376   \n",
       "2            2.011319   -0.196516  ...    -0.001029         204.018606   \n",
       "3            2.116995   -0.238509  ...    -0.002351         204.534014   \n",
       "4            2.119936   -0.182401  ...    -0.000851         204.016672   \n",
       "\n",
       "   5_Sum absolute diff  5_Total energy   5_Slope  5_Absolute energy  \\\n",
       "0             41.89655        2.036635 -0.000146          20.264522   \n",
       "1             39.71956        1.785986 -0.000021          17.770560   \n",
       "2             39.08071        1.670846 -0.000155          16.624922   \n",
       "3             40.86049        1.851725 -0.000306          18.424662   \n",
       "4             38.43956        1.736897  0.000037          17.282122   \n",
       "\n",
       "   5_Peak to peak distance  5_Entropy  activity  subjectID  \n",
       "0                  1.43924   0.998692         A       1600  \n",
       "1                  1.43924   0.998692         A       1600  \n",
       "2                  1.35269   1.000000         A       1600  \n",
       "3                  1.39210   1.000000         A       1600  \n",
       "4                  1.28540   1.000000         A       1600  \n",
       "\n",
       "[5 rows x 128 columns]"
      ]
     },
     "execution_count": 94,
     "metadata": {},
     "output_type": "execute_result"
    }
   ],
   "source": [
    "phone_data_feature_selected.head()"
   ]
  },
  {
   "cell_type": "markdown",
   "metadata": {},
   "source": [
    "### Method 2: Use PCA to reduce the dimension of features"
   ]
  },
  {
   "cell_type": "code",
   "execution_count": 150,
   "metadata": {},
   "outputs": [],
   "source": [
    "# define a function to remove NAN, infinity values as they won't be transformed\n",
    "def clean_dataset(df):\n",
    "    assert isinstance(df, pd.DataFrame), \"df needs to be a pd.DataFrame\"\n",
    "    df_woLabel = df.drop(['activity', 'subjectID'], axis = 1)\n",
    "    df_label = df[['activity', 'subjectID']]\n",
    "    df_woLabel.dropna(inplace=True)\n",
    "    indices_to_keep = ~df_woLabel.isin([np.nan, np.inf, -np.inf]).any(1)\n",
    "    df_woLabel = df_woLabel[indices_to_keep].astype(np.float64)\n",
    "    df_label = df_label[indices_to_keep]\n",
    "    \n",
    "    #df_cleaned = pd.concat([df_woLabel,df_label], axis =1 )\n",
    "    \n",
    "    return df_woLabel, df_label"
   ]
  },
  {
   "cell_type": "code",
   "execution_count": 151,
   "metadata": {},
   "outputs": [
    {
     "name": "stdout",
     "output_type": "stream",
     "text": [
      "(8188, 1413)\n"
     ]
    },
    {
     "data": {
      "text/plain": [
       "(8187, 1411)"
      ]
     },
     "execution_count": 151,
     "metadata": {},
     "output_type": "execute_result"
    }
   ],
   "source": [
    "#phone_data_feature_extracted_1 = phone_data_feature_extracted.drop(['activity', 'subjectID'], axis = 1)\n",
    "print(phone_data_feature_extracted.shape)\n",
    "phone_data_feature_extracted_cleaned, phone_data_feature_extracted_label = clean_dataset(phone_data_feature_extracted)\n",
    "phone_data_feature_extracted_cleaned.shape"
   ]
  },
  {
   "cell_type": "code",
   "execution_count": 152,
   "metadata": {
    "scrolled": false
   },
   "outputs": [
    {
     "data": {
      "text/plain": [
       "Unnamed: 0                True\n",
       "0_Absolute energy         True\n",
       "0_Area under the curve    True\n",
       "0_Autocorrelation         True\n",
       "0_Centroid                True\n",
       "                          ... \n",
       "5_Wavelet variance_5      True\n",
       "5_Wavelet variance_6      True\n",
       "5_Wavelet variance_7      True\n",
       "5_Wavelet variance_8      True\n",
       "5_Zero crossing rate      True\n",
       "Length: 1411, dtype: bool"
      ]
     },
     "execution_count": 152,
     "metadata": {},
     "output_type": "execute_result"
    }
   ],
   "source": [
    "np.isfinite(phone_data_feature_extracted_cleaned.all())"
   ]
  },
  {
   "cell_type": "code",
   "execution_count": 153,
   "metadata": {},
   "outputs": [],
   "source": [
    "# perform feature transformation for PCA\n",
    "scaler = preprocessing.MinMaxScaler()\n",
    "scaled_data = scaler.fit_transform(phone_data_feature_extracted_cleaned)\n",
    "scaled_data = pd.DataFrame(data=scaled_data, columns = phone_data_feature_extracted_cleaned.columns)"
   ]
  },
  {
   "cell_type": "code",
   "execution_count": 154,
   "metadata": {},
   "outputs": [],
   "source": [
    "# Apply PCA to the data.\n",
    "pca = PCA()\n",
    "principalComponents = pca.fit_transform(scaled_data)\n",
    "principalDf = pd.DataFrame(data=principalComponents)"
   ]
  },
  {
   "cell_type": "code",
   "execution_count": 155,
   "metadata": {},
   "outputs": [
    {
     "data": {
      "text/html": [
       "<div>\n",
       "<style scoped>\n",
       "    .dataframe tbody tr th:only-of-type {\n",
       "        vertical-align: middle;\n",
       "    }\n",
       "\n",
       "    .dataframe tbody tr th {\n",
       "        vertical-align: top;\n",
       "    }\n",
       "\n",
       "    .dataframe thead th {\n",
       "        text-align: right;\n",
       "    }\n",
       "</style>\n",
       "<table border=\"1\" class=\"dataframe\">\n",
       "  <thead>\n",
       "    <tr style=\"text-align: right;\">\n",
       "      <th></th>\n",
       "      <th>0</th>\n",
       "      <th>1</th>\n",
       "      <th>2</th>\n",
       "      <th>3</th>\n",
       "      <th>4</th>\n",
       "      <th>5</th>\n",
       "      <th>6</th>\n",
       "      <th>7</th>\n",
       "      <th>8</th>\n",
       "      <th>9</th>\n",
       "      <th>...</th>\n",
       "      <th>1401</th>\n",
       "      <th>1402</th>\n",
       "      <th>1403</th>\n",
       "      <th>1404</th>\n",
       "      <th>1405</th>\n",
       "      <th>1406</th>\n",
       "      <th>1407</th>\n",
       "      <th>1408</th>\n",
       "      <th>1409</th>\n",
       "      <th>1410</th>\n",
       "    </tr>\n",
       "  </thead>\n",
       "  <tbody>\n",
       "    <tr>\n",
       "      <th>0</th>\n",
       "      <td>0.163901</td>\n",
       "      <td>-1.014755</td>\n",
       "      <td>-1.250088</td>\n",
       "      <td>-1.203295</td>\n",
       "      <td>-1.153277</td>\n",
       "      <td>0.222297</td>\n",
       "      <td>0.137298</td>\n",
       "      <td>0.797201</td>\n",
       "      <td>0.379260</td>\n",
       "      <td>0.016575</td>\n",
       "      <td>...</td>\n",
       "      <td>4.555320e-17</td>\n",
       "      <td>-4.956586e-18</td>\n",
       "      <td>2.995410e-16</td>\n",
       "      <td>5.576988e-17</td>\n",
       "      <td>-3.403377e-17</td>\n",
       "      <td>-5.467402e-17</td>\n",
       "      <td>-5.230791e-17</td>\n",
       "      <td>7.119711e-17</td>\n",
       "      <td>-8.424660e-16</td>\n",
       "      <td>-5.134135e-17</td>\n",
       "    </tr>\n",
       "    <tr>\n",
       "      <th>1</th>\n",
       "      <td>0.117932</td>\n",
       "      <td>-0.979242</td>\n",
       "      <td>-1.148109</td>\n",
       "      <td>-1.192485</td>\n",
       "      <td>-1.096185</td>\n",
       "      <td>0.195391</td>\n",
       "      <td>0.137235</td>\n",
       "      <td>0.812181</td>\n",
       "      <td>0.421231</td>\n",
       "      <td>0.005338</td>\n",
       "      <td>...</td>\n",
       "      <td>-3.772621e-17</td>\n",
       "      <td>1.709664e-16</td>\n",
       "      <td>-1.973568e-16</td>\n",
       "      <td>2.729804e-16</td>\n",
       "      <td>9.651472e-17</td>\n",
       "      <td>1.438185e-16</td>\n",
       "      <td>3.528260e-16</td>\n",
       "      <td>-1.575838e-17</td>\n",
       "      <td>3.255073e-15</td>\n",
       "      <td>1.531339e-15</td>\n",
       "    </tr>\n",
       "    <tr>\n",
       "      <th>2</th>\n",
       "      <td>0.051571</td>\n",
       "      <td>-0.957756</td>\n",
       "      <td>-1.043630</td>\n",
       "      <td>-1.153104</td>\n",
       "      <td>-1.129905</td>\n",
       "      <td>0.172248</td>\n",
       "      <td>0.122548</td>\n",
       "      <td>0.826213</td>\n",
       "      <td>0.457610</td>\n",
       "      <td>0.076998</td>\n",
       "      <td>...</td>\n",
       "      <td>1.064967e-16</td>\n",
       "      <td>7.835828e-17</td>\n",
       "      <td>7.347159e-18</td>\n",
       "      <td>-8.822155e-17</td>\n",
       "      <td>-8.647310e-17</td>\n",
       "      <td>-7.434050e-17</td>\n",
       "      <td>-2.111058e-16</td>\n",
       "      <td>-1.136126e-16</td>\n",
       "      <td>-1.815279e-16</td>\n",
       "      <td>-8.536000e-17</td>\n",
       "    </tr>\n",
       "    <tr>\n",
       "      <th>3</th>\n",
       "      <td>0.107246</td>\n",
       "      <td>-0.960728</td>\n",
       "      <td>-1.084641</td>\n",
       "      <td>-1.171080</td>\n",
       "      <td>-1.257023</td>\n",
       "      <td>0.154919</td>\n",
       "      <td>0.018845</td>\n",
       "      <td>0.803829</td>\n",
       "      <td>0.435333</td>\n",
       "      <td>0.107065</td>\n",
       "      <td>...</td>\n",
       "      <td>-7.822929e-17</td>\n",
       "      <td>-1.458709e-16</td>\n",
       "      <td>1.656777e-16</td>\n",
       "      <td>6.249711e-17</td>\n",
       "      <td>-1.538913e-16</td>\n",
       "      <td>5.331328e-17</td>\n",
       "      <td>-4.396483e-17</td>\n",
       "      <td>-2.176187e-16</td>\n",
       "      <td>7.407769e-16</td>\n",
       "      <td>1.471137e-15</td>\n",
       "    </tr>\n",
       "    <tr>\n",
       "      <th>4</th>\n",
       "      <td>0.114539</td>\n",
       "      <td>-0.993775</td>\n",
       "      <td>-1.131485</td>\n",
       "      <td>-1.237203</td>\n",
       "      <td>-1.316613</td>\n",
       "      <td>0.249710</td>\n",
       "      <td>0.045960</td>\n",
       "      <td>0.769352</td>\n",
       "      <td>0.421570</td>\n",
       "      <td>0.089443</td>\n",
       "      <td>...</td>\n",
       "      <td>-5.351014e-17</td>\n",
       "      <td>5.270214e-17</td>\n",
       "      <td>3.329407e-17</td>\n",
       "      <td>-1.114809e-16</td>\n",
       "      <td>-1.703990e-17</td>\n",
       "      <td>8.420214e-17</td>\n",
       "      <td>-3.223915e-17</td>\n",
       "      <td>1.679650e-16</td>\n",
       "      <td>-3.854437e-16</td>\n",
       "      <td>-2.222733e-16</td>\n",
       "    </tr>\n",
       "    <tr>\n",
       "      <th>5</th>\n",
       "      <td>0.109174</td>\n",
       "      <td>-1.024802</td>\n",
       "      <td>-1.112050</td>\n",
       "      <td>-1.267188</td>\n",
       "      <td>-1.218987</td>\n",
       "      <td>0.319547</td>\n",
       "      <td>0.111920</td>\n",
       "      <td>0.826685</td>\n",
       "      <td>0.423569</td>\n",
       "      <td>0.033808</td>\n",
       "      <td>...</td>\n",
       "      <td>1.509203e-16</td>\n",
       "      <td>2.561821e-17</td>\n",
       "      <td>-1.286134e-16</td>\n",
       "      <td>-1.156663e-16</td>\n",
       "      <td>-6.284188e-17</td>\n",
       "      <td>-8.188294e-18</td>\n",
       "      <td>-9.237835e-17</td>\n",
       "      <td>-1.738428e-16</td>\n",
       "      <td>-2.031388e-15</td>\n",
       "      <td>5.097036e-16</td>\n",
       "    </tr>\n",
       "    <tr>\n",
       "      <th>6</th>\n",
       "      <td>-0.065363</td>\n",
       "      <td>-1.075524</td>\n",
       "      <td>-1.137818</td>\n",
       "      <td>-1.125763</td>\n",
       "      <td>-0.946516</td>\n",
       "      <td>-0.031001</td>\n",
       "      <td>0.064771</td>\n",
       "      <td>0.669237</td>\n",
       "      <td>0.278872</td>\n",
       "      <td>-0.070823</td>\n",
       "      <td>...</td>\n",
       "      <td>-3.820119e-17</td>\n",
       "      <td>8.821668e-17</td>\n",
       "      <td>-1.521271e-17</td>\n",
       "      <td>-2.065765e-17</td>\n",
       "      <td>5.200400e-17</td>\n",
       "      <td>1.134861e-16</td>\n",
       "      <td>1.290027e-16</td>\n",
       "      <td>-2.351309e-16</td>\n",
       "      <td>-3.087535e-16</td>\n",
       "      <td>-8.430476e-17</td>\n",
       "    </tr>\n",
       "    <tr>\n",
       "      <th>7</th>\n",
       "      <td>-0.192729</td>\n",
       "      <td>-0.964536</td>\n",
       "      <td>-1.172317</td>\n",
       "      <td>-0.978793</td>\n",
       "      <td>-0.872565</td>\n",
       "      <td>-0.149033</td>\n",
       "      <td>0.150637</td>\n",
       "      <td>0.605414</td>\n",
       "      <td>0.284885</td>\n",
       "      <td>-0.087990</td>\n",
       "      <td>...</td>\n",
       "      <td>-2.459961e-16</td>\n",
       "      <td>-2.001513e-16</td>\n",
       "      <td>-7.344651e-17</td>\n",
       "      <td>-7.377317e-17</td>\n",
       "      <td>1.813855e-16</td>\n",
       "      <td>-2.645580e-16</td>\n",
       "      <td>-3.082552e-16</td>\n",
       "      <td>1.043740e-16</td>\n",
       "      <td>-9.368163e-16</td>\n",
       "      <td>-1.166494e-15</td>\n",
       "    </tr>\n",
       "    <tr>\n",
       "      <th>8</th>\n",
       "      <td>-0.001523</td>\n",
       "      <td>-0.961904</td>\n",
       "      <td>-1.240191</td>\n",
       "      <td>-1.199345</td>\n",
       "      <td>-1.125274</td>\n",
       "      <td>0.197091</td>\n",
       "      <td>0.145336</td>\n",
       "      <td>0.759061</td>\n",
       "      <td>0.412130</td>\n",
       "      <td>0.017059</td>\n",
       "      <td>...</td>\n",
       "      <td>-1.162316e-16</td>\n",
       "      <td>-6.343736e-17</td>\n",
       "      <td>-2.482648e-16</td>\n",
       "      <td>-3.142397e-16</td>\n",
       "      <td>9.003287e-17</td>\n",
       "      <td>-2.991879e-16</td>\n",
       "      <td>-8.431982e-17</td>\n",
       "      <td>5.060997e-17</td>\n",
       "      <td>-9.355100e-17</td>\n",
       "      <td>6.594229e-17</td>\n",
       "    </tr>\n",
       "    <tr>\n",
       "      <th>9</th>\n",
       "      <td>-0.005975</td>\n",
       "      <td>-0.956017</td>\n",
       "      <td>-1.174822</td>\n",
       "      <td>-1.226227</td>\n",
       "      <td>-1.184192</td>\n",
       "      <td>0.251198</td>\n",
       "      <td>0.146530</td>\n",
       "      <td>0.777580</td>\n",
       "      <td>0.459919</td>\n",
       "      <td>0.041392</td>\n",
       "      <td>...</td>\n",
       "      <td>-9.535240e-17</td>\n",
       "      <td>-4.906606e-17</td>\n",
       "      <td>-1.290091e-16</td>\n",
       "      <td>-1.311719e-16</td>\n",
       "      <td>2.405281e-16</td>\n",
       "      <td>-2.075398e-16</td>\n",
       "      <td>-7.829331e-17</td>\n",
       "      <td>5.445963e-17</td>\n",
       "      <td>-6.564939e-16</td>\n",
       "      <td>-5.703340e-16</td>\n",
       "    </tr>\n",
       "    <tr>\n",
       "      <th>10</th>\n",
       "      <td>0.171040</td>\n",
       "      <td>-1.062499</td>\n",
       "      <td>-1.179760</td>\n",
       "      <td>-1.326916</td>\n",
       "      <td>-1.232268</td>\n",
       "      <td>0.297776</td>\n",
       "      <td>0.128833</td>\n",
       "      <td>0.744210</td>\n",
       "      <td>0.552736</td>\n",
       "      <td>0.014488</td>\n",
       "      <td>...</td>\n",
       "      <td>1.980660e-16</td>\n",
       "      <td>1.126340e-16</td>\n",
       "      <td>-8.679059e-17</td>\n",
       "      <td>-2.262302e-16</td>\n",
       "      <td>-2.430280e-16</td>\n",
       "      <td>-2.814537e-16</td>\n",
       "      <td>-3.634738e-16</td>\n",
       "      <td>-4.265139e-16</td>\n",
       "      <td>2.530408e-15</td>\n",
       "      <td>-2.293441e-15</td>\n",
       "    </tr>\n",
       "    <tr>\n",
       "      <th>11</th>\n",
       "      <td>0.107524</td>\n",
       "      <td>-1.082012</td>\n",
       "      <td>-1.058106</td>\n",
       "      <td>-1.231023</td>\n",
       "      <td>-1.161549</td>\n",
       "      <td>0.062232</td>\n",
       "      <td>0.018890</td>\n",
       "      <td>0.553541</td>\n",
       "      <td>0.441411</td>\n",
       "      <td>-0.035747</td>\n",
       "      <td>...</td>\n",
       "      <td>5.909350e-18</td>\n",
       "      <td>7.699692e-19</td>\n",
       "      <td>-2.652745e-17</td>\n",
       "      <td>-6.107462e-17</td>\n",
       "      <td>-6.681993e-17</td>\n",
       "      <td>-3.208784e-16</td>\n",
       "      <td>-2.657315e-16</td>\n",
       "      <td>-1.348942e-16</td>\n",
       "      <td>-2.351267e-15</td>\n",
       "      <td>4.110188e-15</td>\n",
       "    </tr>\n",
       "    <tr>\n",
       "      <th>12</th>\n",
       "      <td>0.020228</td>\n",
       "      <td>-0.954363</td>\n",
       "      <td>-0.966037</td>\n",
       "      <td>-1.140157</td>\n",
       "      <td>-1.160255</td>\n",
       "      <td>-0.037883</td>\n",
       "      <td>-0.004791</td>\n",
       "      <td>0.519755</td>\n",
       "      <td>0.377755</td>\n",
       "      <td>-0.067813</td>\n",
       "      <td>...</td>\n",
       "      <td>-1.275774e-16</td>\n",
       "      <td>7.693351e-17</td>\n",
       "      <td>4.353616e-16</td>\n",
       "      <td>1.035814e-16</td>\n",
       "      <td>6.541291e-17</td>\n",
       "      <td>-7.310529e-17</td>\n",
       "      <td>9.730438e-17</td>\n",
       "      <td>3.448638e-16</td>\n",
       "      <td>6.729918e-15</td>\n",
       "      <td>-8.499414e-16</td>\n",
       "    </tr>\n",
       "    <tr>\n",
       "      <th>13</th>\n",
       "      <td>-0.064868</td>\n",
       "      <td>-0.776828</td>\n",
       "      <td>-1.046730</td>\n",
       "      <td>-1.000496</td>\n",
       "      <td>-1.103348</td>\n",
       "      <td>-0.043571</td>\n",
       "      <td>0.064260</td>\n",
       "      <td>0.546342</td>\n",
       "      <td>0.356170</td>\n",
       "      <td>0.078273</td>\n",
       "      <td>...</td>\n",
       "      <td>1.673500e-16</td>\n",
       "      <td>1.797124e-16</td>\n",
       "      <td>-3.094396e-16</td>\n",
       "      <td>-1.553867e-16</td>\n",
       "      <td>-2.361024e-16</td>\n",
       "      <td>-1.174639e-16</td>\n",
       "      <td>-4.867008e-16</td>\n",
       "      <td>-6.908364e-16</td>\n",
       "      <td>-2.483833e-16</td>\n",
       "      <td>-6.936605e-16</td>\n",
       "    </tr>\n",
       "    <tr>\n",
       "      <th>14</th>\n",
       "      <td>-0.054376</td>\n",
       "      <td>-0.734449</td>\n",
       "      <td>-1.062887</td>\n",
       "      <td>-0.958189</td>\n",
       "      <td>-1.053263</td>\n",
       "      <td>-0.015744</td>\n",
       "      <td>0.234585</td>\n",
       "      <td>0.486099</td>\n",
       "      <td>0.359740</td>\n",
       "      <td>-0.054544</td>\n",
       "      <td>...</td>\n",
       "      <td>-2.370657e-16</td>\n",
       "      <td>-7.024493e-16</td>\n",
       "      <td>6.329270e-16</td>\n",
       "      <td>3.449851e-17</td>\n",
       "      <td>5.205191e-16</td>\n",
       "      <td>-1.177411e-17</td>\n",
       "      <td>2.287372e-16</td>\n",
       "      <td>3.977877e-16</td>\n",
       "      <td>-1.757605e-15</td>\n",
       "      <td>-1.403476e-15</td>\n",
       "    </tr>\n",
       "    <tr>\n",
       "      <th>15</th>\n",
       "      <td>0.025729</td>\n",
       "      <td>-0.834087</td>\n",
       "      <td>-1.035821</td>\n",
       "      <td>-1.057088</td>\n",
       "      <td>-1.168368</td>\n",
       "      <td>0.016604</td>\n",
       "      <td>0.105244</td>\n",
       "      <td>0.481715</td>\n",
       "      <td>0.400514</td>\n",
       "      <td>0.016810</td>\n",
       "      <td>...</td>\n",
       "      <td>-2.905214e-16</td>\n",
       "      <td>-1.337232e-16</td>\n",
       "      <td>-4.173297e-17</td>\n",
       "      <td>2.301396e-16</td>\n",
       "      <td>1.879175e-16</td>\n",
       "      <td>3.099506e-16</td>\n",
       "      <td>2.729590e-16</td>\n",
       "      <td>-2.862215e-17</td>\n",
       "      <td>-3.848528e-16</td>\n",
       "      <td>9.369161e-17</td>\n",
       "    </tr>\n",
       "    <tr>\n",
       "      <th>16</th>\n",
       "      <td>-0.023240</td>\n",
       "      <td>-0.954787</td>\n",
       "      <td>-1.065522</td>\n",
       "      <td>-1.130797</td>\n",
       "      <td>-1.194700</td>\n",
       "      <td>0.076289</td>\n",
       "      <td>0.087914</td>\n",
       "      <td>0.529882</td>\n",
       "      <td>0.421565</td>\n",
       "      <td>-0.127040</td>\n",
       "      <td>...</td>\n",
       "      <td>6.403646e-16</td>\n",
       "      <td>6.612674e-16</td>\n",
       "      <td>-8.565453e-16</td>\n",
       "      <td>2.454802e-16</td>\n",
       "      <td>-4.275666e-16</td>\n",
       "      <td>9.813953e-16</td>\n",
       "      <td>9.703976e-16</td>\n",
       "      <td>7.899573e-16</td>\n",
       "      <td>-3.014604e-16</td>\n",
       "      <td>-2.419516e-16</td>\n",
       "    </tr>\n",
       "    <tr>\n",
       "      <th>17</th>\n",
       "      <td>-0.148954</td>\n",
       "      <td>-0.960190</td>\n",
       "      <td>-1.007473</td>\n",
       "      <td>-1.044362</td>\n",
       "      <td>-1.140429</td>\n",
       "      <td>-0.008340</td>\n",
       "      <td>0.133427</td>\n",
       "      <td>0.429789</td>\n",
       "      <td>0.396493</td>\n",
       "      <td>-0.141926</td>\n",
       "      <td>...</td>\n",
       "      <td>-2.051024e-16</td>\n",
       "      <td>-5.023203e-16</td>\n",
       "      <td>3.152149e-16</td>\n",
       "      <td>-2.183673e-16</td>\n",
       "      <td>1.369070e-16</td>\n",
       "      <td>-6.176895e-16</td>\n",
       "      <td>-3.761498e-16</td>\n",
       "      <td>-2.041113e-16</td>\n",
       "      <td>8.109190e-16</td>\n",
       "      <td>1.612297e-15</td>\n",
       "    </tr>\n",
       "    <tr>\n",
       "      <th>18</th>\n",
       "      <td>-0.252360</td>\n",
       "      <td>-0.803298</td>\n",
       "      <td>-0.977893</td>\n",
       "      <td>-0.965671</td>\n",
       "      <td>-1.069579</td>\n",
       "      <td>-0.093323</td>\n",
       "      <td>0.142640</td>\n",
       "      <td>0.463772</td>\n",
       "      <td>0.378744</td>\n",
       "      <td>0.021847</td>\n",
       "      <td>...</td>\n",
       "      <td>3.103779e-16</td>\n",
       "      <td>8.989349e-16</td>\n",
       "      <td>-8.159056e-16</td>\n",
       "      <td>-2.785921e-17</td>\n",
       "      <td>-2.524522e-16</td>\n",
       "      <td>7.848080e-16</td>\n",
       "      <td>-7.582368e-16</td>\n",
       "      <td>-3.389201e-16</td>\n",
       "      <td>4.408401e-16</td>\n",
       "      <td>1.863639e-16</td>\n",
       "    </tr>\n",
       "    <tr>\n",
       "      <th>19</th>\n",
       "      <td>-0.142417</td>\n",
       "      <td>-0.926109</td>\n",
       "      <td>-0.916731</td>\n",
       "      <td>-1.013484</td>\n",
       "      <td>-1.054282</td>\n",
       "      <td>-0.111084</td>\n",
       "      <td>0.047712</td>\n",
       "      <td>0.463179</td>\n",
       "      <td>0.332297</td>\n",
       "      <td>-0.018159</td>\n",
       "      <td>...</td>\n",
       "      <td>-1.477802e-16</td>\n",
       "      <td>-2.397121e-16</td>\n",
       "      <td>2.009540e-16</td>\n",
       "      <td>2.551677e-17</td>\n",
       "      <td>7.493395e-17</td>\n",
       "      <td>-9.283281e-17</td>\n",
       "      <td>4.094964e-16</td>\n",
       "      <td>1.219546e-16</td>\n",
       "      <td>1.323087e-15</td>\n",
       "      <td>7.521816e-17</td>\n",
       "    </tr>\n",
       "  </tbody>\n",
       "</table>\n",
       "<p>20 rows × 1411 columns</p>\n",
       "</div>"
      ],
      "text/plain": [
       "        0         1         2         3         4         5         6     \\\n",
       "0   0.163901 -1.014755 -1.250088 -1.203295 -1.153277  0.222297  0.137298   \n",
       "1   0.117932 -0.979242 -1.148109 -1.192485 -1.096185  0.195391  0.137235   \n",
       "2   0.051571 -0.957756 -1.043630 -1.153104 -1.129905  0.172248  0.122548   \n",
       "3   0.107246 -0.960728 -1.084641 -1.171080 -1.257023  0.154919  0.018845   \n",
       "4   0.114539 -0.993775 -1.131485 -1.237203 -1.316613  0.249710  0.045960   \n",
       "5   0.109174 -1.024802 -1.112050 -1.267188 -1.218987  0.319547  0.111920   \n",
       "6  -0.065363 -1.075524 -1.137818 -1.125763 -0.946516 -0.031001  0.064771   \n",
       "7  -0.192729 -0.964536 -1.172317 -0.978793 -0.872565 -0.149033  0.150637   \n",
       "8  -0.001523 -0.961904 -1.240191 -1.199345 -1.125274  0.197091  0.145336   \n",
       "9  -0.005975 -0.956017 -1.174822 -1.226227 -1.184192  0.251198  0.146530   \n",
       "10  0.171040 -1.062499 -1.179760 -1.326916 -1.232268  0.297776  0.128833   \n",
       "11  0.107524 -1.082012 -1.058106 -1.231023 -1.161549  0.062232  0.018890   \n",
       "12  0.020228 -0.954363 -0.966037 -1.140157 -1.160255 -0.037883 -0.004791   \n",
       "13 -0.064868 -0.776828 -1.046730 -1.000496 -1.103348 -0.043571  0.064260   \n",
       "14 -0.054376 -0.734449 -1.062887 -0.958189 -1.053263 -0.015744  0.234585   \n",
       "15  0.025729 -0.834087 -1.035821 -1.057088 -1.168368  0.016604  0.105244   \n",
       "16 -0.023240 -0.954787 -1.065522 -1.130797 -1.194700  0.076289  0.087914   \n",
       "17 -0.148954 -0.960190 -1.007473 -1.044362 -1.140429 -0.008340  0.133427   \n",
       "18 -0.252360 -0.803298 -0.977893 -0.965671 -1.069579 -0.093323  0.142640   \n",
       "19 -0.142417 -0.926109 -0.916731 -1.013484 -1.054282 -0.111084  0.047712   \n",
       "\n",
       "        7         8         9     ...          1401          1402  \\\n",
       "0   0.797201  0.379260  0.016575  ...  4.555320e-17 -4.956586e-18   \n",
       "1   0.812181  0.421231  0.005338  ... -3.772621e-17  1.709664e-16   \n",
       "2   0.826213  0.457610  0.076998  ...  1.064967e-16  7.835828e-17   \n",
       "3   0.803829  0.435333  0.107065  ... -7.822929e-17 -1.458709e-16   \n",
       "4   0.769352  0.421570  0.089443  ... -5.351014e-17  5.270214e-17   \n",
       "5   0.826685  0.423569  0.033808  ...  1.509203e-16  2.561821e-17   \n",
       "6   0.669237  0.278872 -0.070823  ... -3.820119e-17  8.821668e-17   \n",
       "7   0.605414  0.284885 -0.087990  ... -2.459961e-16 -2.001513e-16   \n",
       "8   0.759061  0.412130  0.017059  ... -1.162316e-16 -6.343736e-17   \n",
       "9   0.777580  0.459919  0.041392  ... -9.535240e-17 -4.906606e-17   \n",
       "10  0.744210  0.552736  0.014488  ...  1.980660e-16  1.126340e-16   \n",
       "11  0.553541  0.441411 -0.035747  ...  5.909350e-18  7.699692e-19   \n",
       "12  0.519755  0.377755 -0.067813  ... -1.275774e-16  7.693351e-17   \n",
       "13  0.546342  0.356170  0.078273  ...  1.673500e-16  1.797124e-16   \n",
       "14  0.486099  0.359740 -0.054544  ... -2.370657e-16 -7.024493e-16   \n",
       "15  0.481715  0.400514  0.016810  ... -2.905214e-16 -1.337232e-16   \n",
       "16  0.529882  0.421565 -0.127040  ...  6.403646e-16  6.612674e-16   \n",
       "17  0.429789  0.396493 -0.141926  ... -2.051024e-16 -5.023203e-16   \n",
       "18  0.463772  0.378744  0.021847  ...  3.103779e-16  8.989349e-16   \n",
       "19  0.463179  0.332297 -0.018159  ... -1.477802e-16 -2.397121e-16   \n",
       "\n",
       "            1403          1404          1405          1406          1407  \\\n",
       "0   2.995410e-16  5.576988e-17 -3.403377e-17 -5.467402e-17 -5.230791e-17   \n",
       "1  -1.973568e-16  2.729804e-16  9.651472e-17  1.438185e-16  3.528260e-16   \n",
       "2   7.347159e-18 -8.822155e-17 -8.647310e-17 -7.434050e-17 -2.111058e-16   \n",
       "3   1.656777e-16  6.249711e-17 -1.538913e-16  5.331328e-17 -4.396483e-17   \n",
       "4   3.329407e-17 -1.114809e-16 -1.703990e-17  8.420214e-17 -3.223915e-17   \n",
       "5  -1.286134e-16 -1.156663e-16 -6.284188e-17 -8.188294e-18 -9.237835e-17   \n",
       "6  -1.521271e-17 -2.065765e-17  5.200400e-17  1.134861e-16  1.290027e-16   \n",
       "7  -7.344651e-17 -7.377317e-17  1.813855e-16 -2.645580e-16 -3.082552e-16   \n",
       "8  -2.482648e-16 -3.142397e-16  9.003287e-17 -2.991879e-16 -8.431982e-17   \n",
       "9  -1.290091e-16 -1.311719e-16  2.405281e-16 -2.075398e-16 -7.829331e-17   \n",
       "10 -8.679059e-17 -2.262302e-16 -2.430280e-16 -2.814537e-16 -3.634738e-16   \n",
       "11 -2.652745e-17 -6.107462e-17 -6.681993e-17 -3.208784e-16 -2.657315e-16   \n",
       "12  4.353616e-16  1.035814e-16  6.541291e-17 -7.310529e-17  9.730438e-17   \n",
       "13 -3.094396e-16 -1.553867e-16 -2.361024e-16 -1.174639e-16 -4.867008e-16   \n",
       "14  6.329270e-16  3.449851e-17  5.205191e-16 -1.177411e-17  2.287372e-16   \n",
       "15 -4.173297e-17  2.301396e-16  1.879175e-16  3.099506e-16  2.729590e-16   \n",
       "16 -8.565453e-16  2.454802e-16 -4.275666e-16  9.813953e-16  9.703976e-16   \n",
       "17  3.152149e-16 -2.183673e-16  1.369070e-16 -6.176895e-16 -3.761498e-16   \n",
       "18 -8.159056e-16 -2.785921e-17 -2.524522e-16  7.848080e-16 -7.582368e-16   \n",
       "19  2.009540e-16  2.551677e-17  7.493395e-17 -9.283281e-17  4.094964e-16   \n",
       "\n",
       "            1408          1409          1410  \n",
       "0   7.119711e-17 -8.424660e-16 -5.134135e-17  \n",
       "1  -1.575838e-17  3.255073e-15  1.531339e-15  \n",
       "2  -1.136126e-16 -1.815279e-16 -8.536000e-17  \n",
       "3  -2.176187e-16  7.407769e-16  1.471137e-15  \n",
       "4   1.679650e-16 -3.854437e-16 -2.222733e-16  \n",
       "5  -1.738428e-16 -2.031388e-15  5.097036e-16  \n",
       "6  -2.351309e-16 -3.087535e-16 -8.430476e-17  \n",
       "7   1.043740e-16 -9.368163e-16 -1.166494e-15  \n",
       "8   5.060997e-17 -9.355100e-17  6.594229e-17  \n",
       "9   5.445963e-17 -6.564939e-16 -5.703340e-16  \n",
       "10 -4.265139e-16  2.530408e-15 -2.293441e-15  \n",
       "11 -1.348942e-16 -2.351267e-15  4.110188e-15  \n",
       "12  3.448638e-16  6.729918e-15 -8.499414e-16  \n",
       "13 -6.908364e-16 -2.483833e-16 -6.936605e-16  \n",
       "14  3.977877e-16 -1.757605e-15 -1.403476e-15  \n",
       "15 -2.862215e-17 -3.848528e-16  9.369161e-17  \n",
       "16  7.899573e-16 -3.014604e-16 -2.419516e-16  \n",
       "17 -2.041113e-16  8.109190e-16  1.612297e-15  \n",
       "18 -3.389201e-16  4.408401e-16  1.863639e-16  \n",
       "19  1.219546e-16  1.323087e-15  7.521816e-17  \n",
       "\n",
       "[20 rows x 1411 columns]"
      ]
     },
     "execution_count": 155,
     "metadata": {},
     "output_type": "execute_result"
    }
   ],
   "source": [
    "principalDf.head(20)# show the values of top 20 components"
   ]
  },
  {
   "cell_type": "code",
   "execution_count": 156,
   "metadata": {
    "scrolled": true
   },
   "outputs": [
    {
     "data": {
      "text/plain": [
       "Text(0.5, 0, 'Principle components')"
      ]
     },
     "execution_count": 156,
     "metadata": {},
     "output_type": "execute_result"
    },
    {
     "data": {
      "image/png": "[encoded data removed]",
      "text/plain": [
       "<Figure size 432x288 with 1 Axes>"
      ]
     },
     "metadata": {
      "needs_background": "light"
     },
     "output_type": "display_data"
    }
   ],
   "source": [
    "# generate a plot to show the accumulative vairances that were used by the components\n",
    "plt.plot(np.cumsum(pca.explained_variance_ratio_))\n",
    "plt.ylabel('Explained variance ratio')\n",
    "plt.xlabel('Principle components')"
   ]
  },
  {
   "cell_type": "code",
   "execution_count": 163,
   "metadata": {},
   "outputs": [],
   "source": [
    "# Re-apply PCA to the data while selecting for number of components to retain.\n",
    "pca = PCA(n_components = 150) # choose the top 150 components\n",
    "generalPC = pca.fit_transform(scaled_data)\n",
    "principalDf = pd.DataFrame(data=generalPC)"
   ]
  },
  {
   "cell_type": "code",
   "execution_count": 173,
   "metadata": {},
   "outputs": [
    {
     "data": {
      "text/plain": [
       "0.9149485932051785"
      ]
     },
     "execution_count": 173,
     "metadata": {},
     "output_type": "execute_result"
    }
   ],
   "source": [
    "# Investigate the variance accounted for by 150 principal components.\n",
    "sum(pca.explained_variance_ratio_[:150])"
   ]
  },
  {
   "cell_type": "code",
   "execution_count": 166,
   "metadata": {
    "scrolled": true
   },
   "outputs": [
    {
     "data": {
      "text/plain": [
       "Text(0.5, 0, 'Principle components')"
      ]
     },
     "execution_count": 166,
     "metadata": {},
     "output_type": "execute_result"
    },
    {
     "data": {
      "image/png": "[encoded data removed]",
      "text/plain": [
       "<Figure size 432x288 with 1 Axes>"
      ]
     },
     "metadata": {
      "needs_background": "light"
     },
     "output_type": "display_data"
    }
   ],
   "source": [
    "plt.plot(np.cumsum(pca.explained_variance_ratio_))\n",
    "plt.ylabel('Explained variance ratio')\n",
    "plt.xlabel('Principle components')"
   ]
  },
  {
   "cell_type": "code",
   "execution_count": 168,
   "metadata": {},
   "outputs": [
    {
     "data": {
      "text/plain": [
       "(8187, 152)"
      ]
     },
     "execution_count": 168,
     "metadata": {},
     "output_type": "execute_result"
    }
   ],
   "source": [
    "# add activity and subject ID into the dimension-reduced dataframe\n",
    "phone_data_feature_extracted_cleaned = pd.concat([principalDf,phone_data_feature_extracted_label.set_index(principalDf.index)], axis =1 )\n",
    "phone_data_feature_extracted_cleaned.shape"
   ]
  },
  {
   "cell_type": "markdown",
   "metadata": {},
   "source": [
    "### Step 6: Build a classification model and using accuracy and F1 score to evaluate the models"
   ]
  },
  {
   "cell_type": "code",
   "execution_count": 262,
   "metadata": {},
   "outputs": [],
   "source": [
    "# define a function to loop over each user to split training and testing data\n",
    "def split_train_test_data_for_each_subject(data):\n",
    "    # get subject list\n",
    "    subjects = data['subjectID'].unique()\n",
    "    #accuracy_df = pd.DataFrame([])\n",
    "    \n",
    "    accuracy_df = pd.DataFrame([]) \n",
    "    f1_score_metrics = pd.DataFrame([])\n",
    "  \n",
    "        # Provide 'Address' as the column name \n",
    "    accuracy_df['names'] = [ 'LDA', 'KNN', 'CART', 'NB', 'SVM'] \n",
    "    f1_score_metrics['names'] = [ 'LDA', 'KNN', 'CART', 'NB', 'SVM']\n",
    "    \n",
    "    for subject in subjects:\n",
    "        data_sub = data[data['subjectID'] == subject]\n",
    "\n",
    "        # subset user data and divide into training and testing sets\n",
    "        y_user = pd.Series(['user'] * (data_sub.shape[0])) # generate 'user' label\n",
    "        X_user = data_sub.drop(['activity', 'subjectID'], axis = 1)\n",
    "\n",
    "        X_user_train, X_user_test, y_user_train, y_user_test = train_test_split(X_user, y_user, test_size = 0.5)\n",
    "\n",
    "\n",
    "        # split other uses\n",
    "        #sampling with replacement\n",
    "        subjects = np.arange(1600, 1651, 1).tolist()\n",
    "        subjects.remove(subject)\n",
    "        sampling_subjects = random.sample(subjects, 3)\n",
    "\n",
    "        data_others = data[data['subjectID'].isin(sampling_subjects)]\n",
    "\n",
    "        y_other = pd.Series(['imposter'] * (data_others.shape[0]))\n",
    "        X_other = data_others.drop(['activity', 'subjectID'], axis = 1)\n",
    "\n",
    "        X_other_train, X_other_test, y_other_train, y_other_test = train_test_split(X_other, y_other, test_size = 0.5)\n",
    "\n",
    "        y_train = y_user_train.append(y_other_train)\n",
    "        y_test =  y_user_test.append(y_other_test)\n",
    "\n",
    "        X_train = X_user_train.append(X_other_train)\n",
    "        X_test =  X_user_test.append(X_other_test)\n",
    "        \n",
    "        \n",
    "        models = []\n",
    "        #models.append(('LR', LogisticRegression()))\n",
    "        models.append(('LDA', LinearDiscriminantAnalysis()))\n",
    "        models.append(('KNN', KNeighborsClassifier()))\n",
    "        models.append(('CART', DecisionTreeClassifier()))\n",
    "        models.append(('NB', GaussianNB()))\n",
    "        models.append(('SVM', SVC()))\n",
    "        \n",
    "        # evaluate each model by accuracy and f1 scorein turn\n",
    "        accuracy_results = []\n",
    "        f1_score_results = []\n",
    "\n",
    "        #scoring = 'accuracy'\n",
    "        #accuracy_df = pd.DataFrame([])\n",
    "\n",
    "        for name, model in models:\n",
    "            #print(model)\n",
    "            model.fit(X_train,y_train)\n",
    "            preds=model.predict(X_test)\n",
    "            accuracy = accuracy_score(y_test, preds)\n",
    "            accuracy_results.append(accuracy)\n",
    "            \n",
    "\n",
    "            f1 = f1_score(y_test, preds, pos_label = 'imposter')\n",
    "            f1_score_results.append(f1)\n",
    "\n",
    "            #names.append(name)\n",
    "\n",
    "        accuracy_df[subject] = accuracy_results\n",
    "        f1_score_metrics[subject] = f1_score_results\n",
    "\n",
    "        \"\"\"accuracy_df = pd.DataFrame(\n",
    "        {'model': names,\n",
    "         '1600': results\n",
    "        })\"\"\"\n",
    "\n",
    "    return accuracy_df, f1_score_metrics\n",
    "\n"
   ]
  },
  {
   "cell_type": "markdown",
   "metadata": {},
   "source": [
    "### 6.1 Evaluate the model performance on features that were selected based on literature review"
   ]
  },
  {
   "cell_type": "code",
   "execution_count": 263,
   "metadata": {
    "scrolled": false
   },
   "outputs": [],
   "source": [
    "accuracy_df, f1_score_metrics = split_train_test_data_for_each_subject(phone_data_feature_selected)"
   ]
  },
  {
   "cell_type": "code",
   "execution_count": 264,
   "metadata": {},
   "outputs": [
    {
     "data": {
      "text/html": [
       "<div>\n",
       "<style scoped>\n",
       "    .dataframe tbody tr th:only-of-type {\n",
       "        vertical-align: middle;\n",
       "    }\n",
       "\n",
       "    .dataframe tbody tr th {\n",
       "        vertical-align: top;\n",
       "    }\n",
       "\n",
       "    .dataframe thead th {\n",
       "        text-align: right;\n",
       "    }\n",
       "</style>\n",
       "<table border=\"1\" class=\"dataframe\">\n",
       "  <thead>\n",
       "    <tr style=\"text-align: right;\">\n",
       "      <th></th>\n",
       "      <th>names</th>\n",
       "      <th>1600</th>\n",
       "      <th>1601</th>\n",
       "      <th>1602</th>\n",
       "      <th>1603</th>\n",
       "      <th>1604</th>\n",
       "      <th>1605</th>\n",
       "      <th>1606</th>\n",
       "      <th>1607</th>\n",
       "      <th>1608</th>\n",
       "      <th>...</th>\n",
       "      <th>1641</th>\n",
       "      <th>1642</th>\n",
       "      <th>1643</th>\n",
       "      <th>1644</th>\n",
       "      <th>1645</th>\n",
       "      <th>1646</th>\n",
       "      <th>1647</th>\n",
       "      <th>1648</th>\n",
       "      <th>1649</th>\n",
       "      <th>1650</th>\n",
       "    </tr>\n",
       "  </thead>\n",
       "  <tbody>\n",
       "    <tr>\n",
       "      <th>0</th>\n",
       "      <td>LDA</td>\n",
       "      <td>1.000000</td>\n",
       "      <td>0.986441</td>\n",
       "      <td>0.998369</td>\n",
       "      <td>1.000000</td>\n",
       "      <td>1.000000</td>\n",
       "      <td>0.993421</td>\n",
       "      <td>1.0</td>\n",
       "      <td>1.000000</td>\n",
       "      <td>1.000000</td>\n",
       "      <td>...</td>\n",
       "      <td>0.778157</td>\n",
       "      <td>1.000000</td>\n",
       "      <td>1.000000</td>\n",
       "      <td>0.992832</td>\n",
       "      <td>0.982353</td>\n",
       "      <td>1.000000</td>\n",
       "      <td>0.993994</td>\n",
       "      <td>0.996255</td>\n",
       "      <td>1.000000</td>\n",
       "      <td>0.989362</td>\n",
       "    </tr>\n",
       "    <tr>\n",
       "      <th>1</th>\n",
       "      <td>KNN</td>\n",
       "      <td>0.968116</td>\n",
       "      <td>0.861017</td>\n",
       "      <td>0.988581</td>\n",
       "      <td>0.944928</td>\n",
       "      <td>0.969697</td>\n",
       "      <td>0.934211</td>\n",
       "      <td>1.0</td>\n",
       "      <td>0.970190</td>\n",
       "      <td>0.974747</td>\n",
       "      <td>...</td>\n",
       "      <td>0.757679</td>\n",
       "      <td>0.968750</td>\n",
       "      <td>0.965854</td>\n",
       "      <td>0.992832</td>\n",
       "      <td>0.970588</td>\n",
       "      <td>0.979167</td>\n",
       "      <td>0.951952</td>\n",
       "      <td>1.000000</td>\n",
       "      <td>0.937313</td>\n",
       "      <td>0.975177</td>\n",
       "    </tr>\n",
       "    <tr>\n",
       "      <th>2</th>\n",
       "      <td>CART</td>\n",
       "      <td>1.000000</td>\n",
       "      <td>0.969492</td>\n",
       "      <td>0.991843</td>\n",
       "      <td>1.000000</td>\n",
       "      <td>0.993939</td>\n",
       "      <td>0.993421</td>\n",
       "      <td>1.0</td>\n",
       "      <td>0.989160</td>\n",
       "      <td>0.994949</td>\n",
       "      <td>...</td>\n",
       "      <td>0.730375</td>\n",
       "      <td>0.988281</td>\n",
       "      <td>1.000000</td>\n",
       "      <td>0.992832</td>\n",
       "      <td>0.982353</td>\n",
       "      <td>1.000000</td>\n",
       "      <td>0.972973</td>\n",
       "      <td>0.988764</td>\n",
       "      <td>0.976119</td>\n",
       "      <td>1.000000</td>\n",
       "    </tr>\n",
       "    <tr>\n",
       "      <th>3</th>\n",
       "      <td>NB</td>\n",
       "      <td>1.000000</td>\n",
       "      <td>0.823729</td>\n",
       "      <td>0.998369</td>\n",
       "      <td>1.000000</td>\n",
       "      <td>0.836364</td>\n",
       "      <td>0.993421</td>\n",
       "      <td>1.0</td>\n",
       "      <td>0.842818</td>\n",
       "      <td>0.969697</td>\n",
       "      <td>...</td>\n",
       "      <td>0.808874</td>\n",
       "      <td>0.968750</td>\n",
       "      <td>0.995122</td>\n",
       "      <td>0.989247</td>\n",
       "      <td>0.800000</td>\n",
       "      <td>1.000000</td>\n",
       "      <td>0.996997</td>\n",
       "      <td>0.880150</td>\n",
       "      <td>0.847761</td>\n",
       "      <td>0.719858</td>\n",
       "    </tr>\n",
       "    <tr>\n",
       "      <th>4</th>\n",
       "      <td>SVM</td>\n",
       "      <td>0.768116</td>\n",
       "      <td>0.722034</td>\n",
       "      <td>0.869494</td>\n",
       "      <td>0.695652</td>\n",
       "      <td>0.830303</td>\n",
       "      <td>0.654605</td>\n",
       "      <td>1.0</td>\n",
       "      <td>0.761518</td>\n",
       "      <td>0.929293</td>\n",
       "      <td>...</td>\n",
       "      <td>0.808874</td>\n",
       "      <td>0.968750</td>\n",
       "      <td>0.814634</td>\n",
       "      <td>0.860215</td>\n",
       "      <td>0.970588</td>\n",
       "      <td>0.973958</td>\n",
       "      <td>0.684685</td>\n",
       "      <td>0.921348</td>\n",
       "      <td>0.785075</td>\n",
       "      <td>0.847518</td>\n",
       "    </tr>\n",
       "  </tbody>\n",
       "</table>\n",
       "<p>5 rows × 51 columns</p>\n",
       "</div>"
      ],
      "text/plain": [
       "  names      1600      1601      1602      1603      1604      1605  1606  \\\n",
       "0   LDA  1.000000  0.986441  0.998369  1.000000  1.000000  0.993421   1.0   \n",
       "1   KNN  0.968116  0.861017  0.988581  0.944928  0.969697  0.934211   1.0   \n",
       "2  CART  1.000000  0.969492  0.991843  1.000000  0.993939  0.993421   1.0   \n",
       "3    NB  1.000000  0.823729  0.998369  1.000000  0.836364  0.993421   1.0   \n",
       "4   SVM  0.768116  0.722034  0.869494  0.695652  0.830303  0.654605   1.0   \n",
       "\n",
       "       1607      1608  ...      1641      1642      1643      1644      1645  \\\n",
       "0  1.000000  1.000000  ...  0.778157  1.000000  1.000000  0.992832  0.982353   \n",
       "1  0.970190  0.974747  ...  0.757679  0.968750  0.965854  0.992832  0.970588   \n",
       "2  0.989160  0.994949  ...  0.730375  0.988281  1.000000  0.992832  0.982353   \n",
       "3  0.842818  0.969697  ...  0.808874  0.968750  0.995122  0.989247  0.800000   \n",
       "4  0.761518  0.929293  ...  0.808874  0.968750  0.814634  0.860215  0.970588   \n",
       "\n",
       "       1646      1647      1648      1649      1650  \n",
       "0  1.000000  0.993994  0.996255  1.000000  0.989362  \n",
       "1  0.979167  0.951952  1.000000  0.937313  0.975177  \n",
       "2  1.000000  0.972973  0.988764  0.976119  1.000000  \n",
       "3  1.000000  0.996997  0.880150  0.847761  0.719858  \n",
       "4  0.973958  0.684685  0.921348  0.785075  0.847518  \n",
       "\n",
       "[5 rows x 51 columns]"
      ]
     },
     "execution_count": 264,
     "metadata": {},
     "output_type": "execute_result"
    }
   ],
   "source": [
    "accuracy_df"
   ]
  },
  {
   "cell_type": "code",
   "execution_count": 258,
   "metadata": {},
   "outputs": [],
   "source": [
    "accuracy_df.to_csv('accuracy_df_manually_feature_selection.csv')"
   ]
  },
  {
   "cell_type": "code",
   "execution_count": 265,
   "metadata": {
    "scrolled": true
   },
   "outputs": [
    {
     "data": {
      "text/html": [
       "<div>\n",
       "<style scoped>\n",
       "    .dataframe tbody tr th:only-of-type {\n",
       "        vertical-align: middle;\n",
       "    }\n",
       "\n",
       "    .dataframe tbody tr th {\n",
       "        vertical-align: top;\n",
       "    }\n",
       "\n",
       "    .dataframe thead th {\n",
       "        text-align: right;\n",
       "    }\n",
       "</style>\n",
       "<table border=\"1\" class=\"dataframe\">\n",
       "  <thead>\n",
       "    <tr style=\"text-align: right;\">\n",
       "      <th></th>\n",
       "      <th>names</th>\n",
       "      <th>1600</th>\n",
       "      <th>1601</th>\n",
       "      <th>1602</th>\n",
       "      <th>1603</th>\n",
       "      <th>1604</th>\n",
       "      <th>1605</th>\n",
       "      <th>1606</th>\n",
       "      <th>1607</th>\n",
       "      <th>1608</th>\n",
       "      <th>...</th>\n",
       "      <th>1641</th>\n",
       "      <th>1642</th>\n",
       "      <th>1643</th>\n",
       "      <th>1644</th>\n",
       "      <th>1645</th>\n",
       "      <th>1646</th>\n",
       "      <th>1647</th>\n",
       "      <th>1648</th>\n",
       "      <th>1649</th>\n",
       "      <th>1650</th>\n",
       "    </tr>\n",
       "  </thead>\n",
       "  <tbody>\n",
       "    <tr>\n",
       "      <th>0</th>\n",
       "      <td>LDA</td>\n",
       "      <td>1.000000</td>\n",
       "      <td>0.989529</td>\n",
       "      <td>0.999061</td>\n",
       "      <td>1.000000</td>\n",
       "      <td>1.000000</td>\n",
       "      <td>0.994949</td>\n",
       "      <td>1.0</td>\n",
       "      <td>1.000000</td>\n",
       "      <td>1.000000</td>\n",
       "      <td>...</td>\n",
       "      <td>0.832041</td>\n",
       "      <td>1.000000</td>\n",
       "      <td>1.000000</td>\n",
       "      <td>0.995851</td>\n",
       "      <td>0.990991</td>\n",
       "      <td>1.000000</td>\n",
       "      <td>0.995633</td>\n",
       "      <td>0.997912</td>\n",
       "      <td>1.000000</td>\n",
       "      <td>0.993684</td>\n",
       "    </tr>\n",
       "    <tr>\n",
       "      <th>1</th>\n",
       "      <td>KNN</td>\n",
       "      <td>0.979206</td>\n",
       "      <td>0.893506</td>\n",
       "      <td>0.993476</td>\n",
       "      <td>0.960663</td>\n",
       "      <td>0.971429</td>\n",
       "      <td>0.948980</td>\n",
       "      <td>1.0</td>\n",
       "      <td>0.979048</td>\n",
       "      <td>0.976959</td>\n",
       "      <td>...</td>\n",
       "      <td>0.821159</td>\n",
       "      <td>0.980676</td>\n",
       "      <td>0.978328</td>\n",
       "      <td>0.995851</td>\n",
       "      <td>0.985075</td>\n",
       "      <td>0.989362</td>\n",
       "      <td>0.965957</td>\n",
       "      <td>1.000000</td>\n",
       "      <td>0.955224</td>\n",
       "      <td>0.985138</td>\n",
       "    </tr>\n",
       "    <tr>\n",
       "      <th>2</th>\n",
       "      <td>CART</td>\n",
       "      <td>1.000000</td>\n",
       "      <td>0.976378</td>\n",
       "      <td>0.995314</td>\n",
       "      <td>1.000000</td>\n",
       "      <td>0.994152</td>\n",
       "      <td>0.994949</td>\n",
       "      <td>1.0</td>\n",
       "      <td>0.992424</td>\n",
       "      <td>0.995349</td>\n",
       "      <td>...</td>\n",
       "      <td>0.807786</td>\n",
       "      <td>0.992665</td>\n",
       "      <td>1.000000</td>\n",
       "      <td>0.995851</td>\n",
       "      <td>0.990991</td>\n",
       "      <td>1.000000</td>\n",
       "      <td>0.980392</td>\n",
       "      <td>0.993789</td>\n",
       "      <td>0.982609</td>\n",
       "      <td>1.000000</td>\n",
       "    </tr>\n",
       "    <tr>\n",
       "      <th>3</th>\n",
       "      <td>NB</td>\n",
       "      <td>1.000000</td>\n",
       "      <td>0.863158</td>\n",
       "      <td>0.999061</td>\n",
       "      <td>1.000000</td>\n",
       "      <td>0.862944</td>\n",
       "      <td>0.994949</td>\n",
       "      <td>1.0</td>\n",
       "      <td>0.876596</td>\n",
       "      <td>0.971429</td>\n",
       "      <td>...</td>\n",
       "      <td>0.848649</td>\n",
       "      <td>0.980676</td>\n",
       "      <td>0.996885</td>\n",
       "      <td>0.993763</td>\n",
       "      <td>0.886667</td>\n",
       "      <td>1.000000</td>\n",
       "      <td>0.997812</td>\n",
       "      <td>0.930435</td>\n",
       "      <td>0.892632</td>\n",
       "      <td>0.812352</td>\n",
       "    </tr>\n",
       "    <tr>\n",
       "      <th>4</th>\n",
       "      <td>SVM</td>\n",
       "      <td>0.868852</td>\n",
       "      <td>0.811060</td>\n",
       "      <td>0.930192</td>\n",
       "      <td>0.820513</td>\n",
       "      <td>0.831325</td>\n",
       "      <td>0.791252</td>\n",
       "      <td>1.0</td>\n",
       "      <td>0.857143</td>\n",
       "      <td>0.930693</td>\n",
       "      <td>...</td>\n",
       "      <td>0.850267</td>\n",
       "      <td>0.980676</td>\n",
       "      <td>0.893855</td>\n",
       "      <td>0.924855</td>\n",
       "      <td>0.985075</td>\n",
       "      <td>0.986807</td>\n",
       "      <td>0.812834</td>\n",
       "      <td>0.958084</td>\n",
       "      <td>0.861004</td>\n",
       "      <td>0.917466</td>\n",
       "    </tr>\n",
       "  </tbody>\n",
       "</table>\n",
       "<p>5 rows × 51 columns</p>\n",
       "</div>"
      ],
      "text/plain": [
       "  names      1600      1601      1602      1603      1604      1605  1606  \\\n",
       "0   LDA  1.000000  0.989529  0.999061  1.000000  1.000000  0.994949   1.0   \n",
       "1   KNN  0.979206  0.893506  0.993476  0.960663  0.971429  0.948980   1.0   \n",
       "2  CART  1.000000  0.976378  0.995314  1.000000  0.994152  0.994949   1.0   \n",
       "3    NB  1.000000  0.863158  0.999061  1.000000  0.862944  0.994949   1.0   \n",
       "4   SVM  0.868852  0.811060  0.930192  0.820513  0.831325  0.791252   1.0   \n",
       "\n",
       "       1607      1608  ...      1641      1642      1643      1644      1645  \\\n",
       "0  1.000000  1.000000  ...  0.832041  1.000000  1.000000  0.995851  0.990991   \n",
       "1  0.979048  0.976959  ...  0.821159  0.980676  0.978328  0.995851  0.985075   \n",
       "2  0.992424  0.995349  ...  0.807786  0.992665  1.000000  0.995851  0.990991   \n",
       "3  0.876596  0.971429  ...  0.848649  0.980676  0.996885  0.993763  0.886667   \n",
       "4  0.857143  0.930693  ...  0.850267  0.980676  0.893855  0.924855  0.985075   \n",
       "\n",
       "       1646      1647      1648      1649      1650  \n",
       "0  1.000000  0.995633  0.997912  1.000000  0.993684  \n",
       "1  0.989362  0.965957  1.000000  0.955224  0.985138  \n",
       "2  1.000000  0.980392  0.993789  0.982609  1.000000  \n",
       "3  1.000000  0.997812  0.930435  0.892632  0.812352  \n",
       "4  0.986807  0.812834  0.958084  0.861004  0.917466  \n",
       "\n",
       "[5 rows x 51 columns]"
      ]
     },
     "execution_count": 265,
     "metadata": {},
     "output_type": "execute_result"
    }
   ],
   "source": [
    "f1_score_metrics"
   ]
  },
  {
   "cell_type": "code",
   "execution_count": 266,
   "metadata": {},
   "outputs": [],
   "source": [
    "f1_score_metrics.to_csv('f1_score_metrics_manually_feature_selection.csv')"
   ]
  },
  {
   "cell_type": "markdown",
   "metadata": {},
   "source": [
    "### 6.2 Evaluate the model performance on features after PCA"
   ]
  },
  {
   "cell_type": "code",
   "execution_count": 267,
   "metadata": {},
   "outputs": [],
   "source": [
    "accuracy_df_pca, f1_score_metrics_pca = split_train_test_data_for_each_subject(phone_data_feature_extracted_cleaned)"
   ]
  },
  {
   "cell_type": "code",
   "execution_count": 268,
   "metadata": {
    "scrolled": true
   },
   "outputs": [
    {
     "data": {
      "text/html": [
       "<div>\n",
       "<style scoped>\n",
       "    .dataframe tbody tr th:only-of-type {\n",
       "        vertical-align: middle;\n",
       "    }\n",
       "\n",
       "    .dataframe tbody tr th {\n",
       "        vertical-align: top;\n",
       "    }\n",
       "\n",
       "    .dataframe thead th {\n",
       "        text-align: right;\n",
       "    }\n",
       "</style>\n",
       "<table border=\"1\" class=\"dataframe\">\n",
       "  <thead>\n",
       "    <tr style=\"text-align: right;\">\n",
       "      <th></th>\n",
       "      <th>names</th>\n",
       "      <th>1600</th>\n",
       "      <th>1601</th>\n",
       "      <th>1602</th>\n",
       "      <th>1603</th>\n",
       "      <th>1604</th>\n",
       "      <th>1605</th>\n",
       "      <th>1606</th>\n",
       "      <th>1607</th>\n",
       "      <th>1608</th>\n",
       "      <th>...</th>\n",
       "      <th>1641</th>\n",
       "      <th>1642</th>\n",
       "      <th>1643</th>\n",
       "      <th>1644</th>\n",
       "      <th>1645</th>\n",
       "      <th>1646</th>\n",
       "      <th>1647</th>\n",
       "      <th>1648</th>\n",
       "      <th>1649</th>\n",
       "      <th>1650</th>\n",
       "    </tr>\n",
       "  </thead>\n",
       "  <tbody>\n",
       "    <tr>\n",
       "      <th>0</th>\n",
       "      <td>LDA</td>\n",
       "      <td>1.000000</td>\n",
       "      <td>1.000000</td>\n",
       "      <td>0.996737</td>\n",
       "      <td>1.000000</td>\n",
       "      <td>1.000000</td>\n",
       "      <td>1.000000</td>\n",
       "      <td>1.00000</td>\n",
       "      <td>0.997297</td>\n",
       "      <td>1.000000</td>\n",
       "      <td>...</td>\n",
       "      <td>1.0</td>\n",
       "      <td>1.000000</td>\n",
       "      <td>1.000000</td>\n",
       "      <td>0.996032</td>\n",
       "      <td>1.000000</td>\n",
       "      <td>1.000000</td>\n",
       "      <td>1.000000</td>\n",
       "      <td>1.000000</td>\n",
       "      <td>0.985030</td>\n",
       "      <td>1.000000</td>\n",
       "    </tr>\n",
       "    <tr>\n",
       "      <th>1</th>\n",
       "      <td>KNN</td>\n",
       "      <td>1.000000</td>\n",
       "      <td>1.000000</td>\n",
       "      <td>0.998369</td>\n",
       "      <td>1.000000</td>\n",
       "      <td>1.000000</td>\n",
       "      <td>1.000000</td>\n",
       "      <td>1.00000</td>\n",
       "      <td>0.989189</td>\n",
       "      <td>0.997183</td>\n",
       "      <td>...</td>\n",
       "      <td>1.0</td>\n",
       "      <td>1.000000</td>\n",
       "      <td>0.996764</td>\n",
       "      <td>0.996032</td>\n",
       "      <td>0.980769</td>\n",
       "      <td>0.977528</td>\n",
       "      <td>0.997368</td>\n",
       "      <td>0.986301</td>\n",
       "      <td>0.988024</td>\n",
       "      <td>0.992857</td>\n",
       "    </tr>\n",
       "    <tr>\n",
       "      <th>2</th>\n",
       "      <td>CART</td>\n",
       "      <td>0.944928</td>\n",
       "      <td>0.967066</td>\n",
       "      <td>0.954323</td>\n",
       "      <td>0.974026</td>\n",
       "      <td>0.985185</td>\n",
       "      <td>0.944928</td>\n",
       "      <td>0.99375</td>\n",
       "      <td>0.897297</td>\n",
       "      <td>0.988732</td>\n",
       "      <td>...</td>\n",
       "      <td>1.0</td>\n",
       "      <td>0.985423</td>\n",
       "      <td>0.899676</td>\n",
       "      <td>0.996032</td>\n",
       "      <td>0.992308</td>\n",
       "      <td>0.988764</td>\n",
       "      <td>0.957895</td>\n",
       "      <td>0.928082</td>\n",
       "      <td>0.925150</td>\n",
       "      <td>0.917857</td>\n",
       "    </tr>\n",
       "    <tr>\n",
       "      <th>3</th>\n",
       "      <td>NB</td>\n",
       "      <td>0.988406</td>\n",
       "      <td>0.976048</td>\n",
       "      <td>0.967374</td>\n",
       "      <td>0.980519</td>\n",
       "      <td>1.000000</td>\n",
       "      <td>0.982609</td>\n",
       "      <td>1.00000</td>\n",
       "      <td>0.967568</td>\n",
       "      <td>0.966197</td>\n",
       "      <td>...</td>\n",
       "      <td>1.0</td>\n",
       "      <td>0.985423</td>\n",
       "      <td>0.980583</td>\n",
       "      <td>0.996032</td>\n",
       "      <td>1.000000</td>\n",
       "      <td>1.000000</td>\n",
       "      <td>0.994737</td>\n",
       "      <td>0.986301</td>\n",
       "      <td>0.916168</td>\n",
       "      <td>0.928571</td>\n",
       "    </tr>\n",
       "    <tr>\n",
       "      <th>4</th>\n",
       "      <td>SVM</td>\n",
       "      <td>1.000000</td>\n",
       "      <td>1.000000</td>\n",
       "      <td>0.996737</td>\n",
       "      <td>1.000000</td>\n",
       "      <td>1.000000</td>\n",
       "      <td>1.000000</td>\n",
       "      <td>1.00000</td>\n",
       "      <td>0.997297</td>\n",
       "      <td>1.000000</td>\n",
       "      <td>...</td>\n",
       "      <td>1.0</td>\n",
       "      <td>1.000000</td>\n",
       "      <td>1.000000</td>\n",
       "      <td>0.996032</td>\n",
       "      <td>0.992308</td>\n",
       "      <td>1.000000</td>\n",
       "      <td>1.000000</td>\n",
       "      <td>0.986301</td>\n",
       "      <td>0.997006</td>\n",
       "      <td>0.996429</td>\n",
       "    </tr>\n",
       "  </tbody>\n",
       "</table>\n",
       "<p>5 rows × 51 columns</p>\n",
       "</div>"
      ],
      "text/plain": [
       "  names      1600      1601      1602      1603      1604      1605     1606  \\\n",
       "0   LDA  1.000000  1.000000  0.996737  1.000000  1.000000  1.000000  1.00000   \n",
       "1   KNN  1.000000  1.000000  0.998369  1.000000  1.000000  1.000000  1.00000   \n",
       "2  CART  0.944928  0.967066  0.954323  0.974026  0.985185  0.944928  0.99375   \n",
       "3    NB  0.988406  0.976048  0.967374  0.980519  1.000000  0.982609  1.00000   \n",
       "4   SVM  1.000000  1.000000  0.996737  1.000000  1.000000  1.000000  1.00000   \n",
       "\n",
       "       1607      1608  ...  1641      1642      1643      1644      1645  \\\n",
       "0  0.997297  1.000000  ...   1.0  1.000000  1.000000  0.996032  1.000000   \n",
       "1  0.989189  0.997183  ...   1.0  1.000000  0.996764  0.996032  0.980769   \n",
       "2  0.897297  0.988732  ...   1.0  0.985423  0.899676  0.996032  0.992308   \n",
       "3  0.967568  0.966197  ...   1.0  0.985423  0.980583  0.996032  1.000000   \n",
       "4  0.997297  1.000000  ...   1.0  1.000000  1.000000  0.996032  0.992308   \n",
       "\n",
       "       1646      1647      1648      1649      1650  \n",
       "0  1.000000  1.000000  1.000000  0.985030  1.000000  \n",
       "1  0.977528  0.997368  0.986301  0.988024  0.992857  \n",
       "2  0.988764  0.957895  0.928082  0.925150  0.917857  \n",
       "3  1.000000  0.994737  0.986301  0.916168  0.928571  \n",
       "4  1.000000  1.000000  0.986301  0.997006  0.996429  \n",
       "\n",
       "[5 rows x 51 columns]"
      ]
     },
     "execution_count": 268,
     "metadata": {},
     "output_type": "execute_result"
    }
   ],
   "source": [
    "accuracy_df_pca"
   ]
  },
  {
   "cell_type": "code",
   "execution_count": 270,
   "metadata": {},
   "outputs": [],
   "source": [
    "accuracy_df_pca.to_csv('accuracy_df_pca.csv')"
   ]
  },
  {
   "cell_type": "code",
   "execution_count": 269,
   "metadata": {
    "scrolled": false
   },
   "outputs": [
    {
     "data": {
      "text/html": [
       "<div>\n",
       "<style scoped>\n",
       "    .dataframe tbody tr th:only-of-type {\n",
       "        vertical-align: middle;\n",
       "    }\n",
       "\n",
       "    .dataframe tbody tr th {\n",
       "        vertical-align: top;\n",
       "    }\n",
       "\n",
       "    .dataframe thead th {\n",
       "        text-align: right;\n",
       "    }\n",
       "</style>\n",
       "<table border=\"1\" class=\"dataframe\">\n",
       "  <thead>\n",
       "    <tr style=\"text-align: right;\">\n",
       "      <th></th>\n",
       "      <th>names</th>\n",
       "      <th>1600</th>\n",
       "      <th>1601</th>\n",
       "      <th>1602</th>\n",
       "      <th>1603</th>\n",
       "      <th>1604</th>\n",
       "      <th>1605</th>\n",
       "      <th>1606</th>\n",
       "      <th>1607</th>\n",
       "      <th>1608</th>\n",
       "      <th>...</th>\n",
       "      <th>1641</th>\n",
       "      <th>1642</th>\n",
       "      <th>1643</th>\n",
       "      <th>1644</th>\n",
       "      <th>1645</th>\n",
       "      <th>1646</th>\n",
       "      <th>1647</th>\n",
       "      <th>1648</th>\n",
       "      <th>1649</th>\n",
       "      <th>1650</th>\n",
       "    </tr>\n",
       "  </thead>\n",
       "  <tbody>\n",
       "    <tr>\n",
       "      <th>0</th>\n",
       "      <td>LDA</td>\n",
       "      <td>1.000000</td>\n",
       "      <td>1.000000</td>\n",
       "      <td>0.998124</td>\n",
       "      <td>1.000000</td>\n",
       "      <td>1.000000</td>\n",
       "      <td>1.000000</td>\n",
       "      <td>1.000000</td>\n",
       "      <td>0.998117</td>\n",
       "      <td>1.000000</td>\n",
       "      <td>...</td>\n",
       "      <td>1.0</td>\n",
       "      <td>1.000000</td>\n",
       "      <td>1.000000</td>\n",
       "      <td>0.997658</td>\n",
       "      <td>1.000000</td>\n",
       "      <td>1.000000</td>\n",
       "      <td>1.000000</td>\n",
       "      <td>1.000000</td>\n",
       "      <td>0.989059</td>\n",
       "      <td>1.000000</td>\n",
       "    </tr>\n",
       "    <tr>\n",
       "      <th>1</th>\n",
       "      <td>KNN</td>\n",
       "      <td>1.000000</td>\n",
       "      <td>1.000000</td>\n",
       "      <td>0.999061</td>\n",
       "      <td>1.000000</td>\n",
       "      <td>1.000000</td>\n",
       "      <td>1.000000</td>\n",
       "      <td>1.000000</td>\n",
       "      <td>0.992509</td>\n",
       "      <td>0.998110</td>\n",
       "      <td>...</td>\n",
       "      <td>1.0</td>\n",
       "      <td>1.000000</td>\n",
       "      <td>0.998117</td>\n",
       "      <td>0.997658</td>\n",
       "      <td>0.990291</td>\n",
       "      <td>0.988506</td>\n",
       "      <td>0.998185</td>\n",
       "      <td>0.992509</td>\n",
       "      <td>0.991342</td>\n",
       "      <td>0.995798</td>\n",
       "    </tr>\n",
       "    <tr>\n",
       "      <th>2</th>\n",
       "      <td>CART</td>\n",
       "      <td>0.963671</td>\n",
       "      <td>0.976139</td>\n",
       "      <td>0.973635</td>\n",
       "      <td>0.980392</td>\n",
       "      <td>0.989418</td>\n",
       "      <td>0.960499</td>\n",
       "      <td>0.995833</td>\n",
       "      <td>0.929104</td>\n",
       "      <td>0.992395</td>\n",
       "      <td>...</td>\n",
       "      <td>1.0</td>\n",
       "      <td>0.991394</td>\n",
       "      <td>0.941620</td>\n",
       "      <td>0.997658</td>\n",
       "      <td>0.996063</td>\n",
       "      <td>0.994186</td>\n",
       "      <td>0.970480</td>\n",
       "      <td>0.960748</td>\n",
       "      <td>0.946237</td>\n",
       "      <td>0.951782</td>\n",
       "    </tr>\n",
       "    <tr>\n",
       "      <th>3</th>\n",
       "      <td>NB</td>\n",
       "      <td>0.992481</td>\n",
       "      <td>0.982833</td>\n",
       "      <td>0.981343</td>\n",
       "      <td>0.985075</td>\n",
       "      <td>1.000000</td>\n",
       "      <td>0.987552</td>\n",
       "      <td>1.000000</td>\n",
       "      <td>0.977860</td>\n",
       "      <td>0.977695</td>\n",
       "      <td>...</td>\n",
       "      <td>1.0</td>\n",
       "      <td>0.991453</td>\n",
       "      <td>0.988806</td>\n",
       "      <td>0.997658</td>\n",
       "      <td>1.000000</td>\n",
       "      <td>1.000000</td>\n",
       "      <td>0.996377</td>\n",
       "      <td>0.992481</td>\n",
       "      <td>0.941667</td>\n",
       "      <td>0.959514</td>\n",
       "    </tr>\n",
       "    <tr>\n",
       "      <th>4</th>\n",
       "      <td>SVM</td>\n",
       "      <td>1.000000</td>\n",
       "      <td>1.000000</td>\n",
       "      <td>0.998124</td>\n",
       "      <td>1.000000</td>\n",
       "      <td>1.000000</td>\n",
       "      <td>1.000000</td>\n",
       "      <td>1.000000</td>\n",
       "      <td>0.998110</td>\n",
       "      <td>1.000000</td>\n",
       "      <td>...</td>\n",
       "      <td>1.0</td>\n",
       "      <td>1.000000</td>\n",
       "      <td>1.000000</td>\n",
       "      <td>0.997658</td>\n",
       "      <td>0.996094</td>\n",
       "      <td>1.000000</td>\n",
       "      <td>1.000000</td>\n",
       "      <td>0.992509</td>\n",
       "      <td>0.997821</td>\n",
       "      <td>0.997895</td>\n",
       "    </tr>\n",
       "  </tbody>\n",
       "</table>\n",
       "<p>5 rows × 51 columns</p>\n",
       "</div>"
      ],
      "text/plain": [
       "  names      1600      1601      1602      1603      1604      1605      1606  \\\n",
       "0   LDA  1.000000  1.000000  0.998124  1.000000  1.000000  1.000000  1.000000   \n",
       "1   KNN  1.000000  1.000000  0.999061  1.000000  1.000000  1.000000  1.000000   \n",
       "2  CART  0.963671  0.976139  0.973635  0.980392  0.989418  0.960499  0.995833   \n",
       "3    NB  0.992481  0.982833  0.981343  0.985075  1.000000  0.987552  1.000000   \n",
       "4   SVM  1.000000  1.000000  0.998124  1.000000  1.000000  1.000000  1.000000   \n",
       "\n",
       "       1607      1608  ...  1641      1642      1643      1644      1645  \\\n",
       "0  0.998117  1.000000  ...   1.0  1.000000  1.000000  0.997658  1.000000   \n",
       "1  0.992509  0.998110  ...   1.0  1.000000  0.998117  0.997658  0.990291   \n",
       "2  0.929104  0.992395  ...   1.0  0.991394  0.941620  0.997658  0.996063   \n",
       "3  0.977860  0.977695  ...   1.0  0.991453  0.988806  0.997658  1.000000   \n",
       "4  0.998110  1.000000  ...   1.0  1.000000  1.000000  0.997658  0.996094   \n",
       "\n",
       "       1646      1647      1648      1649      1650  \n",
       "0  1.000000  1.000000  1.000000  0.989059  1.000000  \n",
       "1  0.988506  0.998185  0.992509  0.991342  0.995798  \n",
       "2  0.994186  0.970480  0.960748  0.946237  0.951782  \n",
       "3  1.000000  0.996377  0.992481  0.941667  0.959514  \n",
       "4  1.000000  1.000000  0.992509  0.997821  0.997895  \n",
       "\n",
       "[5 rows x 51 columns]"
      ]
     },
     "execution_count": 269,
     "metadata": {},
     "output_type": "execute_result"
    }
   ],
   "source": [
    "f1_score_metrics_pca"
   ]
  },
  {
   "cell_type": "code",
   "execution_count": 271,
   "metadata": {},
   "outputs": [],
   "source": [
    "f1_score_metrics_pca.to_csv('f1_score_metrics_pca.csv')"
   ]
  },
  {
   "cell_type": "markdown",
   "metadata": {},
   "source": [
    "### Conclusion: From the results above, using PCA to do feature reduction will generate much better results than manually selecting features."
   ]
  }
 ],
 "metadata": {
  "kernelspec": {
   "display_name": "Python 3",
   "language": "python",
   "name": "python3"
  },
  "language_info": {
   "codemirror_mode": {
    "name": "ipython",
    "version": 3
   },
   "file_extension": ".py",
   "mimetype": "text/x-python",
   "name": "python",
   "nbconvert_exporter": "python",
   "pygments_lexer": "ipython3",
   "version": "3.7.6"
  }
 },
 "nbformat": 4,
 "nbformat_minor": 4
}
